{
  "nbformat": 4,
  "nbformat_minor": 0,
  "metadata": {
    "colab": {
      "name": "LinearRegression.ipynb",
      "provenance": [],
      "collapsed_sections": [],
      "include_colab_link": true
    },
    "kernelspec": {
      "name": "python3",
      "display_name": "Python 3"
    },
    "language_info": {
      "name": "python"
    }
  },
  "cells": [
    {
      "cell_type": "markdown",
      "metadata": {
        "id": "view-in-github",
        "colab_type": "text"
      },
      "source": [
        "<a href=\"https://colab.research.google.com/github/DrashtySoni/Python-for-Data-Science-Beginner-to-Advaced-/blob/main/LinearRegression.ipynb\" target=\"_parent\"><img src=\"https://colab.research.google.com/assets/colab-badge.svg\" alt=\"Open In Colab\"/></a>"
      ]
    },
    {
      "cell_type": "markdown",
      "source": [
        "# **Simple Linear Regression - Prediction of Explanatory Variable**\n",
        "<hr/>\n",
        "\n",
        "Submitted by: <br>\n",
        "> Name: **Drashty Ranpara** <br>\n",
        "Register Number: **21122018** <br>\n",
        "Class: **2MSCDS** <br> \n",
        "<hr/>\n",
        "\n",
        "## **Problem Statement -** \n",
        "To predict the income expense based on the training data\n",
        "\n",
        "## **Variables**\n",
        "> 1. *Training Data* - Independent Variable\n",
        "> 2. *Income Expense* - Dependent Variable "
      ],
      "metadata": {
        "id": "VPBKlJOoY-s3"
      }
    },
    {
      "cell_type": "markdown",
      "source": [
        "## **Import necessary libraries for Linear Regression -**"
      ],
      "metadata": {
        "id": "t5Y9-z-_XGk9"
      }
    },
    {
      "cell_type": "code",
      "metadata": {
        "id": "JLsIwfZvuDdf"
      },
      "source": [
        "import numpy as np #math cal\n",
        "import pandas as pd #data manipulation\n",
        "import matplotlib.pyplot as plt #plotting\n",
        "import math # For SquareRoot"
      ],
      "execution_count": 4,
      "outputs": []
    },
    {
      "cell_type": "markdown",
      "source": [
        "## **Read the data file -**"
      ],
      "metadata": {
        "id": "-Xh4aAprXDbY"
      }
    },
    {
      "cell_type": "code",
      "metadata": {
        "colab": {
          "base_uri": "https://localhost:8080/",
          "height": 206
        },
        "id": "28-E1t_VCZu6",
        "outputId": "0e2ef4d5-f1c2-4d9d-abf9-6445f5c7073a"
      },
      "source": [
        "#Read the csv file\n",
        "\n",
        "data = pd.read_csv(\"/content/sample_data/sampledata.csv\")\n",
        "data.head()"
      ],
      "execution_count": 44,
      "outputs": [
        {
          "output_type": "execute_result",
          "data": {
            "text/plain": [
              "   TRAININGDATA  INCOMEEXPENSE\n",
              "0            30             16\n",
              "1            31             15\n",
              "2            28             14\n",
              "3            20             10\n",
              "4            26             13"
            ],
            "text/html": [
              "\n",
              "  <div id=\"df-65f07399-057a-4496-bb58-2fc5e9410718\">\n",
              "    <div class=\"colab-df-container\">\n",
              "      <div>\n",
              "<style scoped>\n",
              "    .dataframe tbody tr th:only-of-type {\n",
              "        vertical-align: middle;\n",
              "    }\n",
              "\n",
              "    .dataframe tbody tr th {\n",
              "        vertical-align: top;\n",
              "    }\n",
              "\n",
              "    .dataframe thead th {\n",
              "        text-align: right;\n",
              "    }\n",
              "</style>\n",
              "<table border=\"1\" class=\"dataframe\">\n",
              "  <thead>\n",
              "    <tr style=\"text-align: right;\">\n",
              "      <th></th>\n",
              "      <th>TRAININGDATA</th>\n",
              "      <th>INCOMEEXPENSE</th>\n",
              "    </tr>\n",
              "  </thead>\n",
              "  <tbody>\n",
              "    <tr>\n",
              "      <th>0</th>\n",
              "      <td>30</td>\n",
              "      <td>16</td>\n",
              "    </tr>\n",
              "    <tr>\n",
              "      <th>1</th>\n",
              "      <td>31</td>\n",
              "      <td>15</td>\n",
              "    </tr>\n",
              "    <tr>\n",
              "      <th>2</th>\n",
              "      <td>28</td>\n",
              "      <td>14</td>\n",
              "    </tr>\n",
              "    <tr>\n",
              "      <th>3</th>\n",
              "      <td>20</td>\n",
              "      <td>10</td>\n",
              "    </tr>\n",
              "    <tr>\n",
              "      <th>4</th>\n",
              "      <td>26</td>\n",
              "      <td>13</td>\n",
              "    </tr>\n",
              "  </tbody>\n",
              "</table>\n",
              "</div>\n",
              "      <button class=\"colab-df-convert\" onclick=\"convertToInteractive('df-65f07399-057a-4496-bb58-2fc5e9410718')\"\n",
              "              title=\"Convert this dataframe to an interactive table.\"\n",
              "              style=\"display:none;\">\n",
              "        \n",
              "  <svg xmlns=\"http://www.w3.org/2000/svg\" height=\"24px\"viewBox=\"0 0 24 24\"\n",
              "       width=\"24px\">\n",
              "    <path d=\"M0 0h24v24H0V0z\" fill=\"none\"/>\n",
              "    <path d=\"M18.56 5.44l.94 2.06.94-2.06 2.06-.94-2.06-.94-.94-2.06-.94 2.06-2.06.94zm-11 1L8.5 8.5l.94-2.06 2.06-.94-2.06-.94L8.5 2.5l-.94 2.06-2.06.94zm10 10l.94 2.06.94-2.06 2.06-.94-2.06-.94-.94-2.06-.94 2.06-2.06.94z\"/><path d=\"M17.41 7.96l-1.37-1.37c-.4-.4-.92-.59-1.43-.59-.52 0-1.04.2-1.43.59L10.3 9.45l-7.72 7.72c-.78.78-.78 2.05 0 2.83L4 21.41c.39.39.9.59 1.41.59.51 0 1.02-.2 1.41-.59l7.78-7.78 2.81-2.81c.8-.78.8-2.07 0-2.86zM5.41 20L4 18.59l7.72-7.72 1.47 1.35L5.41 20z\"/>\n",
              "  </svg>\n",
              "      </button>\n",
              "      \n",
              "  <style>\n",
              "    .colab-df-container {\n",
              "      display:flex;\n",
              "      flex-wrap:wrap;\n",
              "      gap: 12px;\n",
              "    }\n",
              "\n",
              "    .colab-df-convert {\n",
              "      background-color: #E8F0FE;\n",
              "      border: none;\n",
              "      border-radius: 50%;\n",
              "      cursor: pointer;\n",
              "      display: none;\n",
              "      fill: #1967D2;\n",
              "      height: 32px;\n",
              "      padding: 0 0 0 0;\n",
              "      width: 32px;\n",
              "    }\n",
              "\n",
              "    .colab-df-convert:hover {\n",
              "      background-color: #E2EBFA;\n",
              "      box-shadow: 0px 1px 2px rgba(60, 64, 67, 0.3), 0px 1px 3px 1px rgba(60, 64, 67, 0.15);\n",
              "      fill: #174EA6;\n",
              "    }\n",
              "\n",
              "    [theme=dark] .colab-df-convert {\n",
              "      background-color: #3B4455;\n",
              "      fill: #D2E3FC;\n",
              "    }\n",
              "\n",
              "    [theme=dark] .colab-df-convert:hover {\n",
              "      background-color: #434B5C;\n",
              "      box-shadow: 0px 1px 3px 1px rgba(0, 0, 0, 0.15);\n",
              "      filter: drop-shadow(0px 1px 2px rgba(0, 0, 0, 0.3));\n",
              "      fill: #FFFFFF;\n",
              "    }\n",
              "  </style>\n",
              "\n",
              "      <script>\n",
              "        const buttonEl =\n",
              "          document.querySelector('#df-65f07399-057a-4496-bb58-2fc5e9410718 button.colab-df-convert');\n",
              "        buttonEl.style.display =\n",
              "          google.colab.kernel.accessAllowed ? 'block' : 'none';\n",
              "\n",
              "        async function convertToInteractive(key) {\n",
              "          const element = document.querySelector('#df-65f07399-057a-4496-bb58-2fc5e9410718');\n",
              "          const dataTable =\n",
              "            await google.colab.kernel.invokeFunction('convertToInteractive',\n",
              "                                                     [key], {});\n",
              "          if (!dataTable) return;\n",
              "\n",
              "          const docLinkHtml = 'Like what you see? Visit the ' +\n",
              "            '<a target=\"_blank\" href=https://colab.research.google.com/notebooks/data_table.ipynb>data table notebook</a>'\n",
              "            + ' to learn more about interactive tables.';\n",
              "          element.innerHTML = '';\n",
              "          dataTable['output_type'] = 'display_data';\n",
              "          await google.colab.output.renderOutput(dataTable, element);\n",
              "          const docLink = document.createElement('div');\n",
              "          docLink.innerHTML = docLinkHtml;\n",
              "          element.appendChild(docLink);\n",
              "        }\n",
              "      </script>\n",
              "    </div>\n",
              "  </div>\n",
              "  "
            ]
          },
          "metadata": {},
          "execution_count": 44
        }
      ]
    },
    {
      "cell_type": "markdown",
      "source": [
        "## **Choose the features to be used for prediction -**"
      ],
      "metadata": {
        "id": "MmHIOcZ4W_3S"
      }
    },
    {
      "cell_type": "code",
      "metadata": {
        "id": "DJCCuOzQJbM3",
        "colab": {
          "base_uri": "https://localhost:8080/"
        },
        "outputId": "1113d6a7-09f3-488b-ee52-63563143ab46"
      },
      "source": [
        "data = data[[\"TRAININGDATA\",\"INCOMEEXPENSE\"]]\n",
        "print(data.head())\n",
        "type(data)"
      ],
      "execution_count": 6,
      "outputs": [
        {
          "output_type": "stream",
          "name": "stdout",
          "text": [
            "   TRAININGDATA  INCOMEEXPENSE\n",
            "0            30             16\n",
            "1            31             15\n",
            "2            28             14\n",
            "3            20             10\n",
            "4            26             13\n"
          ]
        },
        {
          "output_type": "execute_result",
          "data": {
            "text/plain": [
              "pandas.core.frame.DataFrame"
            ]
          },
          "metadata": {},
          "execution_count": 6
        }
      ]
    },
    {
      "cell_type": "markdown",
      "source": [
        "## **Scatter Plot : TRAININGDATA VS INCOMEEXPENSE**"
      ],
      "metadata": {
        "id": "9PDAVlAhW5Na"
      }
    },
    {
      "cell_type": "code",
      "metadata": {
        "id": "lm0Y_il6KStr",
        "colab": {
          "base_uri": "https://localhost:8080/",
          "height": 295
        },
        "outputId": "6ed3299b-0e60-4ff7-c386-f65652e1f058"
      },
      "source": [
        "#Scatter Plot\n",
        "#TRAININGDATA VS INCOMEEXPENSE :\n",
        "\n",
        "plt.scatter(data[\"TRAININGDATA\"],data[\"INCOMEEXPENSE\"])\n",
        "plt.title(\"TRAININGDATA VS INCOMEEXPENSE\")\n",
        "plt.xlabel(\"Training Data\")\n",
        "plt.ylabel(\"Income\")\n",
        "plt.show()"
      ],
      "execution_count": 7,
      "outputs": [
        {
          "output_type": "display_data",
          "data": {
            "text/plain": [
              "<Figure size 432x288 with 1 Axes>"
            ],
            "image/png": "[encoded data removed]"
          },
          "metadata": {
            "needs_background": "light"
          }
        }
      ]
    },
    {
      "cell_type": "markdown",
      "source": [
        "## **Split into Training(80%) and Testing(20%) data -**"
      ],
      "metadata": {
        "id": "dCSJgoFEWwyM"
      }
    },
    {
      "cell_type": "code",
      "metadata": {
        "id": "H3SdesuUK8_M",
        "colab": {
          "base_uri": "https://localhost:8080/"
        },
        "outputId": "adb10cdd-0a3b-46d9-f8b0-ef5da8df93e9"
      },
      "source": [
        "#80% of the data for training and 20% for testing\n",
        "number = int(len(data)*0.8)\n",
        "\n",
        "#Training data:\n",
        "traindata = data[:number]\n",
        "\n",
        "#Testing data:\n",
        "testdata = data[number:]\n",
        "\n",
        "print (\"Data Lenght: \",len(data))\n",
        "print (\"Training Data: \",len(traindata))\n",
        "print (\"Testing Data: \",len(testdata))"
      ],
      "execution_count": 8,
      "outputs": [
        {
          "output_type": "stream",
          "name": "stdout",
          "text": [
            "Data Lenght:  10\n",
            "Training Data:  8\n",
            "Testing Data:  2\n"
          ]
        }
      ]
    },
    {
      "cell_type": "markdown",
      "source": [
        "## **Custom Linear Regression Function -**"
      ],
      "metadata": {
        "id": "XW0zJTxxWsSv"
      }
    },
    {
      "cell_type": "code",
      "metadata": {
        "id": "StK_EaQIRQF1"
      },
      "source": [
        "#Function to find different co-eff.\n",
        "\n",
        "def linear_regression(input,output):\n",
        "    \n",
        "    #Assignment of params\n",
        "    Xi = input\n",
        "    Yi = output\n",
        "    \n",
        "    #Total number of data\n",
        "    n = len(Xi)\n",
        "    \n",
        "    #X Mean:\n",
        "    Xi_mean = Xi.mean()\n",
        "    \n",
        "    #Y Mean:\n",
        "    Yi_mean = Yi.mean()\n",
        "    \n",
        "    #∑ of X:\n",
        "    Sum_Xi = (Xi).sum()\n",
        "    \n",
        "    #∑ of Y:\n",
        "    Sum_Yi = (Yi).sum()\n",
        "    \n",
        "    #∑ of (X*Y) * n:\n",
        "    Sum_XiYi = ((Xi*Yi).sum())*n\n",
        "    \n",
        "    #∑ of X*∑Y:\n",
        "    Sum_Xi_Sum_Yi = Sum_Xi*Sum_Yi\n",
        "    \n",
        "    #∑(X*X) * n:\n",
        "    Sum_XiXi = ((Xi*Xi).sum())*n\n",
        "    \n",
        "    #(∑X)2:\n",
        "    Sum_Xi_Square = Sum_Xi*Sum_Xi\n",
        "    \n",
        "    #Slope(m):\n",
        "    slope = (Sum_XiYi - Sum_Xi_Sum_Yi) / (Sum_XiXi-Sum_Xi_Square)\n",
        "    \n",
        "    #Intercept(b):\n",
        "    intercept = Yi_mean - slope * Xi_mean\n",
        "    \n",
        "    return slope,intercept"
      ],
      "execution_count": 9,
      "outputs": []
    },
    {
      "cell_type": "markdown",
      "source": [
        "## **Calculating Slope(β1) and Intercept(β0) in Y=β0 + β1X + ε**\n",
        "> **Y**  = Dependent Variable\n",
        "\n",
        "> **β0** = Intercept\n",
        "\n",
        "> **β1** = Slope of line\n",
        "\n",
        "> **X**  = Explanatory Variable(Independent Variable)\n",
        "\n",
        "> **ε**  = Error/Residual Term"
      ],
      "metadata": {
        "id": "ftzgzw-bXR8E"
      }
    },
    {
      "cell_type": "code",
      "metadata": {
        "id": "UJdW_t9Jz_kS",
        "colab": {
          "base_uri": "https://localhost:8080/"
        },
        "outputId": "6a0609ab-2202-4116-db48-beaa7ee7ef71"
      },
      "source": [
        "#Training with train data\n",
        "#Finding co-eff of best fit line\n",
        "\n",
        "real_slope,real_intercept = linear_regression(traindata[\"TRAININGDATA\"],traindata[\"INCOMEEXPENSE\"])\n",
        "\n",
        "print (\"Slope: \" ,real_slope)\n",
        "print (\"Intercept: \" ,real_intercept)"
      ],
      "execution_count": 10,
      "outputs": [
        {
          "output_type": "stream",
          "name": "stdout",
          "text": [
            "Slope:  0.4853801169590643\n",
            "Intercept:  0.6447368421052637\n"
          ]
        }
      ]
    },
    {
      "cell_type": "markdown",
      "source": [
        "## **Plot Training Data -**"
      ],
      "metadata": {
        "id": "KFbZqDl0WnOr"
      }
    },
    {
      "cell_type": "code",
      "metadata": {
        "id": "2uvR6Jgv1M5q",
        "colab": {
          "base_uri": "https://localhost:8080/",
          "height": 279
        },
        "outputId": "55a926a4-8aca-4468-ff7b-1f8d63b0389b"
      },
      "source": [
        "#Plot line with training data\n",
        "\n",
        "plt.scatter(traindata[\"TRAININGDATA\"],traindata[\"INCOMEEXPENSE\"])\n",
        "plt.plot(traindata[\"TRAININGDATA\"],real_slope*traindata[\"TRAININGDATA\"]+real_intercept,color=\"purple\")  # Y=mX+B\n",
        "plt.xlabel(\"Training Data\")\n",
        "plt.ylabel(\"Income Expense\")\n",
        "plt.show()"
      ],
      "execution_count": 11,
      "outputs": [
        {
          "output_type": "display_data",
          "data": {
            "text/plain": [
              "<Figure size 432x288 with 1 Axes>"
            ],
            "image/png": "[encoded data removed]"
          },
          "metadata": {
            "needs_background": "light"
          }
        }
      ]
    },
    {
      "cell_type": "markdown",
      "source": [
        "## **Predicting values-**"
      ],
      "metadata": {
        "id": "pyZmsVcyWf0L"
      }
    },
    {
      "cell_type": "code",
      "metadata": {
        "id": "qOh6Obmq1Qp-"
      },
      "source": [
        "#Defining prediction function:\n",
        "\n",
        "def fetch_regression_prediction(input,slope,intercept):\n",
        "    pred_value = real_slope*input + real_intercept\n",
        "    return pred_value"
      ],
      "execution_count": 12,
      "outputs": []
    },
    {
      "cell_type": "code",
      "metadata": {
        "id": "IOXojgdX1bzX",
        "colab": {
          "base_uri": "https://localhost:8080/"
        },
        "outputId": "73cf7e33-4183-4426-fd05-46225c4c2931"
      },
      "source": [
        "#Predicting values\n",
        "my_training_data = 13\n",
        "\n",
        "estimated_income = fetch_regression_prediction(my_training_data,real_slope,real_intercept)\n",
        "\n",
        "print (\"Estimated Income Expense: \",estimated_income)"
      ],
      "execution_count": 13,
      "outputs": [
        {
          "output_type": "stream",
          "name": "stdout",
          "text": [
            "Estimated Income Expense:  6.9546783625731\n"
          ]
        }
      ]
    },
    {
      "cell_type": "code",
      "metadata": {
        "id": "1CaYw4bJ4HvP",
        "colab": {
          "base_uri": "https://localhost:8080/"
        },
        "outputId": "cdae6783-0367-4660-f9c1-ba7fa57992f0"
      },
      "source": [
        "#Predicting values for whole data\n",
        "\n",
        "y_prediction = fetch_regression_prediction(data[\"TRAININGDATA\"],real_slope,real_intercept)\n",
        "print(y_prediction)"
      ],
      "execution_count": 26,
      "outputs": [
        {
          "output_type": "stream",
          "name": "stdout",
          "text": [
            "0    15.206140\n",
            "1    15.691520\n",
            "2    14.235380\n",
            "3    10.352339\n",
            "4    13.264620\n",
            "5    20.059942\n",
            "6    11.808480\n",
            "7     9.381579\n",
            "8    11.323099\n",
            "9    14.720760\n",
            "Name: TRAININGDATA, dtype: float64\n"
          ]
        }
      ]
    },
    {
      "cell_type": "markdown",
      "source": [
        "## **Plot Testing Data -**"
      ],
      "metadata": {
        "id": "PoyQl4H4WVBe"
      }
    },
    {
      "cell_type": "code",
      "metadata": {
        "id": "37Rb0F6L1jVX",
        "colab": {
          "base_uri": "https://localhost:8080/",
          "height": 279
        },
        "outputId": "1c5c20bc-fcb2-42ff-c92f-1085a1188dc6"
      },
      "source": [
        "#Plot line for test data\n",
        "\n",
        "plt.scatter(testdata[\"TRAININGDATA\"],testdata[\"INCOMEEXPENSE\"])\n",
        "plt.plot(testdata[\"TRAININGDATA\"],real_slope*testdata[\"TRAININGDATA\"]+real_intercept,color=\"red\")\n",
        "plt.xlabel(\"Training Data\")\n",
        "plt.ylabel(\"Income Expense\")\n",
        "plt.show()"
      ],
      "execution_count": 15,
      "outputs": [
        {
          "output_type": "display_data",
          "data": {
            "text/plain": [
              "<Figure size 432x288 with 1 Axes>"
            ],
            "image/png": "[encoded data removed]"
          },
          "metadata": {
            "needs_background": "light"
          }
        }
      ]
    },
    {
      "cell_type": "code",
      "metadata": {
        "id": "sNdXnxrl1uwT",
        "colab": {
          "base_uri": "https://localhost:8080/",
          "height": 279
        },
        "outputId": "36ae29e6-749d-4e9a-c00b-e19cf863c398"
      },
      "source": [
        "#Plot line for complete data (train + test)\n",
        "\n",
        "plt.scatter(data[\"TRAININGDATA\"],data[\"INCOMEEXPENSE\"])\n",
        "plt.plot(data[\"TRAININGDATA\"],real_slope*data[\"TRAININGDATA\"]+real_intercept,color=\"orange\")\n",
        "plt.xlabel(\"Training Data\")\n",
        "plt.ylabel(\"Income Expense\")\n",
        "plt.show()"
      ],
      "execution_count": 16,
      "outputs": [
        {
          "output_type": "display_data",
          "data": {
            "text/plain": [
              "<Figure size 432x288 with 1 Axes>"
            ],
            "image/png": "[encoded data removed]"
          },
          "metadata": {
            "needs_background": "light"
          }
        }
      ]
    },
    {
      "cell_type": "markdown",
      "source": [
        "## **Real vs Predicted Value**"
      ],
      "metadata": {
        "id": "_dyyl7c-Uek4"
      }
    },
    {
      "cell_type": "code",
      "metadata": {
        "id": "M2qg7K1X19FZ",
        "colab": {
          "base_uri": "https://localhost:8080/",
          "height": 363
        },
        "outputId": "ecde6bfe-68c8-4419-9bdd-52f1acae08b6"
      },
      "source": [
        "#DataFrame for Actual and Predicted values:\n",
        "real_pred_data = pd.DataFrame({\"Real Value\":data[\"INCOMEEXPENSE\"] , \"Predicted Value\" :y_prediction})\n",
        "real_pred_data.head(10)"
      ],
      "execution_count": 17,
      "outputs": [
        {
          "output_type": "execute_result",
          "data": {
            "text/plain": [
              "   Real Value  Predicted Value\n",
              "0          16        15.206140\n",
              "1          15        15.691520\n",
              "2          14        14.235380\n",
              "3          10        10.352339\n",
              "4          13        13.264620\n",
              "5          20        20.059942\n",
              "6          13        11.808480\n",
              "7           9         9.381579\n",
              "8           8        11.323099\n",
              "9          19        14.720760"
            ],
            "text/html": [
              "\n",
              "  <div id=\"df-d6d055a4-fb41-4950-aae7-14162d247e2c\">\n",
              "    <div class=\"colab-df-container\">\n",
              "      <div>\n",
              "<style scoped>\n",
              "    .dataframe tbody tr th:only-of-type {\n",
              "        vertical-align: middle;\n",
              "    }\n",
              "\n",
              "    .dataframe tbody tr th {\n",
              "        vertical-align: top;\n",
              "    }\n",
              "\n",
              "    .dataframe thead th {\n",
              "        text-align: right;\n",
              "    }\n",
              "</style>\n",
              "<table border=\"1\" class=\"dataframe\">\n",
              "  <thead>\n",
              "    <tr style=\"text-align: right;\">\n",
              "      <th></th>\n",
              "      <th>Real Value</th>\n",
              "      <th>Predicted Value</th>\n",
              "    </tr>\n",
              "  </thead>\n",
              "  <tbody>\n",
              "    <tr>\n",
              "      <th>0</th>\n",
              "      <td>16</td>\n",
              "      <td>15.206140</td>\n",
              "    </tr>\n",
              "    <tr>\n",
              "      <th>1</th>\n",
              "      <td>15</td>\n",
              "      <td>15.691520</td>\n",
              "    </tr>\n",
              "    <tr>\n",
              "      <th>2</th>\n",
              "      <td>14</td>\n",
              "      <td>14.235380</td>\n",
              "    </tr>\n",
              "    <tr>\n",
              "      <th>3</th>\n",
              "      <td>10</td>\n",
              "      <td>10.352339</td>\n",
              "    </tr>\n",
              "    <tr>\n",
              "      <th>4</th>\n",
              "      <td>13</td>\n",
              "      <td>13.264620</td>\n",
              "    </tr>\n",
              "    <tr>\n",
              "      <th>5</th>\n",
              "      <td>20</td>\n",
              "      <td>20.059942</td>\n",
              "    </tr>\n",
              "    <tr>\n",
              "      <th>6</th>\n",
              "      <td>13</td>\n",
              "      <td>11.808480</td>\n",
              "    </tr>\n",
              "    <tr>\n",
              "      <th>7</th>\n",
              "      <td>9</td>\n",
              "      <td>9.381579</td>\n",
              "    </tr>\n",
              "    <tr>\n",
              "      <th>8</th>\n",
              "      <td>8</td>\n",
              "      <td>11.323099</td>\n",
              "    </tr>\n",
              "    <tr>\n",
              "      <th>9</th>\n",
              "      <td>19</td>\n",
              "      <td>14.720760</td>\n",
              "    </tr>\n",
              "  </tbody>\n",
              "</table>\n",
              "</div>\n",
              "      <button class=\"colab-df-convert\" onclick=\"convertToInteractive('df-d6d055a4-fb41-4950-aae7-14162d247e2c')\"\n",
              "              title=\"Convert this dataframe to an interactive table.\"\n",
              "              style=\"display:none;\">\n",
              "        \n",
              "  <svg xmlns=\"http://www.w3.org/2000/svg\" height=\"24px\"viewBox=\"0 0 24 24\"\n",
              "       width=\"24px\">\n",
              "    <path d=\"M0 0h24v24H0V0z\" fill=\"none\"/>\n",
              "    <path d=\"M18.56 5.44l.94 2.06.94-2.06 2.06-.94-2.06-.94-.94-2.06-.94 2.06-2.06.94zm-11 1L8.5 8.5l.94-2.06 2.06-.94-2.06-.94L8.5 2.5l-.94 2.06-2.06.94zm10 10l.94 2.06.94-2.06 2.06-.94-2.06-.94-.94-2.06-.94 2.06-2.06.94z\"/><path d=\"M17.41 7.96l-1.37-1.37c-.4-.4-.92-.59-1.43-.59-.52 0-1.04.2-1.43.59L10.3 9.45l-7.72 7.72c-.78.78-.78 2.05 0 2.83L4 21.41c.39.39.9.59 1.41.59.51 0 1.02-.2 1.41-.59l7.78-7.78 2.81-2.81c.8-.78.8-2.07 0-2.86zM5.41 20L4 18.59l7.72-7.72 1.47 1.35L5.41 20z\"/>\n",
              "  </svg>\n",
              "      </button>\n",
              "      \n",
              "  <style>\n",
              "    .colab-df-container {\n",
              "      display:flex;\n",
              "      flex-wrap:wrap;\n",
              "      gap: 12px;\n",
              "    }\n",
              "\n",
              "    .colab-df-convert {\n",
              "      background-color: #E8F0FE;\n",
              "      border: none;\n",
              "      border-radius: 50%;\n",
              "      cursor: pointer;\n",
              "      display: none;\n",
              "      fill: #1967D2;\n",
              "      height: 32px;\n",
              "      padding: 0 0 0 0;\n",
              "      width: 32px;\n",
              "    }\n",
              "\n",
              "    .colab-df-convert:hover {\n",
              "      background-color: #E2EBFA;\n",
              "      box-shadow: 0px 1px 2px rgba(60, 64, 67, 0.3), 0px 1px 3px 1px rgba(60, 64, 67, 0.15);\n",
              "      fill: #174EA6;\n",
              "    }\n",
              "\n",
              "    [theme=dark] .colab-df-convert {\n",
              "      background-color: #3B4455;\n",
              "      fill: #D2E3FC;\n",
              "    }\n",
              "\n",
              "    [theme=dark] .colab-df-convert:hover {\n",
              "      background-color: #434B5C;\n",
              "      box-shadow: 0px 1px 3px 1px rgba(0, 0, 0, 0.15);\n",
              "      filter: drop-shadow(0px 1px 2px rgba(0, 0, 0, 0.3));\n",
              "      fill: #FFFFFF;\n",
              "    }\n",
              "  </style>\n",
              "\n",
              "      <script>\n",
              "        const buttonEl =\n",
              "          document.querySelector('#df-d6d055a4-fb41-4950-aae7-14162d247e2c button.colab-df-convert');\n",
              "        buttonEl.style.display =\n",
              "          google.colab.kernel.accessAllowed ? 'block' : 'none';\n",
              "\n",
              "        async function convertToInteractive(key) {\n",
              "          const element = document.querySelector('#df-d6d055a4-fb41-4950-aae7-14162d247e2c');\n",
              "          const dataTable =\n",
              "            await google.colab.kernel.invokeFunction('convertToInteractive',\n",
              "                                                     [key], {});\n",
              "          if (!dataTable) return;\n",
              "\n",
              "          const docLinkHtml = 'Like what you see? Visit the ' +\n",
              "            '<a target=\"_blank\" href=https://colab.research.google.com/notebooks/data_table.ipynb>data table notebook</a>'\n",
              "            + ' to learn more about interactive tables.';\n",
              "          element.innerHTML = '';\n",
              "          dataTable['output_type'] = 'display_data';\n",
              "          await google.colab.output.renderOutput(dataTable, element);\n",
              "          const docLink = document.createElement('div');\n",
              "          docLink.innerHTML = docLinkHtml;\n",
              "          element.appendChild(docLink);\n",
              "        }\n",
              "      </script>\n",
              "    </div>\n",
              "  </div>\n",
              "  "
            ]
          },
          "metadata": {},
          "execution_count": 17
        }
      ]
    },
    {
      "cell_type": "markdown",
      "source": [
        "## **Errors/Residuals -**\n",
        "> 1. Residual Sum of Squares *(RSS)*\n",
        "> 2. Total Sum of Squares *(TSS)*\n",
        "> 3. R Squared *(R2)*\n",
        "> 4. Sum of Squared Error *(SSE)*\n",
        "> 5. Root Mean Squared Error *(RMSE)*\n",
        "> 6. Mean Absolute Error *(MAE)*\n"
      ],
      "metadata": {
        "id": "dOO9nBtxUklr"
      }
    },
    {
      "cell_type": "markdown",
      "source": [
        "> **Regression sum of squares (RSS/SSR)**\n",
        "\n",
        "> ![picture](https://timeseriesreasoning.files.wordpress.com/2021/06/5a1cd-1dyafin0cu1y68rvodalb5a.png)\n",
        "\n",
        ">- The second term is the sum of squares due to regression, or SSR. It is the sum of the differences between the predicted value and the mean of the dependent variable. Think of it as a measure that describes how well our line fits the data.\n",
        ">- If this value of SSR is equal to the sum of squares total, it means our regression model captures all the observed variability and is perfect. Once again, we have to mention that another common notation is ESS or explained sum of squares."
      ],
      "metadata": {
        "id": "ZyM3nh7Hzmb2"
      }
    },
    {
      "cell_type": "code",
      "metadata": {
        "id": "w4g0nY855TLa",
        "colab": {
          "base_uri": "https://localhost:8080/"
        },
        "outputId": "8703f7ec-5dd0-441f-befe-90cfe791b349"
      },
      "source": [
        "#Residual Sum of Squares (RSS):\n",
        "\n",
        "def residual_sum_of_squares(input,output,slope,intercept):\n",
        "    prediction = slope*input + intercept # y=mx+b\n",
        "\n",
        "    \n",
        "    res = (output - prediction)\n",
        "     \n",
        "    RSS = (res*res).sum() #∑ i = 1 to n (Yiactual − Yipredicted) 2\n",
        "    \n",
        "    return(RSS)\n",
        "\n",
        "#Calculating Residual Sum of Squares\n",
        "\n",
        "RSS = residual_sum_of_squares(testdata[\"TRAININGDATA\"],testdata[\"INCOMEEXPENSE\"],real_slope,real_intercept)\n",
        "print (\"Residual Sum of Squares(RSS) : \",RSS)"
      ],
      "execution_count": 38,
      "outputs": [
        {
          "output_type": "stream",
          "name": "stdout",
          "text": [
            "Residual Sum of Squares(RSS) :  29.354882698950114\n"
          ]
        }
      ]
    },
    {
      "cell_type": "markdown",
      "source": [
        "> **Total sum of squares (TSS)**\n",
        "\n",
        "> ![picture](https://timeseriesreasoning.files.wordpress.com/2021/06/f70e6-1gzsnbi_wkdfzkjhz9esx0g.png)\n",
        "\n",
        ">- The sum of squares total, denoted SST, is the squared differences between the observed dependent variable and its mean. You can think of this as the dispersion of the observed variables around the mean – much like the variance in descriptive statistics.\n",
        ">- It is a measure of the total variability of the dataset.\n",
        "\n",
        ">- **Side note**: There is another notation for the SST. It is TSS or total sum of squares."
      ],
      "metadata": {
        "id": "6ILkRAidvZHO"
      }
    },
    {
      "cell_type": "code",
      "metadata": {
        "id": "t4_cGiIc5wTV",
        "colab": {
          "base_uri": "https://localhost:8080/"
        },
        "outputId": "8d2f0d70-0b74-4162-a433-2989e3324c2c"
      },
      "source": [
        "#Error calculation using Total Sum of Squares (TSS):\n",
        "\n",
        "def total_sum_of_squares(output):\n",
        "    Yi = output\n",
        "\n",
        "    Yi_mean = Yi.mean()\n",
        "    \n",
        "    total_sum = (Yi - Yi_mean)\n",
        "     \n",
        "    TSS = (total_sum*total_sum).sum() #∑ i = 1 to n (Yiactual − Ymean) 2\n",
        "    \n",
        "    return(TSS)\n",
        "\n",
        "#Calculating Total Sum of Squares\n",
        "\n",
        "TSS = total_sum_of_squares(testdata[\"INCOMEEXPENSE\"])\n",
        "print (\"Total Sum of Squares(TSS) : \",TSS)"
      ],
      "execution_count": 37,
      "outputs": [
        {
          "output_type": "stream",
          "name": "stdout",
          "text": [
            "Total Sum of Squares(TSS) :  60.5\n"
          ]
        }
      ]
    },
    {
      "cell_type": "markdown",
      "source": [
        "> **R Squared (R2)**\n",
        "\n",
        "> ![picture](https://editor.analyticsvidhya.com/uploads/22091R2%20Squared%20Formula.png)\n",
        "\n",
        ">- If the R2 score is zero then the above regression line by mean line is equal means 1 so 1-1 is zero. So, in this case, both lines are overlapping means model performance is worst, It is not capable to take advantage of the output column.\n",
        "\n",
        ">- Now the second case is when the R2 score is 1, it means when the division term is zero and it will happen when the regression line does not make any mistake, it is perfect. In the real world, it is not possible.\n",
        "\n",
        ">- So we can conclude that as our regression line moves towards perfection, R2 score move towards one. And the model performance improves."
      ],
      "metadata": {
        "id": "lK_LzYmauzjI"
      }
    },
    {
      "cell_type": "code",
      "metadata": {
        "colab": {
          "base_uri": "https://localhost:8080/"
        },
        "id": "_Q-A666S1x6n",
        "outputId": "02a5c448-16ff-40d8-f066-b81f8f12b662"
      },
      "source": [
        "#R Squared\n",
        "\n",
        "def r_squared(RSS,TSS):\n",
        "\n",
        "    R_Sq = 1-(RSS/TSS) # 1-(RSS/TSS)\n",
        "    \n",
        "    return(R_Sq)\n",
        "\n",
        "#Calculating R Squared error\n",
        "R_Sq=r_squared(rss,tss)\n",
        "print (\"R Squared(R2) : \",R_Sq)"
      ],
      "execution_count": 36,
      "outputs": [
        {
          "output_type": "stream",
          "name": "stdout",
          "text": [
            "R Squared(R2) :  0.5147953272900807\n"
          ]
        }
      ]
    },
    {
      "cell_type": "markdown",
      "source": [
        "> **Error Sum of Squares (SSE)**\n",
        "\n",
        "> ![picture](https://www.datavedas.com/wp-content/uploads/2018/04/image001-1-300x105.png)\n",
        "\n",
        "> SSE is the sum of the squared differences between each observation and its group's mean. It can be used as a measure of variation within a cluster. If all cases within a cluster are identical the SSE would then be equal to 0."
      ],
      "metadata": {
        "id": "HV3OyCTLhigC"
      }
    },
    {
      "cell_type": "code",
      "metadata": {
        "colab": {
          "base_uri": "https://localhost:8080/"
        },
        "id": "4iAtzPx04AA-",
        "outputId": "3073be4c-d155-4318-eec7-74b4f64687e5"
      },
      "source": [
        "#Sum of Squared Error (SSE)\n",
        "\n",
        "def sum_of_squared_error(RSS,TSS):\n",
        "\n",
        "    SSE = TSS-RSS # SST=SSR+SSE / TSS=RSS+ESS / SSE=SST-SSR / ESS=TSS-RSS \n",
        "    \n",
        "    return(SSE)\n",
        "\n",
        "#Calculating Sum of Squared Error\n",
        "SSE=sum_of_squared_error(rss,tss)\n",
        "print (\"Sum of Squared Error(SSE/ESS) : \",SSE)"
      ],
      "execution_count": 35,
      "outputs": [
        {
          "output_type": "stream",
          "name": "stdout",
          "text": [
            "Sum of Squared Error(SSE/ESS) :  31.145117301049886\n"
          ]
        }
      ]
    },
    {
      "cell_type": "markdown",
      "source": [
        "> **Root Mean Squared Error(RMSE)**\n",
        "\n",
        "> ![picture](https://editor.analyticsvidhya.com/uploads/34962RMSLE%20Formula.png)\n",
        "\n",
        "> **Advantages of RMSE**\n",
        "> - The output value you get is in the same unit as the required output variable which makes interpretation of loss easy.\n",
        "\n",
        ">**Disadvantages of RMSE**\n",
        "> - It is not that robust to outliers as compared to MAE.\n",
        "for performing RMSE we have to NumPy NumPy square root function over MSE."
      ],
      "metadata": {
        "id": "K-UL7m6Jg9Sw"
      }
    },
    {
      "cell_type": "code",
      "metadata": {
        "colab": {
          "base_uri": "https://localhost:8080/"
        },
        "id": "OdCQlefXDOac",
        "outputId": "f8032f3d-d14a-440b-ff11-9b8d9a3d141f"
      },
      "source": [
        "#Root Mean Squared Error (RMSE)\n",
        "\n",
        "def root_mean_squared_error(RSS):\n",
        "    n = len(data)\n",
        "    mean_squared = RSS/n # Root(RSS/no. of data)\n",
        "    RMSE = math.sqrt(mean_squared)  \n",
        "    \n",
        "    return(RMSE)\n",
        "\n",
        "#Calculating Root Mean Squared Error\n",
        "RMSE=root_mean_squared_error(rss)\n",
        "print (\"Root Mean Squared Error (RMSE) : \",RMSE)"
      ],
      "execution_count": 34,
      "outputs": [
        {
          "output_type": "stream",
          "name": "stdout",
          "text": [
            "Root Mean Squared Error (RMSE) :  3.1280922140579612\n"
          ]
        }
      ]
    },
    {
      "cell_type": "markdown",
      "source": [
        "> **Mean Absolute Error(MAE)**\n",
        "\n",
        "> ![picture](https://editor.analyticsvidhya.com/uploads/71890MAE%20Formula.png)\n",
        "\n",
        ">**Advantages of MAE**\n",
        "- The MAE you get is in the same unit as the output variable.\n",
        "- It is most Robust to outliers.\n",
        "\n",
        ">**Disadvantages of MAE**\n",
        "- The graph of MAE is not differentiable so we have to apply various optimizers like Gradient descent which can be differentiable."
      ],
      "metadata": {
        "id": "eo63QF5ncMt2"
      }
    },
    {
      "cell_type": "code",
      "metadata": {
        "colab": {
          "base_uri": "https://localhost:8080/"
        },
        "id": "Bae5iFhpGVbI",
        "outputId": "89ea0d34-df49-44b2-df9c-abe2676c7dfc"
      },
      "source": [
        "#Mean Absolute Error (MAE)\n",
        "\n",
        "def mean_absolute_error(RSS):\n",
        "    n = len(data)\n",
        "    mean_squared = RSS/n \n",
        "    MAE = abs(mean_squared)  # 1/n ∑ |Yiactual − Yipredicted|\n",
        "    \n",
        "    return(MAE)\n",
        "\n",
        "#Calculating R Squared error\n",
        "MAE=mean_absolute_error(rss)\n",
        "print (\"Mean Absolute Error(MAE) : \",MAE)"
      ],
      "execution_count": 30,
      "outputs": [
        {
          "output_type": "stream",
          "name": "stdout",
          "text": [
            "Mean Absolute Error(MAE) :  9.784960899650038\n"
          ]
        }
      ]
    },
    {
      "cell_type": "markdown",
      "source": [
        "## **Correlation Matrics -**"
      ],
      "metadata": {
        "id": "oxMLK3SgahPZ"
      }
    },
    {
      "cell_type": "code",
      "source": [
        "corr_data=pd.DataFrame(data.corr()['INCOMEEXPENSE'])\n",
        "corr_data"
      ],
      "metadata": {
        "colab": {
          "base_uri": "https://localhost:8080/",
          "height": 112
        },
        "id": "PNktySHNakBe",
        "outputId": "77d45fdd-ac49-4669-9f15-8430fd9f1c32"
      },
      "execution_count": 24,
      "outputs": [
        {
          "output_type": "execute_result",
          "data": {
            "text/plain": [
              "               INCOMEEXPENSE\n",
              "TRAININGDATA        0.888125\n",
              "INCOMEEXPENSE       1.000000"
            ],
            "text/html": [
              "\n",
              "  <div id=\"df-4d7e7e96-c8d6-4123-991f-3042f716edf0\">\n",
              "    <div class=\"colab-df-container\">\n",
              "      <div>\n",
              "<style scoped>\n",
              "    .dataframe tbody tr th:only-of-type {\n",
              "        vertical-align: middle;\n",
              "    }\n",
              "\n",
              "    .dataframe tbody tr th {\n",
              "        vertical-align: top;\n",
              "    }\n",
              "\n",
              "    .dataframe thead th {\n",
              "        text-align: right;\n",
              "    }\n",
              "</style>\n",
              "<table border=\"1\" class=\"dataframe\">\n",
              "  <thead>\n",
              "    <tr style=\"text-align: right;\">\n",
              "      <th></th>\n",
              "      <th>INCOMEEXPENSE</th>\n",
              "    </tr>\n",
              "  </thead>\n",
              "  <tbody>\n",
              "    <tr>\n",
              "      <th>TRAININGDATA</th>\n",
              "      <td>0.888125</td>\n",
              "    </tr>\n",
              "    <tr>\n",
              "      <th>INCOMEEXPENSE</th>\n",
              "      <td>1.000000</td>\n",
              "    </tr>\n",
              "  </tbody>\n",
              "</table>\n",
              "</div>\n",
              "      <button class=\"colab-df-convert\" onclick=\"convertToInteractive('df-4d7e7e96-c8d6-4123-991f-3042f716edf0')\"\n",
              "              title=\"Convert this dataframe to an interactive table.\"\n",
              "              style=\"display:none;\">\n",
              "        \n",
              "  <svg xmlns=\"http://www.w3.org/2000/svg\" height=\"24px\"viewBox=\"0 0 24 24\"\n",
              "       width=\"24px\">\n",
              "    <path d=\"M0 0h24v24H0V0z\" fill=\"none\"/>\n",
              "    <path d=\"M18.56 5.44l.94 2.06.94-2.06 2.06-.94-2.06-.94-.94-2.06-.94 2.06-2.06.94zm-11 1L8.5 8.5l.94-2.06 2.06-.94-2.06-.94L8.5 2.5l-.94 2.06-2.06.94zm10 10l.94 2.06.94-2.06 2.06-.94-2.06-.94-.94-2.06-.94 2.06-2.06.94z\"/><path d=\"M17.41 7.96l-1.37-1.37c-.4-.4-.92-.59-1.43-.59-.52 0-1.04.2-1.43.59L10.3 9.45l-7.72 7.72c-.78.78-.78 2.05 0 2.83L4 21.41c.39.39.9.59 1.41.59.51 0 1.02-.2 1.41-.59l7.78-7.78 2.81-2.81c.8-.78.8-2.07 0-2.86zM5.41 20L4 18.59l7.72-7.72 1.47 1.35L5.41 20z\"/>\n",
              "  </svg>\n",
              "      </button>\n",
              "      \n",
              "  <style>\n",
              "    .colab-df-container {\n",
              "      display:flex;\n",
              "      flex-wrap:wrap;\n",
              "      gap: 12px;\n",
              "    }\n",
              "\n",
              "    .colab-df-convert {\n",
              "      background-color: #E8F0FE;\n",
              "      border: none;\n",
              "      border-radius: 50%;\n",
              "      cursor: pointer;\n",
              "      display: none;\n",
              "      fill: #1967D2;\n",
              "      height: 32px;\n",
              "      padding: 0 0 0 0;\n",
              "      width: 32px;\n",
              "    }\n",
              "\n",
              "    .colab-df-convert:hover {\n",
              "      background-color: #E2EBFA;\n",
              "      box-shadow: 0px 1px 2px rgba(60, 64, 67, 0.3), 0px 1px 3px 1px rgba(60, 64, 67, 0.15);\n",
              "      fill: #174EA6;\n",
              "    }\n",
              "\n",
              "    [theme=dark] .colab-df-convert {\n",
              "      background-color: #3B4455;\n",
              "      fill: #D2E3FC;\n",
              "    }\n",
              "\n",
              "    [theme=dark] .colab-df-convert:hover {\n",
              "      background-color: #434B5C;\n",
              "      box-shadow: 0px 1px 3px 1px rgba(0, 0, 0, 0.15);\n",
              "      filter: drop-shadow(0px 1px 2px rgba(0, 0, 0, 0.3));\n",
              "      fill: #FFFFFF;\n",
              "    }\n",
              "  </style>\n",
              "\n",
              "      <script>\n",
              "        const buttonEl =\n",
              "          document.querySelector('#df-4d7e7e96-c8d6-4123-991f-3042f716edf0 button.colab-df-convert');\n",
              "        buttonEl.style.display =\n",
              "          google.colab.kernel.accessAllowed ? 'block' : 'none';\n",
              "\n",
              "        async function convertToInteractive(key) {\n",
              "          const element = document.querySelector('#df-4d7e7e96-c8d6-4123-991f-3042f716edf0');\n",
              "          const dataTable =\n",
              "            await google.colab.kernel.invokeFunction('convertToInteractive',\n",
              "                                                     [key], {});\n",
              "          if (!dataTable) return;\n",
              "\n",
              "          const docLinkHtml = 'Like what you see? Visit the ' +\n",
              "            '<a target=\"_blank\" href=https://colab.research.google.com/notebooks/data_table.ipynb>data table notebook</a>'\n",
              "            + ' to learn more about interactive tables.';\n",
              "          element.innerHTML = '';\n",
              "          dataTable['output_type'] = 'display_data';\n",
              "          await google.colab.output.renderOutput(dataTable, element);\n",
              "          const docLink = document.createElement('div');\n",
              "          docLink.innerHTML = docLinkHtml;\n",
              "          element.appendChild(docLink);\n",
              "        }\n",
              "      </script>\n",
              "    </div>\n",
              "  </div>\n",
              "  "
            ]
          },
          "metadata": {},
          "execution_count": 24
        }
      ]
    },
    {
      "cell_type": "markdown",
      "source": [
        "**Inference -** So, we can conclude by seeing Dataframe that TrainingData's correlation value is 0.888125 which is near to +1, shows positive relation w.r.t. IncomeExpense."
      ],
      "metadata": {
        "id": "VQWFmEywbyBB"
      }
    },
    {
      "cell_type": "markdown",
      "source": [
        "> ### Look at the **heatmap of the correlated data** to trigger our visual thinking"
      ],
      "metadata": {
        "id": "ddPlsF80a3wp"
      }
    },
    {
      "cell_type": "code",
      "source": [
        "import seaborn as sns\n",
        "import matplotlib.pyplot as plt\n",
        "fig, ax = plt.subplots(figsize=(11, 11))\n",
        "sns.heatmap(data[corr_data.index].corr(), annot = True, annot_kws={'size': 12}, square=True, linecolor='w', linewidths=0.1)"
      ],
      "metadata": {
        "colab": {
          "base_uri": "https://localhost:8080/",
          "height": 651
        },
        "id": "cJZvUZ_aazWu",
        "outputId": "78bec5ea-ca11-44d4-c415-8c5e8823b59d"
      },
      "execution_count": 25,
      "outputs": [
        {
          "output_type": "execute_result",
          "data": {
            "text/plain": [
              "<matplotlib.axes._subplots.AxesSubplot at 0x7f6e58d472d0>"
            ]
          },
          "metadata": {},
          "execution_count": 25
        },
        {
          "output_type": "display_data",
          "data": {
            "text/plain": [
              "<Figure size 792x792 with 2 Axes>"
            ],
            "image/png": "[encoded data removed]"
          },
          "metadata": {
            "needs_background": "light"
          }
        }
      ]
    },
    {
      "cell_type": "markdown",
      "source": [
        "**Inference -** So, we can conclude that Training Data shows positive relation w.r.t. IncomeExpense."
      ],
      "metadata": {
        "id": "SUZ4hq5nbpHK"
      }
    },
    {
      "cell_type": "code",
      "source": [
        "# initialize data of lists.\n",
        "data = {'Independent Variable':['TRAININGDATA'],\n",
        "        'Dependent Variable':['INCOMEEXPENSE'],\n",
        "        'Residual Sum of Squares (RSS)':[RSS],\n",
        "        'Total Sum of Squares (TSS)':[TSS],\n",
        "        'R Squared (R2)':[R_Sq],\n",
        "        'Sum of Squared Error (SSE)':[SSE],\n",
        "        'Root Mean Squared Error (RMSE)':[RMSE],\n",
        "        'Mean Absolute Error (MAE)':[MAE]}      \n",
        " \n",
        "# Create DataFrame\n",
        "df = pd.DataFrame(data)\n",
        " \n",
        "# Print the output.\n",
        "df.T"
      ],
      "metadata": {
        "colab": {
          "base_uri": "https://localhost:8080/",
          "height": 300
        },
        "id": "8zuR6nf5bNvf",
        "outputId": "0ff4f63b-ef50-429c-b4f8-fc4db281853f"
      },
      "execution_count": 51,
      "outputs": [
        {
          "output_type": "execute_result",
          "data": {
            "text/plain": [
              "                                            0\n",
              "Independent Variable             TRAININGDATA\n",
              "Dependent Variable              INCOMEEXPENSE\n",
              "Residual Sum of Squares (RSS)       29.354883\n",
              "Total Sum of Squares (TSS)               60.5\n",
              "R Squared (R2)                       0.514795\n",
              "Sum of Squared Error (SSE)          31.145117\n",
              "Root Mean Squared Error (RMSE)       3.128092\n",
              "Mean Absolute Error (MAE)            9.784961"
            ],
            "text/html": [
              "\n",
              "  <div id=\"df-ee3b7163-5833-4c5e-9ae9-639753e1c2f1\">\n",
              "    <div class=\"colab-df-container\">\n",
              "      <div>\n",
              "<style scoped>\n",
              "    .dataframe tbody tr th:only-of-type {\n",
              "        vertical-align: middle;\n",
              "    }\n",
              "\n",
              "    .dataframe tbody tr th {\n",
              "        vertical-align: top;\n",
              "    }\n",
              "\n",
              "    .dataframe thead th {\n",
              "        text-align: right;\n",
              "    }\n",
              "</style>\n",
              "<table border=\"1\" class=\"dataframe\">\n",
              "  <thead>\n",
              "    <tr style=\"text-align: right;\">\n",
              "      <th></th>\n",
              "      <th>0</th>\n",
              "    </tr>\n",
              "  </thead>\n",
              "  <tbody>\n",
              "    <tr>\n",
              "      <th>Independent Variable</th>\n",
              "      <td>TRAININGDATA</td>\n",
              "    </tr>\n",
              "    <tr>\n",
              "      <th>Dependent Variable</th>\n",
              "      <td>INCOMEEXPENSE</td>\n",
              "    </tr>\n",
              "    <tr>\n",
              "      <th>Residual Sum of Squares (RSS)</th>\n",
              "      <td>29.354883</td>\n",
              "    </tr>\n",
              "    <tr>\n",
              "      <th>Total Sum of Squares (TSS)</th>\n",
              "      <td>60.5</td>\n",
              "    </tr>\n",
              "    <tr>\n",
              "      <th>R Squared (R2)</th>\n",
              "      <td>0.514795</td>\n",
              "    </tr>\n",
              "    <tr>\n",
              "      <th>Sum of Squared Error (SSE)</th>\n",
              "      <td>31.145117</td>\n",
              "    </tr>\n",
              "    <tr>\n",
              "      <th>Root Mean Squared Error (RMSE)</th>\n",
              "      <td>3.128092</td>\n",
              "    </tr>\n",
              "    <tr>\n",
              "      <th>Mean Absolute Error (MAE)</th>\n",
              "      <td>9.784961</td>\n",
              "    </tr>\n",
              "  </tbody>\n",
              "</table>\n",
              "</div>\n",
              "      <button class=\"colab-df-convert\" onclick=\"convertToInteractive('df-ee3b7163-5833-4c5e-9ae9-639753e1c2f1')\"\n",
              "              title=\"Convert this dataframe to an interactive table.\"\n",
              "              style=\"display:none;\">\n",
              "        \n",
              "  <svg xmlns=\"http://www.w3.org/2000/svg\" height=\"24px\"viewBox=\"0 0 24 24\"\n",
              "       width=\"24px\">\n",
              "    <path d=\"M0 0h24v24H0V0z\" fill=\"none\"/>\n",
              "    <path d=\"M18.56 5.44l.94 2.06.94-2.06 2.06-.94-2.06-.94-.94-2.06-.94 2.06-2.06.94zm-11 1L8.5 8.5l.94-2.06 2.06-.94-2.06-.94L8.5 2.5l-.94 2.06-2.06.94zm10 10l.94 2.06.94-2.06 2.06-.94-2.06-.94-.94-2.06-.94 2.06-2.06.94z\"/><path d=\"M17.41 7.96l-1.37-1.37c-.4-.4-.92-.59-1.43-.59-.52 0-1.04.2-1.43.59L10.3 9.45l-7.72 7.72c-.78.78-.78 2.05 0 2.83L4 21.41c.39.39.9.59 1.41.59.51 0 1.02-.2 1.41-.59l7.78-7.78 2.81-2.81c.8-.78.8-2.07 0-2.86zM5.41 20L4 18.59l7.72-7.72 1.47 1.35L5.41 20z\"/>\n",
              "  </svg>\n",
              "      </button>\n",
              "      \n",
              "  <style>\n",
              "    .colab-df-container {\n",
              "      display:flex;\n",
              "      flex-wrap:wrap;\n",
              "      gap: 12px;\n",
              "    }\n",
              "\n",
              "    .colab-df-convert {\n",
              "      background-color: #E8F0FE;\n",
              "      border: none;\n",
              "      border-radius: 50%;\n",
              "      cursor: pointer;\n",
              "      display: none;\n",
              "      fill: #1967D2;\n",
              "      height: 32px;\n",
              "      padding: 0 0 0 0;\n",
              "      width: 32px;\n",
              "    }\n",
              "\n",
              "    .colab-df-convert:hover {\n",
              "      background-color: #E2EBFA;\n",
              "      box-shadow: 0px 1px 2px rgba(60, 64, 67, 0.3), 0px 1px 3px 1px rgba(60, 64, 67, 0.15);\n",
              "      fill: #174EA6;\n",
              "    }\n",
              "\n",
              "    [theme=dark] .colab-df-convert {\n",
              "      background-color: #3B4455;\n",
              "      fill: #D2E3FC;\n",
              "    }\n",
              "\n",
              "    [theme=dark] .colab-df-convert:hover {\n",
              "      background-color: #434B5C;\n",
              "      box-shadow: 0px 1px 3px 1px rgba(0, 0, 0, 0.15);\n",
              "      filter: drop-shadow(0px 1px 2px rgba(0, 0, 0, 0.3));\n",
              "      fill: #FFFFFF;\n",
              "    }\n",
              "  </style>\n",
              "\n",
              "      <script>\n",
              "        const buttonEl =\n",
              "          document.querySelector('#df-ee3b7163-5833-4c5e-9ae9-639753e1c2f1 button.colab-df-convert');\n",
              "        buttonEl.style.display =\n",
              "          google.colab.kernel.accessAllowed ? 'block' : 'none';\n",
              "\n",
              "        async function convertToInteractive(key) {\n",
              "          const element = document.querySelector('#df-ee3b7163-5833-4c5e-9ae9-639753e1c2f1');\n",
              "          const dataTable =\n",
              "            await google.colab.kernel.invokeFunction('convertToInteractive',\n",
              "                                                     [key], {});\n",
              "          if (!dataTable) return;\n",
              "\n",
              "          const docLinkHtml = 'Like what you see? Visit the ' +\n",
              "            '<a target=\"_blank\" href=https://colab.research.google.com/notebooks/data_table.ipynb>data table notebook</a>'\n",
              "            + ' to learn more about interactive tables.';\n",
              "          element.innerHTML = '';\n",
              "          dataTable['output_type'] = 'display_data';\n",
              "          await google.colab.output.renderOutput(dataTable, element);\n",
              "          const docLink = document.createElement('div');\n",
              "          docLink.innerHTML = docLinkHtml;\n",
              "          element.appendChild(docLink);\n",
              "        }\n",
              "      </script>\n",
              "    </div>\n",
              "  </div>\n",
              "  "
            ]
          },
          "metadata": {},
          "execution_count": 51
        }
      ]
    },
    {
      "cell_type": "markdown",
      "source": [
        "## **Linear Regression in R to view *F score* and *p-value***\n",
        "<img src='https://drive.google.com/uc?id=1y6xrWIig8TinW0_ZVxiytFPDaiuWtIRP'>\n"
      ],
      "metadata": {
        "id": "aINfl8UZ8zZC"
      }
    },
    {
      "cell_type": "markdown",
      "source": [
        "## **Conclusion -**\n",
        "- We saw different error meethods and checked model accuracy in predicting explanatory variable along with model building and implementing simple linear regression in Python3.\n",
        "- *Regression analysis* is all about determining how changes in the independent variables are associated with changes in the dependent variable. Coefficients tell you about these changes and p-values tell you if these coefficients are significantly different from zero."
      ],
      "metadata": {
        "id": "c_ZWRSFQ6pcF"
      }
    }
  ]
}