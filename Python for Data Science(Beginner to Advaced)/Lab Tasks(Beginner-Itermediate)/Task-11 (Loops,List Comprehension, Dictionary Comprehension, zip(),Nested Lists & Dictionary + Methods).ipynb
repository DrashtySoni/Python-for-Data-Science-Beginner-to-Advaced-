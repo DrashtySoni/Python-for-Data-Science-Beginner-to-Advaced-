{
 "cells": [
  {
   "cell_type": "markdown",
   "id": "388eb62b",
   "metadata": {},
   "source": [
    "# Python Task-11 (15/10/2021) - 21122018_DrashtyRanpara_MSDS(I)\n",
    "\n",
    "## Task-11 (Loops,List Comprehension, Dictionary Comprehension, zip(),Nested Lists & Dictionary + Methods)  \n",
    "---"
   ]
  },
  {
   "cell_type": "code",
   "execution_count": 91,
   "id": "fac2e584",
   "metadata": {},
   "outputs": [],
   "source": [
    "from pprint import pprint as pp"
   ]
  },
  {
   "cell_type": "markdown",
   "id": "b22f2006",
   "metadata": {},
   "source": [
    "### 1. Creation of Dictionary"
   ]
  },
  {
   "cell_type": "code",
   "execution_count": 326,
   "id": "b4d7e680",
   "metadata": {},
   "outputs": [
    {
     "data": {
      "text/plain": [
       "{'01': ['YJHD', 'Hindi', 'Thrill+Romance', 5],\n",
       " '02': ['The Prestige', 'English', 'Thrill+Mystery', 4.5],\n",
       " '03': ['Spotlight', 'English', 'History+Crime', 4]}"
      ]
     },
     "execution_count": 326,
     "metadata": {},
     "output_type": "execute_result"
    }
   ],
   "source": [
    "movie={'01':['YJHD','Hindi','Thrill+Romance',5],\n",
    " '02':['The Prestige','English','Thrill+Mystery',4.5],\n",
    " '03':['Spotlight','English','History+Crime',4]}\n",
    "movie"
   ]
  },
  {
   "cell_type": "markdown",
   "id": "7952d71b",
   "metadata": {},
   "source": [
    "### 2. Insert into dictionary"
   ]
  },
  {
   "cell_type": "code",
   "execution_count": 327,
   "id": "9b6f6029",
   "metadata": {},
   "outputs": [
    {
     "name": "stdout",
     "output_type": "stream",
     "text": [
      "Enter key - 04\n",
      "Enter value - Roohi Hindi Horror/Comedy-drama 4.2\n"
     ]
    },
    {
     "data": {
      "text/plain": [
       "{'01': ['YJHD', 'Hindi', 'Thrill+Romance', 5],\n",
       " '02': ['The Prestige', 'English', 'Thrill+Mystery', 4.5],\n",
       " '03': ['Spotlight', 'English', 'History+Crime', 4],\n",
       " '04': ['Roohi', 'Hindi', 'Horror/Comedy-drama', '4.2']}"
      ]
     },
     "execution_count": 327,
     "metadata": {},
     "output_type": "execute_result"
    }
   ],
   "source": [
    "key = input(\"Enter key - \") \n",
    "value = input(\"Enter value - \").split() \n",
    "movie[key] = value # assigning input value to the input key\n",
    "movie"
   ]
  },
  {
   "cell_type": "markdown",
   "id": "3c30e8e1",
   "metadata": {},
   "source": [
    "### 3. Delete from dictionary"
   ]
  },
  {
   "cell_type": "code",
   "execution_count": 34,
   "id": "1d422b66",
   "metadata": {
    "scrolled": true
   },
   "outputs": [
    {
     "name": "stdout",
     "output_type": "stream",
     "text": [
      "Enter key04\n"
     ]
    },
    {
     "data": {
      "text/plain": [
       "{'01': ['YJHD', 'Hindi', 'Thrill+Romance', 5],\n",
       " '02': ['The Prestige', 'English', 'Thrill+Mystery', 4.5],\n",
       " '03': ['Spotlight', 'English', 'History+Crime', 4]}"
      ]
     },
     "execution_count": 34,
     "metadata": {},
     "output_type": "execute_result"
    }
   ],
   "source": [
    "key = input(\"Enter key\")\n",
    "del movie[key] # delete the element from dict according to input key\n",
    "movie"
   ]
  },
  {
   "cell_type": "markdown",
   "id": "61b724c3",
   "metadata": {},
   "source": [
    "### 4. Overwrite details in dictionary"
   ]
  },
  {
   "cell_type": "code",
   "execution_count": 92,
   "id": "def626b1",
   "metadata": {
    "scrolled": true
   },
   "outputs": [
    {
     "name": "stdout",
     "output_type": "stream",
     "text": [
      "key01\n",
      "Values - abc xyz pqr 5\n",
      "{'01': 'abc xyz pqr 5',\n",
      " '02': ['The Prestige', 'English', 'Thrill+Mystery', 4.5],\n",
      " '03': ['Spotlight', 'English', 'History+Crime', 4]}\n"
     ]
    }
   ],
   "source": [
    "for key in range(0,1),input('key'):\n",
    "    if key in movie:\n",
    "        movie.update([(key,input('Values - '))]) #update the values of dict according to the key given\n",
    "pp(movie)"
   ]
  },
  {
   "cell_type": "markdown",
   "id": "b491297f",
   "metadata": {},
   "source": [
    "### 5. Create a dictionary for a student register that stores the names of 5 students and marks of 5 subjects each.\n",
    "### 6. Print the marks of each student subjectwise and its aggregate of each student."
   ]
  },
  {
   "cell_type": "code",
   "execution_count": 325,
   "id": "c145e9ff",
   "metadata": {
    "scrolled": false
   },
   "outputs": [
    {
     "name": "stdout",
     "output_type": "stream",
     "text": [
      "Name Key - Drashty\n",
      "Marks of 5 subjects - 56 78 98 76 99\n",
      "Name Key - Unnati\n",
      "Marks of 5 subjects - 87 83 92 90 42\n",
      "Name Key - Disha\n",
      "Marks of 5 subjects - 67 84 56 69 94\n",
      "Name Key - Mansi\n",
      "Marks of 5 subjects - 55 66 77 88 99\n",
      "Name Key - Radhika\n",
      "Marks of 5 subjects - 98 90 89 84 67\n",
      "{'Disha': {'Database': 94,\n",
      "           'Mathematics': 67,\n",
      "           'Probability': 84,\n",
      "           'Python': 69,\n",
      "           'Statistics': 56},\n",
      " 'Drashty': {'Database': 99,\n",
      "             'Mathematics': 56,\n",
      "             'Probability': 78,\n",
      "             'Python': 76,\n",
      "             'Statistics': 98},\n",
      " 'Mansi': {'Database': 99,\n",
      "           'Mathematics': 55,\n",
      "           'Probability': 66,\n",
      "           'Python': 88,\n",
      "           'Statistics': 77},\n",
      " 'Radhika': {'Database': 67,\n",
      "             'Mathematics': 98,\n",
      "             'Probability': 90,\n",
      "             'Python': 84,\n",
      "             'Statistics': 89},\n",
      " 'Unnati': {'Database': 42,\n",
      "            'Mathematics': 87,\n",
      "            'Probability': 83,\n",
      "            'Python': 90,\n",
      "            'Statistics': 92}}\n",
      "'Sum of Drashty = 407'\n",
      "'Sum of Unnati = 394'\n",
      "'Sum of Disha = 370'\n",
      "'Sum of Mansi = 385'\n",
      "'Sum of Radhika = 428'\n"
     ]
    },
    {
     "data": {
      "text/plain": [
       "[None, None, None, None, None]"
      ]
     },
     "execution_count": 325,
     "metadata": {},
     "output_type": "execute_result"
    }
   ],
   "source": [
    "#Creating empty dicts and using dict comprehension assign NAME to KEY and zip MARKS + SUBJECTS as VALUE \n",
    "studList,ans={},{}\n",
    "for _ in range(5):\n",
    "    studList.update({input('Name Key - '):dict(zip(['Mathematics','Probability','Statistics','Python','Database'],\n",
    "                                [int(i) for i in input('Marks of 5 subjects - ').split()])) for key in range(1)})\n",
    "pp(studList)\n",
    "#Aggregation of marks per student according to keys\n",
    "[pp(f'Sum of {k} = {sum(v.values())}') for k,v in studList.items()]\n"
   ]
  }
 ],
 "metadata": {
  "kernelspec": {
   "display_name": "Python 3",
   "language": "python",
   "name": "python3"
  },
  "language_info": {
   "codemirror_mode": {
    "name": "ipython",
    "version": 3
   },
   "file_extension": ".py",
   "mimetype": "text/x-python",
   "name": "python",
   "nbconvert_exporter": "python",
   "pygments_lexer": "ipython3",
   "version": "3.8.8"
  }
 },
 "nbformat": 4,
 "nbformat_minor": 5
}
