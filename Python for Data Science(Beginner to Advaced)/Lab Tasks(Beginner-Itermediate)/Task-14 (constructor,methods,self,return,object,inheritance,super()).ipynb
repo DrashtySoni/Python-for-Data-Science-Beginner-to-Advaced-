{
 "cells": [
  {
   "cell_type": "markdown",
   "id": "413021c2",
   "metadata": {},
   "source": [
    "## Python Task-14 (12/11/2021) - 21122018_DrashtyRanpara_MSDS(I)\n",
    "### Task-14 (constructor,methods,self,return,object,inheritance,super())\n",
    "---"
   ]
  },
  {
   "cell_type": "markdown",
   "id": "928017c5",
   "metadata": {},
   "source": [
    "Create a class called Employee whose objects are records for an employee.\n",
    "This class will be a derived class of the class Person .\n",
    "An employee record has an employee's name (inherited from the class Person), an annual salary represented as a single value of type double, a year the employee started work as a single value of type int and a national insurance number, which is a value of type String.\n",
    "Your class should have a reasonable number of constructors and accessor methods, as well as an equals method. \n",
    "\n",
    "class Person\n",
    "{\n",
    "\t\n",
    "\n",
    "\tdef Person(self)\n",
    "\t{\n",
    "\t\tname = \"No name yet.\";\n",
    "\t}\n",
    "\tdef Person( self,n)\n",
    "\t{\n",
    "\t\tname = n;\n",
    "\t}\n",
    "\tdef setName(self, newName)\n",
    "\t{\n",
    "\t\tname = newName;\n",
    "\t}\n",
    "\tdef  getName(self)\n",
    "\t{\n",
    "\t\treturn name;\n",
    "\t}\n",
    "\tdef printn(self)\n",
    "\t{\n",
    "\t\tprint(\"Name: \" , name);\n",
    "\t}\n",
    "\tdef equals(self,p)\n",
    "\t{\n",
    "\t\treturn p.name;\n",
    "\t}\n",
    "}"
   ]
  },
  {
   "cell_type": "code",
   "execution_count": 45,
   "id": "777da9ee",
   "metadata": {},
   "outputs": [
    {
     "name": "stdout",
     "output_type": "stream",
     "text": [
      "Name = Drashty\n",
      "Salary = 50000\n",
      "Year = 2021\n",
      "Insurance Number = A001\n",
      "('Dee', 50000, 2021, 'A001')\n"
     ]
    }
   ],
   "source": [
    "class Person:\n",
    "    def __init__(self): \n",
    "        name = \"No name yet.\";\n",
    "    def __init__(self,n):\n",
    "        name = n;\n",
    "    def setName(self, newName):\n",
    "        name = newName;\n",
    "        print('Name is set.')\n",
    "    def getName(self):\n",
    "        return name;\n",
    "    def printn(self):\n",
    "        print(\"Name: \" , name);\n",
    "    def equals(self,p):\n",
    "        return p.name;\n",
    "\n",
    "class Employee(Person):\n",
    "    def __init__(self,n,sal,year,insno):\n",
    "        super().__init__(n) # In python 3 after inheitance super() gives access to use parent class method\n",
    "        self.n=n\n",
    "        self.sal=sal\n",
    "        self.year=year\n",
    "        self.insno=insno\n",
    "    def display(self):    \n",
    "        print(f'Name = {self.n}\\nSalary = {self.sal}\\nYear = {self.year}\\nInsurance Number = {self.insno}')\n",
    "    def equals(self,c):\n",
    "        self.c=c\n",
    "        return (self.c,self.sal,self.year,self.insno);\n",
    "obj1=Employee('Drashty',50000,2021,'A001')\n",
    "obj1.display()\n",
    "print(obj1.equals('Dee'))"
   ]
  },
  {
   "cell_type": "code",
   "execution_count": null,
   "id": "7ff2304c",
   "metadata": {},
   "outputs": [],
   "source": []
  }
 ],
 "metadata": {
  "kernelspec": {
   "display_name": "Python 3",
   "language": "python",
   "name": "python3"
  },
  "language_info": {
   "codemirror_mode": {
    "name": "ipython",
    "version": 3
   },
   "file_extension": ".py",
   "mimetype": "text/x-python",
   "name": "python",
   "nbconvert_exporter": "python",
   "pygments_lexer": "ipython3",
   "version": "3.8.8"
  }
 },
 "nbformat": 4,
 "nbformat_minor": 5
}
