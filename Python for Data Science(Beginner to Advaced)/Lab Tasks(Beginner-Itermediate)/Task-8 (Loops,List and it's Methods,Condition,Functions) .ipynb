{
 "cells": [
  {
   "cell_type": "markdown",
   "id": "7c29d574",
   "metadata": {},
   "source": [
    "# Python Task-8 (23/09/2021) - 21122018_DrashtyRanpara_MSDS(I)\n",
    "\n",
    "## Task-8 (Loops,List and it's Methods,Condition,Functions)  "
   ]
  },
  {
   "cell_type": "code",
   "execution_count": 1,
   "id": "5a10de17",
   "metadata": {
    "scrolled": false
   },
   "outputs": [
    {
     "name": "stdout",
     "output_type": "stream",
     "text": [
      "Enter number of elements : 5\n",
      "1\n",
      "2\n",
      "3\n",
      "4\n",
      "5\n"
     ]
    },
    {
     "data": {
      "text/plain": [
       "[1, 2, 3, 4, 5]"
      ]
     },
     "execution_count": 1,
     "metadata": {},
     "output_type": "execute_result"
    }
   ],
   "source": [
    "'''Iterating till the range n and accepting elements from user'''\n",
    "\n",
    "[int(input()) for i in range(0,int(input(\"Enter number of elements : \")))]"
   ]
  },
  {
   "cell_type": "code",
   "execution_count": 199,
   "id": "512217c3",
   "metadata": {
    "scrolled": true
   },
   "outputs": [
    {
     "name": "stdout",
     "output_type": "stream",
     "text": [
      "Enter range of numbers seperated by space in between - 5 -7 9 11 53 -89\n"
     ]
    },
    {
     "data": {
      "text/plain": [
       "[0, 49, 0, 121, 0, 7921]"
      ]
     },
     "execution_count": 199,
     "metadata": {},
     "output_type": "execute_result"
    }
   ],
   "source": [
    "'''enumerate() here returns the position,value of trimmed input value in respective vars \n",
    "and places sq. of values at odd indices and 0 at even '''\n",
    "\n",
    "[(int(indexVal)**2 if int(indexPos) % 2 != 0 else (int(indexVal)-int(indexVal))) for indexPos, indexVal \n",
    " in enumerate(input('Enter range of numbers seperated by space in between - ').split())]"
   ]
  },
  {
   "cell_type": "code",
   "execution_count": 190,
   "id": "3604d7f1",
   "metadata": {
    "scrolled": false
   },
   "outputs": [
    {
     "data": {
      "text/plain": [
       "['Stebin',\n",
       " 'Arun',\n",
       " ['Jagannath', 'Aditi', ['Shamal', 'JASLEEN', 'Rohan'], 'Shubham'],\n",
       " 'Akhil',\n",
       " 'Shreyans']"
      ]
     },
     "execution_count": 190,
     "metadata": {},
     "output_type": "execute_result"
    }
   ],
   "source": [
    "'''Add JASLEEN btwn Shamal and Rohan in the list by using index function specifying pos and the value added''' \n",
    "\n",
    "list1 = ['Stebin', 'Arun', ['Jagannath', 'Aditi', ['Shamal', 'Rohan'], 'Shubham'], 'Akhil','Shreyans']\n",
    "list1[2][2].insert(1,\"JASLEEN\")\n",
    "list1"
   ]
  },
  {
   "cell_type": "code",
   "execution_count": 198,
   "id": "8b653807",
   "metadata": {
    "scrolled": true
   },
   "outputs": [
    {
     "name": "stdout",
     "output_type": "stream",
     "text": [
      "<<========  Displaying List's Words and The Position of That Word in List =========>>\n"
     ]
    },
    {
     "data": {
      "text/plain": [
       "{'msd': [1],\n",
       " 'Brettlee': [2],\n",
       " 'Dravid': [3],\n",
       " 'akhil': [5],\n",
       " 'python': [6],\n",
       " 'dhoni': [8]}"
      ]
     },
     "execution_count": 198,
     "metadata": {},
     "output_type": "execute_result"
    }
   ],
   "source": [
    "'''List Comprehension inside Dictionary Comprehension as a value is used to \n",
    "get the indesPos of each word searched in the list. Could also use COUNT() function to find duplicate values'''\n",
    "\n",
    "print(\"<<========  Displaying List's Words and The Position of That Word in List =========>>\")\n",
    "myList = ['rohitsharma','msd','Brettlee','Dravid','rohitsharma','akhil','python','rohitsharma',\n",
    "          'dhoni','rohitsharma','rohitsharma']\n",
    "duplicatedata={search_word: [indexPos for indexPos, indexVal in enumerate(myList) if indexVal == search_word] \n",
    "               for search_word in myList}\n",
    "'''If length of values in a key is more than 1 means it repeates in the list \n",
    "and hence that is not taken into consideration'''\n",
    "\n",
    "{keyPos: keyVal for keyPos, keyVal in duplicatedata.items() if not len(keyVal)>1} "
   ]
  },
  {
   "cell_type": "code",
   "execution_count": 1,
   "id": "6c07b886",
   "metadata": {},
   "outputs": [
    {
     "name": "stdout",
     "output_type": "stream",
     "text": [
      "Names  with spaces-a b c d e\n",
      "Age with spaces-11 22 33 67 43\n",
      "Passenger List : ['a', 'b', 'c', 'd', 'e']\n",
      "Passenger Age :[11, 22, 33, 67, 43]\n"
     ]
    },
    {
     "data": {
      "text/plain": [
       "{'a': ['11 - Child'],\n",
       " 'b': ['22 - Adult'],\n",
       " 'c': ['33 - Adult'],\n",
       " 'd': ['67 - Senior Citizen'],\n",
       " 'e': ['43 - Old']}"
      ]
     },
     "execution_count": 1,
     "metadata": {},
     "output_type": "execute_result"
    }
   ],
   "source": [
    "Passenger_List, Passenger_Age = [[name for name in input('Names  with spaces-').split()],[int(age) for age in input('Age with spaces-').split()]]\n",
    "print('Passenger List : {0}\\nPassenger Age :{1}'.format(Passenger_List, Passenger_Age))\n",
    "{ipass:[f'{iage} - Child' if(iage in range(0,19)) else f'{iage} - Adult' if(iage in range(19,41)) else f'{iage} - Old' if(iage in range(41,66)) else f'{iage} - Senior Citizen'] for (ipass,iage) in zip(Passenger_List,Passenger_Age)} "
   ]
  },
  {
   "cell_type": "code",
   "execution_count": null,
   "id": "8cabe0d9",
   "metadata": {},
   "outputs": [],
   "source": []
  }
 ],
 "metadata": {
  "kernelspec": {
   "display_name": "Python 3",
   "language": "python",
   "name": "python3"
  },
  "language_info": {
   "codemirror_mode": {
    "name": "ipython",
    "version": 3
   },
   "file_extension": ".py",
   "mimetype": "text/x-python",
   "name": "python",
   "nbconvert_exporter": "python",
   "pygments_lexer": "ipython3",
   "version": "3.8.8"
  }
 },
 "nbformat": 4,
 "nbformat_minor": 5
}
