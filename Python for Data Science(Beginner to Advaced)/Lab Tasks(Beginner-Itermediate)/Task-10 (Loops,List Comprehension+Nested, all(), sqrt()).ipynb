{
 "cells": [
  {
   "cell_type": "markdown",
   "id": "f1822d7d",
   "metadata": {},
   "source": [
    "## Python Task-10 (06/10/2021) - 21122018_DrashtyRanpara_MSDS(I)\n",
    "\n",
    "### Task-10 (Loops,List Comprehension+Nested, all(), sqrt())  \n",
    "---"
   ]
  },
  {
   "cell_type": "code",
   "execution_count": 44,
   "id": "76f4d4cc",
   "metadata": {},
   "outputs": [
    {
     "data": {
      "text/plain": [
       "['Kiwi', 'litchi']"
      ]
     },
     "execution_count": 44,
     "metadata": {},
     "output_type": "execute_result"
    }
   ],
   "source": [
    "# Iterting through list and extracting those words which do not contain 'a'\n",
    "[word for word in ['Mango','Kiwi','Pineapple','jackfruit','apple','grapes','litchi'] \n",
    " if 'a' not in word]"
   ]
  },
  {
   "cell_type": "code",
   "execution_count": 7,
   "id": "713d43ad",
   "metadata": {
    "scrolled": true
   },
   "outputs": [
    {
     "name": "stdout",
     "output_type": "stream",
     "text": [
      "Fruits name with space - Mango Banana Coconut Avocados Kiwi grapes Guava\n"
     ]
    },
    {
     "data": {
      "text/plain": [
       "['Banana', 'Avocados', 'Guava']"
      ]
     },
     "execution_count": 7,
     "metadata": {},
     "output_type": "execute_result"
    }
   ],
   "source": [
    "# Itering through input list and extracting those fruits which contains >1 a/A character\n",
    "[word for word in input('Fruits name with space - ').split() if word.count('A')+word.count('a')>1]"
   ]
  },
  {
   "cell_type": "markdown",
   "id": "63dd05f3",
   "metadata": {},
   "source": [
    "math.sqrt could optimize more using the concept of the square root so as not to iterate throughout the list and calculate the prime numbers faster. One can check the execution speed by adding %timeit iin from of list comprehension. Here the range is provided from 1200-1800. Supose we take 1201 for an instance, var x stores and iterates through the range.\n",
    "\n",
    "Now, The all() function is an inbuilt function in Python which returns true if all the \n",
    "elements of a given iterable( List, Dictionary, Tuple, set, etc) are True else it returns False. \n",
    "It also returns True if the iterable object is empty. \n",
    "\n",
    "Further considering 1201 and starting from 2 till the half i.e sqrt of the number -> root.1201+1 = 35.65, it'll iterate and return TRUE if 1201%35.65 is not 0 then if condition runs TRUE and the number is listed to PRIME else NOT PRIME"
   ]
  },
  {
   "cell_type": "code",
   "execution_count": 2,
   "id": "ec620dab",
   "metadata": {
    "scrolled": false
   },
   "outputs": [
    {
     "name": "stdout",
     "output_type": "stream",
     "text": [
      "[1201, 1213, 1217, 1223, 1229, 1231, 1237, 1249, 1259, 1277, 1279, 1283, 1289, 1291, 1297, 1301, 1303, 1307, 1319, 1321, 1327, 1361, 1367, 1373, 1381, 1399, 1409, 1423, 1427, 1429, 1433, 1439, 1447, 1451, 1453, 1459, 1471, 1481, 1483, 1487, 1489, 1493, 1499, 1511, 1523, 1531, 1543, 1549, 1553, 1559, 1567, 1571, 1579, 1583, 1597, 1601, 1607, 1609, 1613, 1619, 1621, 1627, 1637, 1657, 1663, 1667, 1669, 1693, 1697, 1699, 1709, 1721, 1723, 1733, 1741, 1747, 1753, 1759, 1777, 1783, 1787, 1789]\n"
     ]
    }
   ],
   "source": [
    "import math as m\n",
    "print([x for x in range(1200, 1800) if all(x % y != 0 for y in range(2, int(m.sqrt(x)) + 1))])"
   ]
  },
  {
   "cell_type": "code",
   "execution_count": 1,
   "id": "7044a686",
   "metadata": {},
   "outputs": [
    {
     "name": "stdout",
     "output_type": "stream",
     "text": [
      "[1201, 1213, 1217, 1223, 1229, 1231, 1237, 1249, 1259, 1277, 1279, 1283, 1289, 1291, 1297, 1301, 1303, 1307, 1319, 1321, 1327, 1361, 1367, 1369, 1373, 1381, 1399, 1409, 1423, 1427, 1429, 1433, 1439, 1447, 1451, 1453, 1459, 1471, 1481, 1483, 1487, 1489, 1493, 1499, 1511, 1523, 1531, 1543, 1549, 1553, 1559, 1567, 1571, 1579, 1583, 1597, 1601, 1607, 1609, 1613, 1619, 1621, 1627, 1637, 1657, 1663, 1667, 1669, 1681, 1693, 1697, 1699, 1709, 1721, 1723, 1733, 1741, 1747, 1753, 1759, 1763, 1777, 1783, 1787, 1789]\n"
     ]
    }
   ],
   "source": [
    "import math as m\n",
    "print([x for x in range(1200, 1800) if all(x % y != 0 for y in range(2, int(m.sqrt(x))))])"
   ]
  },
  {
   "cell_type": "code",
   "execution_count": null,
   "id": "e3f03f78",
   "metadata": {},
   "outputs": [],
   "source": []
  }
 ],
 "metadata": {
  "kernelspec": {
   "display_name": "Python 3",
   "language": "python",
   "name": "python3"
  },
  "language_info": {
   "codemirror_mode": {
    "name": "ipython",
    "version": 3
   },
   "file_extension": ".py",
   "mimetype": "text/x-python",
   "name": "python",
   "nbconvert_exporter": "python",
   "pygments_lexer": "ipython3",
   "version": "3.8.8"
  }
 },
 "nbformat": 4,
 "nbformat_minor": 5
}
