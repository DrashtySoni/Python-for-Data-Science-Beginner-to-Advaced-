{
 "cells": [
  {
   "cell_type": "markdown",
   "id": "179a8e8a",
   "metadata": {},
   "source": [
    "## Python Task-15 (18/11/2021) - 21122018_DrashtyRanpara_MSDS(I)\n",
    "### Task-15 (constructor,methods,self,return,object,inheritance,super())\n",
    "---"
   ]
  },
  {
   "cell_type": "code",
   "execution_count": 13,
   "id": "8108ed03",
   "metadata": {},
   "outputs": [
    {
     "name": "stdout",
     "output_type": "stream",
     "text": [
      "Name -Drashty\n",
      "Good Morning Drashty\n",
      "Please Set Your New Username: dee\n",
      "Please Set Your New Password: d123\n",
      "Username and Password added to dictionary.\n",
      "{'user1': 123456, 'user2': 321654, 'dee': 'd123'}\n",
      "Type in your Username: dee\n",
      "Type in your Password: d123\n",
      "\n",
      "Logged in successfully as dee\n",
      "{'dee': ['table', 'chairs', 'Allen Solly Shirts', 'Pedigree']}\n",
      "{'user1': 123456, 'user2': 321654, 'dee': 'd123'}\n",
      "Type in your Username: dee\n",
      "Type in your Password: d123\n",
      "\n",
      "Logged in successfully as dee\n",
      "{'dee': ['table', 'chairs', 'Allen Solly Shirts', 'Pedigree']}\n",
      "\n"
     ]
    }
   ],
   "source": [
    "user_auth={'user1':123456,'user2':321654}\n",
    "class user:\n",
    "    def __init__(self,name):\n",
    "        self.name=name\n",
    "        print(f'Good Morning {self.name}')\n",
    "    \n",
    "    def register(self,username,password):\n",
    "        self.username=username\n",
    "        self.password=password\n",
    "        if (self.username in user_auth):\n",
    "            print(\"Username is taken\")\n",
    "        else:\n",
    "            user_auth[self.username] = self.password \n",
    "            print(\"Username and Password added to dictionary.\")\n",
    "        return user_auth\n",
    "    \n",
    "    def login(self):\n",
    "        print(user_auth)\n",
    "        obj.validation()\n",
    "        \n",
    "    def validation(self):\n",
    "        loginUserName,loginPass =input(\"Type in your Username: \").strip(),input(\"Type in your Password: \").strip()\n",
    "        for key in user_auth:\n",
    "            if (loginUserName == key and loginPass == user_auth[key]):\n",
    "                print (\"\\nLogged in successfully as \" + loginUserName)\n",
    "                print({loginUserName:['table','chairs','Allen Solly Shirts', 'Pedigree']})\n",
    "                \n",
    "class purchase(user):\n",
    "    def __init__(self,name):\n",
    "        self.name=name\n",
    "\n",
    "    def history(self):\n",
    "        super().login()\n",
    "        print()\n",
    "\n",
    "        \n",
    "obj=user(input('Name -'))\n",
    "obj.register(input(\"Please Set Your New Username: \"),input(\"Please Set Your New Password: \"))\n",
    "obj.login()\n",
    "\n",
    "\n",
    "child=purchase(\"Drashty\")\n",
    "child.history()"
   ]
  }
 ],
 "metadata": {
  "kernelspec": {
   "display_name": "Python 3",
   "language": "python",
   "name": "python3"
  },
  "language_info": {
   "codemirror_mode": {
    "name": "ipython",
    "version": 3
   },
   "file_extension": ".py",
   "mimetype": "text/x-python",
   "name": "python",
   "nbconvert_exporter": "python",
   "pygments_lexer": "ipython3",
   "version": "3.8.8"
  }
 },
 "nbformat": 4,
 "nbformat_minor": 5
}
