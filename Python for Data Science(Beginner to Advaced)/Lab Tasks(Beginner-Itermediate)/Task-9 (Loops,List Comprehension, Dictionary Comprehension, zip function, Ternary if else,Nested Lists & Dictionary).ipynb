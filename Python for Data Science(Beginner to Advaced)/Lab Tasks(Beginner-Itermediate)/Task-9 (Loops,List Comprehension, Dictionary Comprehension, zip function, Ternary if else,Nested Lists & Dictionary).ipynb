{
 "cells": [
  {
   "cell_type": "markdown",
   "id": "faab9617",
   "metadata": {},
   "source": [
    "# Python Task-9 (02/10/2021) - 21122018_DrashtyRanpara_MSDS(I)\n",
    "\n",
    "## Task-9 (Loops,List Comprehension, Dictionary Comprehension, zip(), Ternary if else, Nested Lists & Dictionary)  \n",
    "---"
   ]
  },
  {
   "cell_type": "markdown",
   "id": "2cff9087",
   "metadata": {},
   "source": [
    "## 1 (A)"
   ]
  },
  {
   "cell_type": "code",
   "execution_count": 118,
   "id": "d1ca03f8",
   "metadata": {
    "scrolled": true
   },
   "outputs": [
    {
     "name": "stdout",
     "output_type": "stream",
     "text": [
      "Names  with spaces-Drashty Unnati Disha Mahima Radhika Mansi Helly\n",
      "Age with spaces-22 65 34 11 86 41 9\n",
      "Passenger List : ['Drashty', 'Unnati', 'Disha', 'Mahima', 'Radhika', 'Mansi', 'Helly']\n",
      "Passenger Age :[22, 65, 34, 11, 86, 41, 9]\n"
     ]
    }
   ],
   "source": [
    "'''Through inline assignment names and ages are fetched using list comprehension and printed usinf format str'''\n",
    "\n",
    "Passenger_List, Passenger_Age = \n",
    "[[name for name in input('Names  with spaces-').split()],\n",
    "    [int(age) for age in input('Age with spaces-').split()]]\n",
    "print('Passenger List : {0}\\nPassenger Age :{1}'.format(Passenger_List, Passenger_Age))"
   ]
  },
  {
   "cell_type": "markdown",
   "id": "e4a0ae48",
   "metadata": {},
   "source": [
    "## 1 (B)"
   ]
  },
  {
   "cell_type": "code",
   "execution_count": 119,
   "id": "ed0a0279",
   "metadata": {},
   "outputs": [
    {
     "data": {
      "text/plain": [
       "{'Child': [11, 9], 'Adult': [22, 34], 'Old': [65, 41], 'Senior': [86]}"
      ]
     },
     "execution_count": 119,
     "metadata": {},
     "output_type": "execute_result"
    }
   ],
   "source": [
    "'''Through Dictionary Comprehension the category is assigned as keys and upon age condition \n",
    "the value is passed to keys respectively'''\n",
    "\n",
    "{'Child':[int(child) for child in Passenger_Age if(int(child) in range(0,19))],\n",
    " 'Adult':[int(adult) for adult in Passenger_Age if(int(adult) in range(19,41))],\n",
    " 'Old':[int(old) for old in Passenger_Age if(int(old) in range(41,66))],\n",
    " 'Senior':[int(senior) for senior in Passenger_Age if(int(senior)>66)]}"
   ]
  },
  {
   "cell_type": "markdown",
   "id": "d47c63d3",
   "metadata": {},
   "source": [
    "## 2 (A,B,C)"
   ]
  },
  {
   "cell_type": "code",
   "execution_count": 125,
   "id": "5f458a5c",
   "metadata": {
    "scrolled": false
   },
   "outputs": [
    {
     "name": "stdout",
     "output_type": "stream",
     "text": [
      "Enter number of elements : 10\n",
      "\n",
      "Enter the numbers with space: 10 55 34 76 89 -88 28 5 67 11\n",
      "\n",
      "Int List -----> [10, 55, 34, 76, 89, -88, 28, 5, 67, 11]\n",
      "Sub List > 50 -----> [55, 76]\n",
      "Sub List2 > 50 and Even -----> [3024]\n"
     ]
    }
   ],
   "source": [
    "# Took i/p from user till n range using strip().split()-separates from space & trims spaces\n",
    "n=int(input(\"Enter number of elements : \"))\n",
    "Int_List=list(map(int,input(\"\\nEnter the numbers with space: \").strip().split()))[:n]\n",
    "\n",
    "# Extract odd elements greater than 50 from the Int_List using List Comprehension. \n",
    "Sub_List=[oddVal for oddVal in Int_List[1::2] if oddVal>50 ]\n",
    "\n",
    "# \"Sub_list2\" with the operation (element**2 - 1) -> (element>50 & is even[0::2]) using List Comprehension\n",
    "Sub_List2=[(value**2 - 1) for value in Sub_List[0::2]]\n",
    "print(f'\\nInt List -----> {Int_List}\\nSub List > 50 -----> {Sub_List}\\nSub List2 > 50 and Even -----> {Sub_List2}')"
   ]
  }
 ],
 "metadata": {
  "kernelspec": {
   "display_name": "Python 3",
   "language": "python",
   "name": "python3"
  },
  "language_info": {
   "codemirror_mode": {
    "name": "ipython",
    "version": 3
   },
   "file_extension": ".py",
   "mimetype": "text/x-python",
   "name": "python",
   "nbconvert_exporter": "python",
   "pygments_lexer": "ipython3",
   "version": "3.8.8"
  }
 },
 "nbformat": 4,
 "nbformat_minor": 5
}
