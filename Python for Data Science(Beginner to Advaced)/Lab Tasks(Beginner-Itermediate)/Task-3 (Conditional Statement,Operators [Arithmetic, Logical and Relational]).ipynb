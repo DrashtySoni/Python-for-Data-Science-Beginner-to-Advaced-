{
 "cells": [
  {
   "cell_type": "markdown",
   "id": "22ac5a52",
   "metadata": {},
   "source": [
    "# Python Task-3 (2/09/2021) - 21122018_DrashtyRanpara_MSDS(I)\n",
    "\n",
    "## Task-3 (Conditional Statement,Operators [Arithmetic, Logical and Relational])  "
   ]
  },
  {
   "cell_type": "code",
   "execution_count": 9,
   "id": "fd1b0301",
   "metadata": {
    "scrolled": true
   },
   "outputs": [
    {
     "name": "stdout",
     "output_type": "stream",
     "text": [
      "Name : admin\n",
      "Welcome admin\n"
     ]
    }
   ],
   "source": [
    "name =input(\"Name : \")\n",
    "print(f\"Welcome {name}\" if (name==\"ADMIN\" or \"admin\"or \"Admin\") else \"Good morning {name}\")"
   ]
  },
  {
   "cell_type": "code",
   "execution_count": 24,
   "id": "c78ad46d",
   "metadata": {},
   "outputs": [
    {
     "name": "stdout",
     "output_type": "stream",
     "text": [
      "Atleast one of the condition is satisfied\n"
     ]
    }
   ],
   "source": [
    "num1,num2=18,14\n",
    "print(\"Atleast one of the condition is satisfied\" if (num1>15 or num2 % 2==0) \n",
    "      else \"Neither condition is satisfied.\" \n",
    "      if (num1<=15 or num2 % 2!=0) else \"Neither of the coditions satisfied\")"
   ]
  },
  {
   "cell_type": "code",
   "execution_count": 31,
   "id": "00630b65",
   "metadata": {},
   "outputs": [
    {
     "name": "stdout",
     "output_type": "stream",
     "text": [
      "Atleast one of the condition is satisfied\n"
     ]
    }
   ],
   "source": [
    "num1=18\n",
    "num2=14\n",
    "if (num1>15 or num2 % 2==0):\n",
    "    print(\"Atleast one of the condition is satisfied\")\n",
    "elif (num1<=15 or num2 % 2!=0):\n",
    "    print(\"Neither condition is satisfied.\")\n",
    "else:\n",
    "    print(\"Neither of the coditions satisfied\")"
   ]
  },
  {
   "cell_type": "code",
   "execution_count": 28,
   "id": "4145e154",
   "metadata": {},
   "outputs": [
    {
     "name": "stdout",
     "output_type": "stream",
     "text": [
      "Name : admin\n",
      "Welcome admin\n"
     ]
    }
   ],
   "source": [
    "name =input(\"Name : \")\n",
    "if(name==\"ADMIN\" or \"admin\"or \"Admin\"):\n",
    "    print(f\"Welcome {name}\")\n",
    "else:\n",
    "    print(f\"Good morning {name}\")"
   ]
  },
  {
   "cell_type": "code",
   "execution_count": null,
   "id": "bfce840f",
   "metadata": {},
   "outputs": [],
   "source": []
  }
 ],
 "metadata": {
  "kernelspec": {
   "display_name": "Python 3",
   "language": "python",
   "name": "python3"
  },
  "language_info": {
   "codemirror_mode": {
    "name": "ipython",
    "version": 3
   },
   "file_extension": ".py",
   "mimetype": "text/x-python",
   "name": "python",
   "nbconvert_exporter": "python",
   "pygments_lexer": "ipython3",
   "version": "3.8.8"
  }
 },
 "nbformat": 4,
 "nbformat_minor": 5
}
