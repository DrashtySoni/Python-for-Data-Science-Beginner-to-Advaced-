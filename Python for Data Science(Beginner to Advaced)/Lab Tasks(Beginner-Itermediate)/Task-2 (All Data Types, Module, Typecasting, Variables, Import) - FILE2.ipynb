{
 "cells": [
  {
   "cell_type": "markdown",
   "id": "7d327023",
   "metadata": {},
   "source": [
    "# Python Task-2 (31/08/2021) - 21122018_DrashtyRanpara_MSDS(I)\n",
    "\n",
    "## Task-2 (All Data Types, Module, Typecasting, Variables, Import)  \n",
    "\n",
    "### ONLINE RECRUITMENT SYSTEM"
   ]
  },
  {
   "cell_type": "code",
   "execution_count": 1,
   "id": "ebbc3315",
   "metadata": {},
   "outputs": [],
   "source": [
    "legalName = input('Legal Name : ')\n",
    "address = input('Address : ')\n",
    "country = input('Country : ')\n",
    "state = input('State : ')\n",
    "city = input('City : ')\n",
    "postalCode = int(input('Postal Code : '))\n",
    "phone = int(input('Primary Phone : '))\n",
    "education = input('Level of Education : ')\n",
    "degree = input('Degree : ')\n",
    "yearExperience = int(input('Years of work experience : '))\n",
    "disability = bool(input('Disabled?'))\n",
    "ethinicity = input('Ethinicity(Race) : ')"
   ]
  },
  {
   "cell_type": "code",
   "execution_count": 1,
   "id": "76ed445e",
   "metadata": {},
   "outputs": [],
   "source": [
    "#from File import a\n",
    "#abc = File.a\n",
    "#print(a)\n",
    "#print(ifile.execute)\n",
    "#print(f'Legal Name : {legalName},\\nAddress : {address},\\nCountry : {country},\\nState: {state},\\nCity : {city},\\nPostal Code : {postalCode},\\nPhone : {phone},\\nEducation : {education},\\nDegree : {degree},\\nYears of Experience : {yearExperience},\\nDisability : {disability},\\nEthinicity : {ethinicity}')"
   ]
  }
 ],
 "metadata": {
  "kernelspec": {
   "display_name": "Python 3",
   "language": "python",
   "name": "python3"
  },
  "language_info": {
   "codemirror_mode": {
    "name": "ipython",
    "version": 3
   },
   "file_extension": ".py",
   "mimetype": "text/x-python",
   "name": "python",
   "nbconvert_exporter": "python",
   "pygments_lexer": "ipython3",
   "version": "3.8.8"
  }
 },
 "nbformat": 4,
 "nbformat_minor": 5
}
