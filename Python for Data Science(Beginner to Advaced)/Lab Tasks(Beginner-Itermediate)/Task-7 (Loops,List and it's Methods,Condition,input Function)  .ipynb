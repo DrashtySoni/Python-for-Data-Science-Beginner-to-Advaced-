{
 "cells": [
  {
   "cell_type": "markdown",
   "id": "c6adc96e",
   "metadata": {},
   "source": [
    "# Python Task-7 (21/09/2021) - 21122018_DrashtyRanpara_MSDS(I)\n",
    "\n",
    "## Task-7 (Loops,List and it's Methods,Condition,input Function)  "
   ]
  },
  {
   "cell_type": "code",
   "execution_count": 28,
   "id": "3f63eb1d",
   "metadata": {},
   "outputs": [
    {
     "name": "stdout",
     "output_type": "stream",
     "text": [
      "Enter range of numbers seperated by space in between - 1 3 -5 77 0 3 2 4545 876 111 234 98 877 -975\n",
      "Index[0] = 1\n",
      "Index[1] = 3\n",
      "Index[2] = -5\n",
      "Index[3] = 77\n",
      "Index[5] = 3\n",
      "Index[7] = 4545\n",
      "Index[9] = 111\n",
      "Index[12] = 877\n",
      "Index[13] = -975\n"
     ]
    },
    {
     "data": {
      "text/plain": [
       "[None, None, None, None, None, None, None, None, None]"
      ]
     },
     "execution_count": 28,
     "metadata": {},
     "output_type": "execute_result"
    }
   ],
   "source": [
    "# Taking multiple inputs sepearated by space & mapping to the list to remove even values\n",
    "# f string is a way to print values & enumerate() - to get all the indexes of the element in a list. \n",
    "[print(f\"Index[{indexPos}] = {indexVal}\") for indexPos, indexVal in enumerate(\n",
    "    input('Enter range of numbers seperated by space in between - ').split()) if (int(indexVal) % 2 != 0)]"
   ]
  },
  {
   "cell_type": "code",
   "execution_count": 30,
   "id": "d2de94f3",
   "metadata": {},
   "outputs": [
    {
     "name": "stdout",
     "output_type": "stream",
     "text": [
      "<------ Generating Palindrome Sequence List ------>\n",
      "Enter words/numbers seperated by space in between - 12321 Drashty abcba 11.22.11 racecar RaceCar\n"
     ]
    },
    {
     "data": {
      "text/plain": [
       "[['12321'], ['abcba'], ['11.22.11'], ['racecar']]"
      ]
     },
     "execution_count": 30,
     "metadata": {},
     "output_type": "execute_result"
    }
   ],
   "source": [
    "# Logic for Palindrome - if entered input's every forward char ==  input's every backward char\n",
    "print(\"<------ Generating Palindrome Sequence List ------>\")\n",
    "[[palValue] for palValue in input('Enter words/numbers seperated by space in between - ').split() \n",
    " if palValue==palValue[::-1]]"
   ]
  },
  {
   "cell_type": "code",
   "execution_count": 31,
   "id": "c90dc8c6",
   "metadata": {},
   "outputs": [
    {
     "name": "stdout",
     "output_type": "stream",
     "text": [
      "<------ Generating Even Positioned List ------>\n",
      "Enter range of numbers seperated by space in between - 11 22 Drashty 99.99 BlahBlah\n"
     ]
    },
    {
     "data": {
      "text/plain": [
       "[['11'], ['Drashty'], ['BlahBlah']]"
      ]
     },
     "execution_count": 31,
     "metadata": {},
     "output_type": "execute_result"
    }
   ],
   "source": [
    "# ELiminating the odd indexs in list using if condition & getting poistions using enumerate() \n",
    "print(\"<------ Generating Even Positioned List ------>\")\n",
    "[[indexVal] for indexPos, indexVal in enumerate(\n",
    "    input('Enter range of numbers seperated by space in between - ').split()) if (indexPos % 2 == 0)]"
   ]
  },
  {
   "cell_type": "code",
   "execution_count": 51,
   "id": "abe72de9",
   "metadata": {},
   "outputs": [
    {
     "name": "stdout",
     "output_type": "stream",
     "text": [
      "[1, 4, 9, 16, 25, 676, 729, 784, 841, 900]\n"
     ]
    }
   ],
   "source": [
    "# Generating squares from 1-30 and getting first and last 5 sqyared values using List SLicing method\n",
    "sq=[sqNum**2 for sqNum in range(1,31)]\n",
    "print(sq[:5] + sq[-5:])"
   ]
  }
 ],
 "metadata": {
  "kernelspec": {
   "display_name": "Python 3",
   "language": "python",
   "name": "python3"
  },
  "language_info": {
   "codemirror_mode": {
    "name": "ipython",
    "version": 3
   },
   "file_extension": ".py",
   "mimetype": "text/x-python",
   "name": "python",
   "nbconvert_exporter": "python",
   "pygments_lexer": "ipython3",
   "version": "3.8.8"
  }
 },
 "nbformat": 4,
 "nbformat_minor": 5
}
