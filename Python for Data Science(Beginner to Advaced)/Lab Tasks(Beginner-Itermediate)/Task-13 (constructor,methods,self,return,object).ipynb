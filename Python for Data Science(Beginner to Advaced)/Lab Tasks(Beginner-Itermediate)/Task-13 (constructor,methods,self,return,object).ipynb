{
 "cells": [
  {
   "cell_type": "markdown",
   "id": "46af93d4",
   "metadata": {},
   "source": [
    "## Python Task-13 (12/11/2021) - 21122018_DrashtyRanpara_MSDS(I)\n",
    "### Task-13 (constructor,methods,self,return,object)\n",
    "---"
   ]
  },
  {
   "cell_type": "markdown",
   "id": "8c9a5767",
   "metadata": {},
   "source": [
    "1.\n",
    "Create a class, Triangle. Its __init__() method should take self, angle1, angle2, and angle3 as arguments. \n",
    "Make sure to set these appropriately in the body of the __init__()method.\n",
    "Create a variable named number_of_sides and set it equal to 3.\n",
    "Create a method named check_angles. The sum of a triangle's three angles is It should return True if the sum of self.angle1, self.angle2, and self.angle3 is equal 180, and False otherwise.\n",
    "Create a variable named my_triangle and set it equal to a new instance of your Triangle class. Pass it three angles that sum to 180 (e.g. 90, 30, 60).\n",
    "Print out my_triangle.number_of_sides and print out my_triangle.check_angles()."
   ]
  },
  {
   "cell_type": "code",
   "execution_count": 23,
   "id": "3af35cf5",
   "metadata": {},
   "outputs": [
    {
     "name": "stdout",
     "output_type": "stream",
     "text": [
      "60 60 60\n",
      "3\n"
     ]
    },
    {
     "data": {
      "text/plain": [
       "True"
      ]
     },
     "execution_count": 23,
     "metadata": {},
     "output_type": "execute_result"
    }
   ],
   "source": [
    "class triangle:\n",
    "    def __init__(self,ang1,ang2,ang3):\n",
    "        self.nsides=3\n",
    "        self.ang1=ang1\n",
    "        self.ang2=ang2\n",
    "        self.ang3=ang3\n",
    "        print(ang1,ang2,ang3)\n",
    "    \n",
    "    def checkAngles(self):\n",
    "        if(self.ang1+self.ang2+self.ang3==180):\n",
    "            return True\n",
    "        else:\n",
    "            return False\n",
    "    \n",
    "my_triangle=triangle(60,60,60)\n",
    "print(my_triangle.nsides)\n",
    "my_triangle.checkAngles()"
   ]
  },
  {
   "cell_type": "markdown",
   "id": "1663b121",
   "metadata": {},
   "source": [
    "2.Define a class called Food Delivery.Its __init__() method should have two arguments:self and menu. Where menu is a string. \n",
    "Add a method called menu_price.It will involve some food and its respective prices:\n",
    "\n",
    "->if \"menu 1\" print \"Your choice:\", menu, \"Price xx.00\", if \"menu 2\" print \"Your choice:\", menu, \"Price xx.40\", else print \"Error in menu\".\n",
    "\n",
    "To check if it works define: Rahul=Lunch(\"menu 1\") and call Rahul.menu_price()."
   ]
  },
  {
   "cell_type": "code",
   "execution_count": 42,
   "id": "0dacdc08",
   "metadata": {},
   "outputs": [
    {
     "name": "stdout",
     "output_type": "stream",
     "text": [
      "{'d': 400, 'e': 500, 'f': 600}\n"
     ]
    }
   ],
   "source": [
    "class foodDelivery:\n",
    "    def __init__(self,menu):\n",
    "        #menu=input('Enter m1 for menu-1,m2 for menu-2')\n",
    "        self.menu=menu\n",
    "            \n",
    "    def menu_price(self):\n",
    "        if(self.menu=='m1'):\n",
    "            print({'a':100,'b':200,'c':300})\n",
    "        elif(self.menu=='m2'):\n",
    "            print({'d':400,'e':500,'f':600})\n",
    "        else:\n",
    "            print('Error in menu')\n",
    "xyz=foodDelivery(\"m2\")\n",
    "xyz.menu_price()"
   ]
  }
 ],
 "metadata": {
  "kernelspec": {
   "display_name": "Python 3",
   "language": "python",
   "name": "python3"
  },
  "language_info": {
   "codemirror_mode": {
    "name": "ipython",
    "version": 3
   },
   "file_extension": ".py",
   "mimetype": "text/x-python",
   "name": "python",
   "nbconvert_exporter": "python",
   "pygments_lexer": "ipython3",
   "version": "3.8.8"
  }
 },
 "nbformat": 4,
 "nbformat_minor": 5
}
