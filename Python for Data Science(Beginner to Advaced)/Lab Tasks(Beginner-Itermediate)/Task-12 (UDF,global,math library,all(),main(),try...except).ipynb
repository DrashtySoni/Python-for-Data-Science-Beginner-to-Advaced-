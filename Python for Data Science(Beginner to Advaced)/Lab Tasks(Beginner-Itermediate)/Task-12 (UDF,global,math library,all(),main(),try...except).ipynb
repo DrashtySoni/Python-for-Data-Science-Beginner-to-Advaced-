{
 "cells": [
  {
   "cell_type": "markdown",
   "id": "bc4bbf6e",
   "metadata": {},
   "source": [
    "## Python Task-12 (11/11/2021) - 21122018_DrashtyRanpara_MSDS(I)\n",
    "### Task-12 (UDF,global,math library,all(),main(),try...except)\n",
    "---"
   ]
  },
  {
   "cell_type": "markdown",
   "id": "e421ca2e",
   "metadata": {},
   "source": [
    "### 1.Write a menu driven program to do the following tasks:\n",
    "\n",
    "a. write a function to accept two inputs as numbers from the user which will be the range. \n",
    "b. Write a function to find the numbers that are prime as well as even between the range.\n",
    "c. write a function to print these prime numbers."
   ]
  },
  {
   "cell_type": "code",
   "execution_count": 4,
   "id": "ceaa1fc1",
   "metadata": {},
   "outputs": [
    {
     "data": {
      "text/plain": [
       "{1: 'Accept range for input',\n",
       " 2: 'Find prime as well as even between the range',\n",
       " 3: 'Print Prime nos.'}"
      ]
     },
     "execution_count": 4,
     "metadata": {},
     "output_type": "execute_result"
    }
   ],
   "source": [
    "{1:'Accept range for input',2:'Find prime as well as even between the range',3:'Print Prime nos.'}"
   ]
  },
  {
   "cell_type": "code",
   "execution_count": 4,
   "id": "6d4f568d",
   "metadata": {},
   "outputs": [
    {
     "name": "stdout",
     "output_type": "stream",
     "text": [
      "\n",
      "Enter the choice from above cell-1/2/3 - 1\n",
      "Enter Start Range - 1\n",
      "Enter End Range - 100\n",
      "\n",
      "Enter the choice from above cell-1/2/3 - 2\n",
      "findPrimeEven returning the prime as well as even nos btwn range. Kindly choose 3 to view results.\n",
      "\n",
      "Enter the choice from above cell-1/2/3 - 3\n",
      "Prime numbers from findPrimeEven() are -  [2]\n"
     ]
    }
   ],
   "source": [
    "def choicee():\n",
    "    global choice\n",
    "    choice=int(input('\\nEnter the choice from above cell-1/2/3 - '))\n",
    "    \n",
    "def acceptRange():\n",
    "    global startrange,endrange # global var declaration to access it outside func. too\n",
    "    startrange,endrange=int(input('Enter Start Range - ')),int(input('Enter End Range - '))\n",
    "    return startrange,endrange\n",
    "\n",
    "def findPrimeEven(startrange,endrange):\n",
    "    import math as m # import math for sqrt function\n",
    "    global prime\n",
    "    prime = ([x for x in range(startrange, endrange) if \n",
    "              all(x % y != 0 for y in range(2, int(m.sqrt(x)) + 1)) and x%2==0])\n",
    "    return (print('findPrimeEven returning the prime as well as even nos btwn range. \n",
    "                  Kindly choose 3 to view results.'),prime)\n",
    "\n",
    "def printPrime(prime):\n",
    "    print(f'Prime numbers from findPrimeEven() are - ',prime)\n",
    "    \n",
    "def main():\n",
    "    choicee()\n",
    "    if choice==1:\n",
    "        acceptRange()\n",
    "        choicee()\n",
    "    if choice==2:\n",
    "        findPrimeEven(startrange,endrange)\n",
    "        choicee()\n",
    "    if choice==3:\n",
    "        printPrime(prime)\n",
    "main()"
   ]
  },
  {
   "cell_type": "markdown",
   "id": "3af96df6",
   "metadata": {},
   "source": [
    "### 2.Write a function to add and subtract two numbers. Note that there should be two distinct functions- one that accept two variables and one to add and subtract. The function shall return the sum and difference in a single return call and it should be printed in the main program."
   ]
  },
  {
   "cell_type": "code",
   "execution_count": 80,
   "id": "aac758ee",
   "metadata": {},
   "outputs": [
    {
     "name": "stdout",
     "output_type": "stream",
     "text": [
      "Addition is 9.\n",
      "Subtraction is -1.\n"
     ]
    }
   ],
   "source": [
    "def declareVar(val1, val2):\n",
    "        global val11,val22 # global var declaration to access it outside func. too\n",
    "        val11=val1\n",
    "        val22=val2\n",
    "        return (val11,val22)\n",
    "def addsub(val11,val22):\n",
    "    return (print(f\"Addition is {val11+val22}.\\nSubtraction is {val11-val22}.\")) #return func call in single line\n",
    "def main(): \n",
    "    #Function calls done -->\n",
    "    declareVar(4,5)\n",
    "    addsub(val11,val22)\n",
    "main()"
   ]
  },
  {
   "cell_type": "markdown",
   "id": "db6650b1",
   "metadata": {},
   "source": [
    "### 3.Write a program to create a function student_details() using the following conditions. \n",
    "- It should accept the student’s name and Reg.no and display both. \n",
    "- If the Reg.No is missing in the function call then assign default value 2120XXX to the reg.no"
   ]
  },
  {
   "cell_type": "code",
   "execution_count": 45,
   "id": "1e28db38",
   "metadata": {},
   "outputs": [
    {
     "name": "stdout",
     "output_type": "stream",
     "text": [
      "Enter Name - Drashty\n",
      "Enter Reg.No - \n",
      "I am Drashty. My register number is 2120XXX.\n"
     ]
    }
   ],
   "source": [
    "'''If the ValueError is generated by leaving input empty it enters EXCEPT runs the default argument function \n",
    "else TRY is executed if none of the inputs are left empty'''\n",
    "\n",
    "try:\n",
    "    nm,rgn=input('Enter Name - ').strip(),int(input('Enter Reg.No - ').strip())\n",
    "    student_details(nm,rgn)\n",
    "except ValueError:\n",
    "    def student_details(nm,rgn='2120XXX'):\n",
    "        if rgn is None:\n",
    "            print(f\"I am {nm}. My register number is {rgn}.\")\n",
    "        print(f\"I am {nm}. My register number is {rgn}.\")\n",
    "    student_details(nm)"
   ]
  }
 ],
 "metadata": {
  "kernelspec": {
   "display_name": "Python 3",
   "language": "python",
   "name": "python3"
  },
  "language_info": {
   "codemirror_mode": {
    "name": "ipython",
    "version": 3
   },
   "file_extension": ".py",
   "mimetype": "text/x-python",
   "name": "python",
   "nbconvert_exporter": "python",
   "pygments_lexer": "ipython3",
   "version": "3.8.8"
  }
 },
 "nbformat": 4,
 "nbformat_minor": 5
}
