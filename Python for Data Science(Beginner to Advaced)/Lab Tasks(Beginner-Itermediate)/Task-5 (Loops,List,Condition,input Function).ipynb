{
 "cells": [
  {
   "cell_type": "markdown",
   "id": "b3914c0c",
   "metadata": {},
   "source": [
    "# Python Task-5 (14/09/2021) - 21122018_DrashtyRanpara_MSDS(I)\n",
    "\n",
    "## Task-5 (Loops,List,Condition,input Function)  "
   ]
  },
  {
   "cell_type": "code",
   "execution_count": 7,
   "id": "97cc56af",
   "metadata": {},
   "outputs": [
    {
     "name": "stdout",
     "output_type": "stream",
     "text": [
      "Enter a number 1234567\n",
      "OOps.Too lengthy :|\n"
     ]
    }
   ],
   "source": [
    "num=int(input(\"Enter a number \"))\n",
    "#Ignoring negative sign from input and returning the string to find the length\n",
    "print(\"OOps.Too lengthy :|\" if (len(str(abs(num))) > 6) \n",
    "      else \"Its too tiny :(\" if (len(str(num)) < 3) else \"perfect\")"
   ]
  },
  {
   "cell_type": "code",
   "execution_count": 38,
   "id": "c3abdb05",
   "metadata": {},
   "outputs": [
    {
     "name": "stdout",
     "output_type": "stream",
     "text": [
      "Number - 11\n",
      "11 x 1 = 11\n",
      "11 x 2 = 22\n",
      "11 x 3 = 33\n",
      "11 x 4 = 44\n",
      "11 x 5 = 55\n",
      "11 x 6 = 66\n",
      "11 x 7 = 77\n",
      "11 x 8 = 88\n",
      "11 x 9 = 99\n",
      "11 x 10 = 110\n"
     ]
    },
    {
     "data": {
      "text/plain": [
       "[None, None, None, None, None, None, None, None, None, None]"
      ]
     },
     "execution_count": 38,
     "metadata": {},
     "output_type": "execute_result"
    }
   ],
   "source": [
    "# Enter number and perform the multiplication on that number\n",
    "num=int(input(\"Number - \"))\n",
    "[print(num, 'x', i, '=', num*i) for i in range(1,11)] # Used list comprehensions"
   ]
  },
  {
   "cell_type": "code",
   "execution_count": 37,
   "id": "7ee0cd5c",
   "metadata": {},
   "outputs": [
    {
     "name": "stdout",
     "output_type": "stream",
     "text": [
      "Start Range Number - 1\n",
      "End Range Number - 100\n",
      "Multiples of 5 and 7 are : 35\n",
      "Multiples of 5 and 7 are : 70\n"
     ]
    },
    {
     "data": {
      "text/plain": [
       "[None, None]"
      ]
     },
     "execution_count": 37,
     "metadata": {},
     "output_type": "execute_result"
    }
   ],
   "source": [
    "#Printing multiples of 5 and 7 both from the entered range using List comprehension and conditions\n",
    "[print(\"Multiples of 5 and 7 are :\", i) for i in \n",
    " range(int(input(\"Start Range Number - \")),int(input(\"End Range Number - \"))) if(i%7==0 and i%5==0)]"
   ]
  },
  {
   "cell_type": "code",
   "execution_count": 1,
   "id": "3c767617",
   "metadata": {},
   "outputs": [
    {
     "name": "stdout",
     "output_type": "stream",
     "text": [
      "Start Range Number - 1\n",
      "End Range Number - 15\n",
      "11\n",
      "13\n"
     ]
    },
    {
     "data": {
      "text/plain": [
       "[None, None]"
      ]
     },
     "execution_count": 1,
     "metadata": {},
     "output_type": "execute_result"
    }
   ],
   "source": [
    "# Printing odd indexes with index value > 10 using List Comprehension\n",
    "[print(i) for i in list(range(int(input(\"Start Range Number - \")),int(input(\"End Range Number - \")), 2)) if(i>10)]"
   ]
  },
  {
   "cell_type": "code",
   "execution_count": null,
   "id": "8770112e",
   "metadata": {},
   "outputs": [],
   "source": []
  }
 ],
 "metadata": {
  "kernelspec": {
   "display_name": "Python 3",
   "language": "python",
   "name": "python3"
  },
  "language_info": {
   "codemirror_mode": {
    "name": "ipython",
    "version": 3
   },
   "file_extension": ".py",
   "mimetype": "text/x-python",
   "name": "python",
   "nbconvert_exporter": "python",
   "pygments_lexer": "ipython3",
   "version": "3.8.8"
  }
 },
 "nbformat": 4,
 "nbformat_minor": 5
}
