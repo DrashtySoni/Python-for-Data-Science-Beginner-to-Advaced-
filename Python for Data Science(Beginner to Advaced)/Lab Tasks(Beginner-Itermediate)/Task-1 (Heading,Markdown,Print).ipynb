{
 "cells": [
  {
   "cell_type": "markdown",
   "id": "e957248f",
   "metadata": {},
   "source": [
    "## Python Task-1 (30/08/2021) - 21122018_DrashtyRanpara_MSDS(I)"
   ]
  },
  {
   "cell_type": "markdown",
   "id": "f36f2354",
   "metadata": {},
   "source": [
    "### Print Function "
   ]
  },
  {
   "cell_type": "markdown",
   "id": "ba322122",
   "metadata": {},
   "source": [
    "Running help on print function"
   ]
  },
  {
   "cell_type": "code",
   "execution_count": 1,
   "id": "6b27017b",
   "metadata": {},
   "outputs": [
    {
     "name": "stdout",
     "output_type": "stream",
     "text": [
      "Help on built-in function print in module builtins:\n",
      "\n",
      "print(...)\n",
      "    print(value, ..., sep=' ', end='\\n', file=sys.stdout, flush=False)\n",
      "    \n",
      "    Prints the values to a stream, or to sys.stdout by default.\n",
      "    Optional keyword arguments:\n",
      "    file:  a file-like object (stream); defaults to the current sys.stdout.\n",
      "    sep:   string inserted between values, default a space.\n",
      "    end:   string appended after the last value, default a newline.\n",
      "    flush: whether to forcibly flush the stream.\n",
      "\n"
     ]
    }
   ],
   "source": [
    "# help function reveals the documentation of \"print\" function \n",
    "help(print)"
   ]
  },
  {
   "cell_type": "code",
   "execution_count": null,
   "id": "d6a563fe",
   "metadata": {},
   "outputs": [],
   "source": []
  },
  {
   "cell_type": "code",
   "execution_count": null,
   "id": "ae2ec714",
   "metadata": {},
   "outputs": [],
   "source": []
  },
  {
   "cell_type": "code",
   "execution_count": null,
   "id": "c9c27aa1",
   "metadata": {},
   "outputs": [],
   "source": []
  }
 ],
 "metadata": {
  "kernelspec": {
   "display_name": "Python 3",
   "language": "python",
   "name": "python3"
  },
  "language_info": {
   "codemirror_mode": {
    "name": "ipython",
    "version": 3
   },
   "file_extension": ".py",
   "mimetype": "text/x-python",
   "name": "python",
   "nbconvert_exporter": "python",
   "pygments_lexer": "ipython3",
   "version": "3.8.8"
  }
 },
 "nbformat": 4,
 "nbformat_minor": 5
}
