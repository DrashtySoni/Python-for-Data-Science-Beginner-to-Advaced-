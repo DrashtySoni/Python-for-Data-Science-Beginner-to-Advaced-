{
 "cells": [
  {
   "cell_type": "markdown",
   "id": "407987d8",
   "metadata": {},
   "source": [
    "# Python Task-4 (7/09/2021) - 21122018_DrashtyRanpara_MSDS(I)\n",
    "\n",
    "## Task-4 (Loops,range() function,Conditional Statement, Keywords[break,continue])  "
   ]
  },
  {
   "cell_type": "code",
   "execution_count": 1,
   "id": "8b509308",
   "metadata": {},
   "outputs": [
    {
     "name": "stdout",
     "output_type": "stream",
     "text": [
      "Username - abc\n",
      "Password - abc123\n",
      "Username - pqr\n",
      "Password - pqr456\n",
      "Username - mno\n",
      "Password - mno789\n",
      "Invalid Credentials\n"
     ]
    }
   ],
   "source": [
    "###################  AIRLINE BOOKING  #####################\n",
    "usernm,pwd=input('Username - ').strip(),input('Password - ').strip() ## removing extra spaces from sides\n",
    "\n",
    "if(usernm=='Admin' and pwd=='admin'):\n",
    "    print('Valid Credentials')\n",
    "else:\n",
    "    for i in range(1,3):\n",
    "        usernm,pwd=input('Username - '),input('Password - ')\n",
    "    print('Invalid Credentials')\n"
   ]
  },
  {
   "cell_type": "code",
   "execution_count": 6,
   "id": "b302b0f6",
   "metadata": {},
   "outputs": [
    {
     "name": "stdout",
     "output_type": "stream",
     "text": [
      "Num 1 =0\n",
      "Num 2 =10\n",
      "0\n",
      "2\n",
      "4\n",
      "6\n",
      "8\n"
     ]
    },
    {
     "data": {
      "text/plain": [
       "[None, None, None, None, None]"
      ]
     },
     "execution_count": 6,
     "metadata": {},
     "output_type": "execute_result"
    }
   ],
   "source": [
    "# List Comprehension method for printing even numbers using for loop and range function\n",
    "[print(i) for i in range(int(input('Num 1 =')),int(input('Num 2 =')),2)]"
   ]
  }
 ],
 "metadata": {
  "kernelspec": {
   "display_name": "Python 3",
   "language": "python",
   "name": "python3"
  },
  "language_info": {
   "codemirror_mode": {
    "name": "ipython",
    "version": 3
   },
   "file_extension": ".py",
   "mimetype": "text/x-python",
   "name": "python",
   "nbconvert_exporter": "python",
   "pygments_lexer": "ipython3",
   "version": "3.8.8"
  }
 },
 "nbformat": 4,
 "nbformat_minor": 5
}
