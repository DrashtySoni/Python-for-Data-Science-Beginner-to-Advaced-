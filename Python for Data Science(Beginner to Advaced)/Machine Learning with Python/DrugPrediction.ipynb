{
  "nbformat": 4,
  "nbformat_minor": 0,
  "metadata": {
    "colab": {
      "name": "DrugPrediction.ipynb",
      "provenance": [],
      "collapsed_sections": []
    },
    "kernelspec": {
      "name": "python3",
      "display_name": "Python 3"
    },
    "language_info": {
      "name": "python"
    }
  },
  "cells": [
    {
      "cell_type": "markdown",
      "source": [
        "# Machine Learning Lab 4 - Illustrate Decision Tree Classifier on Drug Dataset\n",
        "<hr/>\n",
        "\n",
        "Submitted by <br>\n",
        "Name: **Drashty Ranpara** <br>\n",
        "Register Number: **21122018** <br>\n",
        "Class: **2MSCDS** <br> \n",
        "<hr/>\n",
        "\n",
        "# **The End-to-End Pipeline of an ML Project**\n",
        "<br>\n",
        "\n",
        "---\n",
        "<br>\n",
        "\n",
        "## **This notebook covers**\n",
        "* Getting familiar with the end-to-end pipeline for conducting an ML  project\n",
        "\n",
        "* Preparing data for ML models (data collection and preprocessing)\n",
        "\n",
        "* Generating and selecting features to enhance the performance of the ML algorithm\n",
        "\n",
        "* Building up linear regression and decision tree models\n",
        "\n",
        "* Fine-tuning an ML model with grid search\n",
        "<br>\n",
        "---\n",
        "<br>\n",
        "\n",
        "## **1.1 An overview of the end-to-end pipeline**\n",
        "1. **Problem Framing and Data Collection -** Frame the problem as an ML problem and collect the data you need\n",
        "2. **Data Preprocessing and Feature Engineering -** Process data into suitable format that can be input into ML Algorithms. Select/ Generate features that are related to target output to improve the performance of the algorithms \n",
        "3. **ML Algorithm Selection -** Try various algos suitable for the problem statement and choose the best.\n",
        "4. **Model Training and Evaluation -** Appy the selected algorithm to train an ML model with your training data, and evaluate its performance on validation set.\n",
        "5. **Hyperparameter Tuning -** Attempt to achieve better performance by iteratively tuning the model's parameters.\n",
        "6. **Service Deploy and Monitoring -** Deploy the final ML solution and monitor its performance in order to update and improve pipeline continuously.\n",
        "\n",
        "![picture](https://drek4537l1klr.cloudfront.net/song/Figures/02-01.png)\n",
        "\n",
        "### **Problem Statement :** \n",
        "Let's start working on a real problem to get you familiar with each component in the pipeline. The problem we explore here is how to use scikit-learn, pickle, Flask, Microsoft Azure and ipywidgets to fully deploy a Python machine learning algorithm into a live, production environment.\n",
        "\n",
        "### **Dataset :** \n",
        "I selected a dataset from kaggle (https://www.kaggle.com/prathamtripathi/drug-classification)\n",
        "\n",
        "<br>\n",
        "\n",
        "The Python code to develop a predictive machine learning algorithm to classify drug prescriptions given a range of patient criteria is as follows -"
      ],
      "metadata": {
        "id": "1roHbxIrVEnA"
      }
    },
    {
      "cell_type": "markdown",
      "source": [
        "# **Step 1: Develop a Machine Learning Algorithm**\n",
        "---\n"
      ],
      "metadata": {
        "id": "u227VRdUVonw"
      }
    },
    {
      "cell_type": "code",
      "execution_count": 1,
      "metadata": {
        "colab": {
          "base_uri": "https://localhost:8080/"
        },
        "id": "nvCVCfQqSVUO",
        "outputId": "848155b3-afa5-45f4-8642-390d49ddd1be"
      },
      "outputs": [
        {
          "output_type": "stream",
          "name": "stdout",
          "text": [
            "0.99 0.012247448713915901\n"
          ]
        }
      ],
      "source": [
        "import pandas as pd\n",
        "from sklearn.tree import DecisionTreeClassifier\n",
        "from sklearn.preprocessing import LabelEncoder\n",
        "from sklearn.model_selection import KFold, cross_val_score\n",
        "\n",
        "df_drug = pd.read_csv(\"/content/sample_data/drug200.csv\")\n",
        "\n",
        "label_encoder = LabelEncoder()\n",
        "\n",
        "categorical_features = [feature for feature in df_drug.columns if df_drug[feature].dtypes == 'O']\n",
        "for feature in categorical_features:\n",
        "    df_drug[feature]=label_encoder.fit_transform(df_drug[feature])\n",
        "    \n",
        "X = df_drug.drop(\"Drug\", axis=1)\n",
        "y = df_drug[\"Drug\"]\n",
        "\n",
        "model = DecisionTreeClassifier(criterion=\"entropy\")\n",
        "model.fit(X, y)\n",
        "\n",
        "kfold = KFold(random_state=42, shuffle=True)\n",
        "cv_results = cross_val_score(model, X, y, cv=kfold, scoring=\"accuracy\")\n",
        "print(cv_results.mean(), cv_results.std())"
      ]
    },
    {
      "cell_type": "markdown",
      "source": [
        "At this point we can see that we have a machine learning algorithm trained to predict drug presriptions and that cross validation (i.e. folding the data) has been used to evaluate the **model accuracy at 99%.**\n",
        "\n",
        "### **Saving the Trained Model**\n",
        "Once you’re confident enough to take your trained and tested model into the production-ready environment, the first step is to save it into a .h5 or .bin file using a library like pickle."
      ],
      "metadata": {
        "id": "XWq3xuLIXo4m"
      }
    },
    {
      "cell_type": "code",
      "source": [
        "import pickle\n",
        "\n",
        "pickle_file = open('model.pkl', 'ab')\n",
        "pickle.dump(model, pickle_file)                     \n",
        "pickle_file.close()"
      ],
      "metadata": {
        "id": "ML4Er_xRXqZf"
      },
      "execution_count": 2,
      "outputs": []
    },
    {
      "cell_type": "markdown",
      "source": [
        "Now whenever we want to use the trained model, we simply need to reload its state from the model.pkl file rather than re-executing the training step.\n",
        "\n",
        "# **Step 2: Make an Individual Prediction from the Trained Model**\n",
        "\n",
        "Couple of assumptions -\n",
        "\n",
        "1. Consumers of the machine learning algorithm have a requirements to make predictions for individual patients rather than a batch of patients.\n",
        "2. Those consumers wish to communicate with the algorithm using text-like values for the parameters (for example blood pressure = ```“NORMAL”``` or ```“HIGH”``` rather than their label encoded equivalents like ```0 and 1```."
      ],
      "metadata": {
        "id": "VWx_7he8Y4jc"
      }
    },
    {
      "cell_type": "code",
      "source": [
        "df_drug = pd.read_csv(\"/content/sample_data/drug200.csv\")\n",
        "\n",
        "label_encoder = LabelEncoder()\n",
        "\n",
        "categorical_features = [feature for feature in df_drug.columns if df_drug[feature].dtypes == 'O']\n",
        "for feature in categorical_features:\n",
        "    print(feature, list(df_drug[feature].unique()), list(label_encoder.fit_transform(df_drug[feature].unique())), \"\\n\")\n"
      ],
      "metadata": {
        "colab": {
          "base_uri": "https://localhost:8080/"
        },
        "id": "CA4UXK4eY4u9",
        "outputId": "5f845a73-c373-4f32-ad6e-fc144005f503"
      },
      "execution_count": 3,
      "outputs": [
        {
          "output_type": "stream",
          "name": "stdout",
          "text": [
            "Sex ['F', 'M'] [0, 1] \n",
            "\n",
            "BP ['HIGH', 'LOW', 'NORMAL'] [0, 1, 2] \n",
            "\n",
            "Cholesterol ['HIGH', 'NORMAL'] [0, 1] \n",
            "\n",
            "Drug ['DrugY', 'drugC', 'drugX', 'drugA', 'drugB'] [0, 3, 4, 1, 2] \n",
            "\n"
          ]
        }
      ]
    },
    {
      "cell_type": "markdown",
      "source": [
        "And there we have it, a list of each categorical feature with the unique values that appear in the data and the corresponding numerical values as transformed by the ```LabelEncoder()```.\n",
        "\n",
        "Armed with this knowledge we can provide a set of dictionaries that map the text-like values (e.g. “HIGH”, “LOW” etc.) into their encoded equivalents and then develop a simple function to make an individual predictions as follows …"
      ],
      "metadata": {
        "id": "AOtDJTgLZaND"
      }
    },
    {
      "cell_type": "code",
      "source": [
        "gender_map = {\"F\": 0, \"M\": 1}\n",
        "bp_map = {\"HIGH\": 0, \"LOW\": 1, \"NORMAL\": 2}\n",
        "cholestol_map = {\"HIGH\": 0, \"NORMAL\": 1}\n",
        "drug_map = {0: \"DrugY\", 3: \"drugC\", 4: \"drugX\", 1: \"drugA\", 2: \"drugB\"}\n",
        "\n",
        "def predict_drug(Age, \n",
        "                 Sex, \n",
        "                 BP, \n",
        "                 Cholesterol, \n",
        "                 Na_to_K):\n",
        "\n",
        "    # 1. Read the machine learning model from its saved state ...\n",
        "    pickle_file = open('model.pkl', 'rb')     \n",
        "    model = pickle.load(pickle_file)\n",
        "    \n",
        "    # 2. Transform the \"raw data\" passed into the function to the encoded / numerical values using the maps / dictionaries\n",
        "    Sex = gender_map[Sex]\n",
        "    BP = bp_map[BP]\n",
        "    Cholesterol = cholestol_map[Cholesterol]\n",
        "\n",
        "    # 3. Make an individual prediction for this set of data\n",
        "    y_predict = model.predict([[Age, Sex, BP, Cholesterol, Na_to_K]])[0]\n",
        "\n",
        "    # 4. Return the \"raw\" version of the prediction i.e. the actual name of the drug rather than the numerical encoded version\n",
        "    return drug_map[y_predict] "
      ],
      "metadata": {
        "id": "QUNN1ICsZQZC"
      },
      "execution_count": 4,
      "outputs": []
    },
    {
      "cell_type": "markdown",
      "source": [
        "This implementation can then be verified by invoking the function to make some predictions based on values from the original data so that we know what the outputs should be …"
      ],
      "metadata": {
        "id": "_Pl18ROwZl2f"
      }
    },
    {
      "cell_type": "code",
      "source": [
        "predict_drug(47, \"F\", \"LOW\",  \"HIGH\", 14)"
      ],
      "metadata": {
        "colab": {
          "base_uri": "https://localhost:8080/",
          "height": 92
        },
        "id": "Rl_UGF3eZhAm",
        "outputId": "4316a15d-193d-4c74-935e-0a1401426710"
      },
      "execution_count": 5,
      "outputs": [
        {
          "output_type": "stream",
          "name": "stderr",
          "text": [
            "/usr/local/lib/python3.7/dist-packages/sklearn/base.py:451: UserWarning: X does not have valid feature names, but DecisionTreeClassifier was fitted with feature names\n",
            "  \"X does not have valid feature names, but\"\n"
          ]
        },
        {
          "output_type": "execute_result",
          "data": {
            "text/plain": [
              "'drugC'"
            ],
            "application/vnd.google.colaboratory.intrinsic+json": {
              "type": "string"
            }
          },
          "metadata": {},
          "execution_count": 5
        }
      ]
    },
    {
      "cell_type": "code",
      "source": [
        "predict_drug(60, \"F\", \"LOW\",  \"HIGH\", 20)"
      ],
      "metadata": {
        "colab": {
          "base_uri": "https://localhost:8080/",
          "height": 92
        },
        "id": "SStgV3yNZnVZ",
        "outputId": "e8ac47d5-83a1-45ca-8ac3-881ef59b4cba"
      },
      "execution_count": 6,
      "outputs": [
        {
          "output_type": "stream",
          "name": "stderr",
          "text": [
            "/usr/local/lib/python3.7/dist-packages/sklearn/base.py:451: UserWarning: X does not have valid feature names, but DecisionTreeClassifier was fitted with feature names\n",
            "  \"X does not have valid feature names, but\"\n"
          ]
        },
        {
          "output_type": "execute_result",
          "data": {
            "text/plain": [
              "'DrugY'"
            ],
            "application/vnd.google.colaboratory.intrinsic+json": {
              "type": "string"
            }
          },
          "metadata": {},
          "execution_count": 6
        }
      ]
    },
    {
      "cell_type": "markdown",
      "source": [
        "Note that our ```predict_drug``` function does not need to train the model, rather it \"rehydrates\" the model that previously had its state saved by ```pickle``` into the ```model.pkl``` file and we can see from the output that the predictions for drug recommendation are correct.\n",
        "\n",
        "# **Step 3: Develop a Web Service Wrapper**\n",
        "* This is where web services come in. A web service is a ```“wrapper”``` that receives requests from clients and consumers using http GET and http PUT commands, invokes the Python code and returns the result as an HTML response.\n",
        "\n",
        "* This means that the clients and callers only need to be able to formulate HTTP requests and nearly all programming languages and environments will have a way of doing this.\n",
        "\n",
        "* In the Python world there are several different approaches available but the one I have selected is to use ```flask``` to construct our web service wrapper.\n",
        "\n",
        "### **References:**\n",
        "1. https://medium.com/@nikovrdoljak/deploy-your-flask-app-on-azure-in-3-easy-steps-b2fe388a589e\n",
        "2. Machine Learning in Action Book"
      ],
      "metadata": {
        "id": "33-O40s1aXiX"
      }
    }
  ]
}