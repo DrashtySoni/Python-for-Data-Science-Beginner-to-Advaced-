{
 "cells": [
  {
   "cell_type": "code",
   "execution_count": 1,
   "id": "dd38396e",
   "metadata": {
    "_cell_guid": "b1076dfc-b9ad-4769-8c92-a6c4dae69d19",
    "_uuid": "8f2839f25d086af736a60e9eeb907d3b93b6e0e5",
    "execution": {
     "iopub.execute_input": "2021-08-04T07:57:17.319846Z",
     "iopub.status.busy": "2021-08-04T07:57:17.317986Z",
     "iopub.status.idle": "2021-08-04T07:57:17.334572Z",
     "shell.execute_reply": "2021-08-04T07:57:17.333694Z",
     "shell.execute_reply.started": "2021-08-03T10:33:18.047536Z"
    },
    "papermill": {
     "duration": 0.037943,
     "end_time": "2021-08-04T07:57:17.334813",
     "exception": false,
     "start_time": "2021-08-04T07:57:17.296870",
     "status": "completed"
    },
    "tags": []
   },
   "outputs": [
    {
     "name": "stdout",
     "output_type": "stream",
     "text": [
      "/kaggle/input/house-prices-advanced-regression-techniques/sample_submission.csv\n",
      "/kaggle/input/house-prices-advanced-regression-techniques/data_description.txt\n",
      "/kaggle/input/house-prices-advanced-regression-techniques/train.csv\n",
      "/kaggle/input/house-prices-advanced-regression-techniques/test.csv\n"
     ]
    }
   ],
   "source": [
    "# This Python 3 environment comes with many helpful analytics libraries installed\n",
    "# It is defined by the kaggle/python Docker image: https://github.com/kaggle/docker-python\n",
    "# For example, here's several helpful packages to load\n",
    "\n",
    "import numpy as np # linear algebra\n",
    "import pandas as pd # data processing, CSV file I/O (e.g. pd.read_csv)\n",
    "\n",
    "# Input data files are available in the read-only \"../input/\" directory\n",
    "# For example, running this (by clicking run or pressing Shift+Enter) will list all files under the input directory\n",
    "\n",
    "import os\n",
    "for dirname, _, filenames in os.walk('/kaggle/input'):\n",
    "    for filename in filenames:\n",
    "        print(os.path.join(dirname, filename))\n",
    "\n",
    "# You can write up to 20GB to the current directory (/kaggle/working/) that gets preserved as output when you create a version using \"Save & Run All\" \n",
    "# You can also write temporary files to /kaggle/temp/, but they won't be saved outside of the current session"
   ]
  },
  {
   "cell_type": "code",
   "execution_count": 2,
   "id": "27fcb37c",
   "metadata": {
    "execution": {
     "iopub.execute_input": "2021-08-04T07:57:17.375757Z",
     "iopub.status.busy": "2021-08-04T07:57:17.375135Z",
     "iopub.status.idle": "2021-08-04T07:57:17.529580Z",
     "shell.execute_reply": "2021-08-04T07:57:17.530268Z",
     "shell.execute_reply.started": "2021-08-03T10:33:18.060663Z"
    },
    "papermill": {
     "duration": 0.174069,
     "end_time": "2021-08-04T07:57:17.530507",
     "exception": false,
     "start_time": "2021-08-04T07:57:17.356438",
     "status": "completed"
    },
    "tags": []
   },
   "outputs": [],
   "source": [
    "df=pd.read_csv('/kaggle/input/house-prices-advanced-regression-techniques/train.csv')\n",
    "test=pd.read_csv('/kaggle/input/house-prices-advanced-regression-techniques/test.csv')"
   ]
  },
  {
   "cell_type": "code",
   "execution_count": 3,
   "id": "43277a7a",
   "metadata": {
    "execution": {
     "iopub.execute_input": "2021-08-04T07:57:17.580124Z",
     "iopub.status.busy": "2021-08-04T07:57:17.579494Z",
     "iopub.status.idle": "2021-08-04T07:57:17.623923Z",
     "shell.execute_reply": "2021-08-04T07:57:17.623440Z",
     "shell.execute_reply.started": "2021-08-03T10:33:18.138155Z"
    },
    "papermill": {
     "duration": 0.067546,
     "end_time": "2021-08-04T07:57:17.624060",
     "exception": false,
     "start_time": "2021-08-04T07:57:17.556514",
     "status": "completed"
    },
    "tags": []
   },
   "outputs": [
    {
     "data": {
      "text/html": [
       "<div>\n",
       "<style scoped>\n",
       "    .dataframe tbody tr th:only-of-type {\n",
       "        vertical-align: middle;\n",
       "    }\n",
       "\n",
       "    .dataframe tbody tr th {\n",
       "        vertical-align: top;\n",
       "    }\n",
       "\n",
       "    .dataframe thead th {\n",
       "        text-align: right;\n",
       "    }\n",
       "</style>\n",
       "<table border=\"1\" class=\"dataframe\">\n",
       "  <thead>\n",
       "    <tr style=\"text-align: right;\">\n",
       "      <th></th>\n",
       "      <th>Id</th>\n",
       "      <th>MSSubClass</th>\n",
       "      <th>MSZoning</th>\n",
       "      <th>LotFrontage</th>\n",
       "      <th>LotArea</th>\n",
       "      <th>Street</th>\n",
       "      <th>Alley</th>\n",
       "      <th>LotShape</th>\n",
       "      <th>LandContour</th>\n",
       "      <th>Utilities</th>\n",
       "      <th>...</th>\n",
       "      <th>PoolArea</th>\n",
       "      <th>PoolQC</th>\n",
       "      <th>Fence</th>\n",
       "      <th>MiscFeature</th>\n",
       "      <th>MiscVal</th>\n",
       "      <th>MoSold</th>\n",
       "      <th>YrSold</th>\n",
       "      <th>SaleType</th>\n",
       "      <th>SaleCondition</th>\n",
       "      <th>SalePrice</th>\n",
       "    </tr>\n",
       "  </thead>\n",
       "  <tbody>\n",
       "    <tr>\n",
       "      <th>0</th>\n",
       "      <td>1</td>\n",
       "      <td>60</td>\n",
       "      <td>RL</td>\n",
       "      <td>65.0</td>\n",
       "      <td>8450</td>\n",
       "      <td>Pave</td>\n",
       "      <td>NaN</td>\n",
       "      <td>Reg</td>\n",
       "      <td>Lvl</td>\n",
       "      <td>AllPub</td>\n",
       "      <td>...</td>\n",
       "      <td>0</td>\n",
       "      <td>NaN</td>\n",
       "      <td>NaN</td>\n",
       "      <td>NaN</td>\n",
       "      <td>0</td>\n",
       "      <td>2</td>\n",
       "      <td>2008</td>\n",
       "      <td>WD</td>\n",
       "      <td>Normal</td>\n",
       "      <td>208500</td>\n",
       "    </tr>\n",
       "    <tr>\n",
       "      <th>1</th>\n",
       "      <td>2</td>\n",
       "      <td>20</td>\n",
       "      <td>RL</td>\n",
       "      <td>80.0</td>\n",
       "      <td>9600</td>\n",
       "      <td>Pave</td>\n",
       "      <td>NaN</td>\n",
       "      <td>Reg</td>\n",
       "      <td>Lvl</td>\n",
       "      <td>AllPub</td>\n",
       "      <td>...</td>\n",
       "      <td>0</td>\n",
       "      <td>NaN</td>\n",
       "      <td>NaN</td>\n",
       "      <td>NaN</td>\n",
       "      <td>0</td>\n",
       "      <td>5</td>\n",
       "      <td>2007</td>\n",
       "      <td>WD</td>\n",
       "      <td>Normal</td>\n",
       "      <td>181500</td>\n",
       "    </tr>\n",
       "    <tr>\n",
       "      <th>2</th>\n",
       "      <td>3</td>\n",
       "      <td>60</td>\n",
       "      <td>RL</td>\n",
       "      <td>68.0</td>\n",
       "      <td>11250</td>\n",
       "      <td>Pave</td>\n",
       "      <td>NaN</td>\n",
       "      <td>IR1</td>\n",
       "      <td>Lvl</td>\n",
       "      <td>AllPub</td>\n",
       "      <td>...</td>\n",
       "      <td>0</td>\n",
       "      <td>NaN</td>\n",
       "      <td>NaN</td>\n",
       "      <td>NaN</td>\n",
       "      <td>0</td>\n",
       "      <td>9</td>\n",
       "      <td>2008</td>\n",
       "      <td>WD</td>\n",
       "      <td>Normal</td>\n",
       "      <td>223500</td>\n",
       "    </tr>\n",
       "    <tr>\n",
       "      <th>3</th>\n",
       "      <td>4</td>\n",
       "      <td>70</td>\n",
       "      <td>RL</td>\n",
       "      <td>60.0</td>\n",
       "      <td>9550</td>\n",
       "      <td>Pave</td>\n",
       "      <td>NaN</td>\n",
       "      <td>IR1</td>\n",
       "      <td>Lvl</td>\n",
       "      <td>AllPub</td>\n",
       "      <td>...</td>\n",
       "      <td>0</td>\n",
       "      <td>NaN</td>\n",
       "      <td>NaN</td>\n",
       "      <td>NaN</td>\n",
       "      <td>0</td>\n",
       "      <td>2</td>\n",
       "      <td>2006</td>\n",
       "      <td>WD</td>\n",
       "      <td>Abnorml</td>\n",
       "      <td>140000</td>\n",
       "    </tr>\n",
       "    <tr>\n",
       "      <th>4</th>\n",
       "      <td>5</td>\n",
       "      <td>60</td>\n",
       "      <td>RL</td>\n",
       "      <td>84.0</td>\n",
       "      <td>14260</td>\n",
       "      <td>Pave</td>\n",
       "      <td>NaN</td>\n",
       "      <td>IR1</td>\n",
       "      <td>Lvl</td>\n",
       "      <td>AllPub</td>\n",
       "      <td>...</td>\n",
       "      <td>0</td>\n",
       "      <td>NaN</td>\n",
       "      <td>NaN</td>\n",
       "      <td>NaN</td>\n",
       "      <td>0</td>\n",
       "      <td>12</td>\n",
       "      <td>2008</td>\n",
       "      <td>WD</td>\n",
       "      <td>Normal</td>\n",
       "      <td>250000</td>\n",
       "    </tr>\n",
       "  </tbody>\n",
       "</table>\n",
       "<p>5 rows × 81 columns</p>\n",
       "</div>"
      ],
      "text/plain": [
       "   Id  MSSubClass MSZoning  LotFrontage  LotArea Street Alley LotShape  \\\n",
       "0   1          60       RL         65.0     8450   Pave   NaN      Reg   \n",
       "1   2          20       RL         80.0     9600   Pave   NaN      Reg   \n",
       "2   3          60       RL         68.0    11250   Pave   NaN      IR1   \n",
       "3   4          70       RL         60.0     9550   Pave   NaN      IR1   \n",
       "4   5          60       RL         84.0    14260   Pave   NaN      IR1   \n",
       "\n",
       "  LandContour Utilities  ... PoolArea PoolQC Fence MiscFeature MiscVal MoSold  \\\n",
       "0         Lvl    AllPub  ...        0    NaN   NaN         NaN       0      2   \n",
       "1         Lvl    AllPub  ...        0    NaN   NaN         NaN       0      5   \n",
       "2         Lvl    AllPub  ...        0    NaN   NaN         NaN       0      9   \n",
       "3         Lvl    AllPub  ...        0    NaN   NaN         NaN       0      2   \n",
       "4         Lvl    AllPub  ...        0    NaN   NaN         NaN       0     12   \n",
       "\n",
       "  YrSold  SaleType  SaleCondition  SalePrice  \n",
       "0   2008        WD         Normal     208500  \n",
       "1   2007        WD         Normal     181500  \n",
       "2   2008        WD         Normal     223500  \n",
       "3   2006        WD        Abnorml     140000  \n",
       "4   2008        WD         Normal     250000  \n",
       "\n",
       "[5 rows x 81 columns]"
      ]
     },
     "execution_count": 3,
     "metadata": {},
     "output_type": "execute_result"
    }
   ],
   "source": [
    "df.head(5)"
   ]
  },
  {
   "cell_type": "code",
   "execution_count": 4,
   "id": "a1a99bbd",
   "metadata": {
    "execution": {
     "iopub.execute_input": "2021-08-04T07:57:17.665030Z",
     "iopub.status.busy": "2021-08-04T07:57:17.664374Z",
     "iopub.status.idle": "2021-08-04T07:57:17.687461Z",
     "shell.execute_reply": "2021-08-04T07:57:17.686595Z",
     "shell.execute_reply.started": "2021-08-03T10:33:18.172243Z"
    },
    "papermill": {
     "duration": 0.047482,
     "end_time": "2021-08-04T07:57:17.687776",
     "exception": false,
     "start_time": "2021-08-04T07:57:17.640294",
     "status": "completed"
    },
    "tags": []
   },
   "outputs": [
    {
     "name": "stdout",
     "output_type": "stream",
     "text": [
      "<class 'pandas.core.frame.DataFrame'>\n",
      "RangeIndex: 1460 entries, 0 to 1459\n",
      "Data columns (total 81 columns):\n",
      " #   Column         Non-Null Count  Dtype  \n",
      "---  ------         --------------  -----  \n",
      " 0   Id             1460 non-null   int64  \n",
      " 1   MSSubClass     1460 non-null   int64  \n",
      " 2   MSZoning       1460 non-null   object \n",
      " 3   LotFrontage    1201 non-null   float64\n",
      " 4   LotArea        1460 non-null   int64  \n",
      " 5   Street         1460 non-null   object \n",
      " 6   Alley          91 non-null     object \n",
      " 7   LotShape       1460 non-null   object \n",
      " 8   LandContour    1460 non-null   object \n",
      " 9   Utilities      1460 non-null   object \n",
      " 10  LotConfig      1460 non-null   object \n",
      " 11  LandSlope      1460 non-null   object \n",
      " 12  Neighborhood   1460 non-null   object \n",
      " 13  Condition1     1460 non-null   object \n",
      " 14  Condition2     1460 non-null   object \n",
      " 15  BldgType       1460 non-null   object \n",
      " 16  HouseStyle     1460 non-null   object \n",
      " 17  OverallQual    1460 non-null   int64  \n",
      " 18  OverallCond    1460 non-null   int64  \n",
      " 19  YearBuilt      1460 non-null   int64  \n",
      " 20  YearRemodAdd   1460 non-null   int64  \n",
      " 21  RoofStyle      1460 non-null   object \n",
      " 22  RoofMatl       1460 non-null   object \n",
      " 23  Exterior1st    1460 non-null   object \n",
      " 24  Exterior2nd    1460 non-null   object \n",
      " 25  MasVnrType     1452 non-null   object \n",
      " 26  MasVnrArea     1452 non-null   float64\n",
      " 27  ExterQual      1460 non-null   object \n",
      " 28  ExterCond      1460 non-null   object \n",
      " 29  Foundation     1460 non-null   object \n",
      " 30  BsmtQual       1423 non-null   object \n",
      " 31  BsmtCond       1423 non-null   object \n",
      " 32  BsmtExposure   1422 non-null   object \n",
      " 33  BsmtFinType1   1423 non-null   object \n",
      " 34  BsmtFinSF1     1460 non-null   int64  \n",
      " 35  BsmtFinType2   1422 non-null   object \n",
      " 36  BsmtFinSF2     1460 non-null   int64  \n",
      " 37  BsmtUnfSF      1460 non-null   int64  \n",
      " 38  TotalBsmtSF    1460 non-null   int64  \n",
      " 39  Heating        1460 non-null   object \n",
      " 40  HeatingQC      1460 non-null   object \n",
      " 41  CentralAir     1460 non-null   object \n",
      " 42  Electrical     1459 non-null   object \n",
      " 43  1stFlrSF       1460 non-null   int64  \n",
      " 44  2ndFlrSF       1460 non-null   int64  \n",
      " 45  LowQualFinSF   1460 non-null   int64  \n",
      " 46  GrLivArea      1460 non-null   int64  \n",
      " 47  BsmtFullBath   1460 non-null   int64  \n",
      " 48  BsmtHalfBath   1460 non-null   int64  \n",
      " 49  FullBath       1460 non-null   int64  \n",
      " 50  HalfBath       1460 non-null   int64  \n",
      " 51  BedroomAbvGr   1460 non-null   int64  \n",
      " 52  KitchenAbvGr   1460 non-null   int64  \n",
      " 53  KitchenQual    1460 non-null   object \n",
      " 54  TotRmsAbvGrd   1460 non-null   int64  \n",
      " 55  Functional     1460 non-null   object \n",
      " 56  Fireplaces     1460 non-null   int64  \n",
      " 57  FireplaceQu    770 non-null    object \n",
      " 58  GarageType     1379 non-null   object \n",
      " 59  GarageYrBlt    1379 non-null   float64\n",
      " 60  GarageFinish   1379 non-null   object \n",
      " 61  GarageCars     1460 non-null   int64  \n",
      " 62  GarageArea     1460 non-null   int64  \n",
      " 63  GarageQual     1379 non-null   object \n",
      " 64  GarageCond     1379 non-null   object \n",
      " 65  PavedDrive     1460 non-null   object \n",
      " 66  WoodDeckSF     1460 non-null   int64  \n",
      " 67  OpenPorchSF    1460 non-null   int64  \n",
      " 68  EnclosedPorch  1460 non-null   int64  \n",
      " 69  3SsnPorch      1460 non-null   int64  \n",
      " 70  ScreenPorch    1460 non-null   int64  \n",
      " 71  PoolArea       1460 non-null   int64  \n",
      " 72  PoolQC         7 non-null      object \n",
      " 73  Fence          281 non-null    object \n",
      " 74  MiscFeature    54 non-null     object \n",
      " 75  MiscVal        1460 non-null   int64  \n",
      " 76  MoSold         1460 non-null   int64  \n",
      " 77  YrSold         1460 non-null   int64  \n",
      " 78  SaleType       1460 non-null   object \n",
      " 79  SaleCondition  1460 non-null   object \n",
      " 80  SalePrice      1460 non-null   int64  \n",
      "dtypes: float64(3), int64(35), object(43)\n",
      "memory usage: 924.0+ KB\n"
     ]
    }
   ],
   "source": [
    "df.info()"
   ]
  },
  {
   "cell_type": "code",
   "execution_count": 5,
   "id": "0f9190dd",
   "metadata": {
    "execution": {
     "iopub.execute_input": "2021-08-04T07:57:17.729908Z",
     "iopub.status.busy": "2021-08-04T07:57:17.729228Z",
     "iopub.status.idle": "2021-08-04T07:57:17.761046Z",
     "shell.execute_reply": "2021-08-04T07:57:17.760508Z",
     "shell.execute_reply.started": "2021-08-03T10:33:18.20415Z"
    },
    "papermill": {
     "duration": 0.055813,
     "end_time": "2021-08-04T07:57:17.761190",
     "exception": false,
     "start_time": "2021-08-04T07:57:17.705377",
     "status": "completed"
    },
    "tags": []
   },
   "outputs": [
    {
     "name": "stdout",
     "output_type": "stream",
     "text": [
      "LotFrontage     17.739726\n",
      "Alley           93.767123\n",
      "MasVnrType       0.547945\n",
      "MasVnrArea       0.547945\n",
      "BsmtQual         2.534247\n",
      "BsmtCond         2.534247\n",
      "BsmtExposure     2.602740\n",
      "BsmtFinType1     2.534247\n",
      "BsmtFinType2     2.602740\n",
      "Electrical       0.068493\n",
      "FireplaceQu     47.260274\n",
      "GarageType       5.547945\n",
      "GarageYrBlt      5.547945\n",
      "GarageFinish     5.547945\n",
      "GarageQual       5.547945\n",
      "GarageCond       5.547945\n",
      "PoolQC          99.520548\n",
      "Fence           80.753425\n",
      "MiscFeature     96.301370\n",
      "dtype: float64\n",
      "**************\n",
      "LotFrontage    17.739726\n",
      "Alley          93.767123\n",
      "FireplaceQu    47.260274\n",
      "PoolQC         99.520548\n",
      "Fence          80.753425\n",
      "MiscFeature    96.301370\n",
      "dtype: float64\n",
      "----------------Test-----------------\n",
      "MSZoning         0.273973\n",
      "LotFrontage     15.547945\n",
      "Alley           92.602740\n",
      "Utilities        0.136986\n",
      "Exterior1st      0.068493\n",
      "Exterior2nd      0.068493\n",
      "MasVnrType       1.095890\n",
      "MasVnrArea       1.027397\n",
      "BsmtQual         3.013699\n",
      "BsmtCond         3.082192\n",
      "BsmtExposure     3.013699\n",
      "BsmtFinType1     2.876712\n",
      "BsmtFinSF1       0.068493\n",
      "BsmtFinType2     2.876712\n",
      "BsmtFinSF2       0.068493\n",
      "BsmtUnfSF        0.068493\n",
      "TotalBsmtSF      0.068493\n",
      "BsmtFullBath     0.136986\n",
      "BsmtHalfBath     0.136986\n",
      "KitchenQual      0.068493\n",
      "Functional       0.136986\n",
      "FireplaceQu     50.000000\n",
      "GarageType       5.205479\n",
      "GarageYrBlt      5.342466\n",
      "GarageFinish     5.342466\n",
      "GarageCars       0.068493\n",
      "GarageArea       0.068493\n",
      "GarageQual       5.342466\n",
      "GarageCond       5.342466\n",
      "PoolQC          99.726027\n",
      "Fence           80.068493\n",
      "MiscFeature     96.438356\n",
      "SaleType         0.068493\n",
      "dtype: float64\n",
      "**************\n",
      "LotFrontage    15.547945\n",
      "Alley          92.602740\n",
      "FireplaceQu    50.000000\n",
      "PoolQC         99.726027\n",
      "Fence          80.068493\n",
      "MiscFeature    96.438356\n",
      "dtype: float64\n"
     ]
    }
   ],
   "source": [
    "series=df.isnull().sum()/len(df)*100\n",
    "print(series[series>0])\n",
    "print(\"**************\")\n",
    "print(series[series>10])\n",
    "\n",
    "print(\"----------------Test-----------------\")\n",
    "series=test.isnull().sum()/len(df)*100\n",
    "print(series[series>0])\n",
    "print(\"**************\")\n",
    "print(series[series>10])"
   ]
  },
  {
   "cell_type": "code",
   "execution_count": 6,
   "id": "2b494437",
   "metadata": {
    "execution": {
     "iopub.execute_input": "2021-08-04T07:57:17.799480Z",
     "iopub.status.busy": "2021-08-04T07:57:17.798881Z",
     "iopub.status.idle": "2021-08-04T07:57:17.804749Z",
     "shell.execute_reply": "2021-08-04T07:57:17.804207Z",
     "shell.execute_reply.started": "2021-08-03T10:33:18.242239Z"
    },
    "papermill": {
     "duration": 0.027475,
     "end_time": "2021-08-04T07:57:17.804890",
     "exception": false,
     "start_time": "2021-08-04T07:57:17.777415",
     "status": "completed"
    },
    "tags": []
   },
   "outputs": [],
   "source": [
    "df.drop(['PoolQC', 'MiscFeature', 'Alley', 'Fence'],axis=1,inplace=True)\n",
    "test.drop(['PoolQC', 'MiscFeature', 'Alley', 'Fence'],axis=1,inplace=True)\n"
   ]
  },
  {
   "cell_type": "code",
   "execution_count": 7,
   "id": "bdb5f733",
   "metadata": {
    "execution": {
     "iopub.execute_input": "2021-08-04T07:57:17.840297Z",
     "iopub.status.busy": "2021-08-04T07:57:17.839694Z",
     "iopub.status.idle": "2021-08-04T07:57:17.850343Z",
     "shell.execute_reply": "2021-08-04T07:57:17.850775Z",
     "shell.execute_reply.started": "2021-08-03T10:33:18.253432Z"
    },
    "papermill": {
     "duration": 0.029684,
     "end_time": "2021-08-04T07:57:17.850949",
     "exception": false,
     "start_time": "2021-08-04T07:57:17.821265",
     "status": "completed"
    },
    "tags": []
   },
   "outputs": [
    {
     "name": "stdout",
     "output_type": "stream",
     "text": [
      "LotFrontage     17.739726\n",
      "MasVnrType       0.547945\n",
      "MasVnrArea       0.547945\n",
      "BsmtQual         2.534247\n",
      "BsmtCond         2.534247\n",
      "BsmtExposure     2.602740\n",
      "BsmtFinType1     2.534247\n",
      "BsmtFinType2     2.602740\n",
      "Electrical       0.068493\n",
      "FireplaceQu     47.260274\n",
      "GarageType       5.547945\n",
      "GarageYrBlt      5.547945\n",
      "GarageFinish     5.547945\n",
      "GarageQual       5.547945\n",
      "GarageCond       5.547945\n",
      "dtype: float64\n"
     ]
    }
   ],
   "source": [
    "series=df.isnull().sum()/len(df)*100\n",
    "print(series[series>0])"
   ]
  },
  {
   "cell_type": "code",
   "execution_count": 8,
   "id": "1da1e7bc",
   "metadata": {
    "execution": {
     "iopub.execute_input": "2021-08-04T07:57:17.887997Z",
     "iopub.status.busy": "2021-08-04T07:57:17.887387Z",
     "iopub.status.idle": "2021-08-04T07:57:17.892277Z",
     "shell.execute_reply": "2021-08-04T07:57:17.892769Z",
     "shell.execute_reply.started": "2021-08-03T10:33:18.279071Z"
    },
    "papermill": {
     "duration": 0.024964,
     "end_time": "2021-08-04T07:57:17.892947",
     "exception": false,
     "start_time": "2021-08-04T07:57:17.867983",
     "status": "completed"
    },
    "tags": []
   },
   "outputs": [],
   "source": [
    "df['FireplaceQu'].fillna('none',inplace=True)\n",
    "test['FireplaceQu'].fillna('none',inplace=True)"
   ]
  },
  {
   "cell_type": "code",
   "execution_count": 9,
   "id": "dc0ec752",
   "metadata": {
    "execution": {
     "iopub.execute_input": "2021-08-04T07:57:17.928925Z",
     "iopub.status.busy": "2021-08-04T07:57:17.928329Z",
     "iopub.status.idle": "2021-08-04T07:57:17.933488Z",
     "shell.execute_reply": "2021-08-04T07:57:17.934040Z",
     "shell.execute_reply.started": "2021-08-03T10:33:18.290568Z"
    },
    "papermill": {
     "duration": 0.024806,
     "end_time": "2021-08-04T07:57:17.934209",
     "exception": false,
     "start_time": "2021-08-04T07:57:17.909403",
     "status": "completed"
    },
    "tags": []
   },
   "outputs": [],
   "source": [
    "df['LotFrontage'].fillna(value=df['LotFrontage'].mean(),inplace=True)\n",
    "test['LotFrontage'].fillna(value=test['LotFrontage'].mean(),inplace=True)"
   ]
  },
  {
   "cell_type": "code",
   "execution_count": 10,
   "id": "9d6f7cfb",
   "metadata": {
    "execution": {
     "iopub.execute_input": "2021-08-04T07:57:17.970984Z",
     "iopub.status.busy": "2021-08-04T07:57:17.970358Z",
     "iopub.status.idle": "2021-08-04T07:57:17.977847Z",
     "shell.execute_reply": "2021-08-04T07:57:17.978317Z",
     "shell.execute_reply.started": "2021-08-03T10:33:18.30095Z"
    },
    "papermill": {
     "duration": 0.027424,
     "end_time": "2021-08-04T07:57:17.978479",
     "exception": false,
     "start_time": "2021-08-04T07:57:17.951055",
     "status": "completed"
    },
    "tags": []
   },
   "outputs": [],
   "source": [
    "garage_features=['GarageType','GarageFinish','GarageQual','GarageCond']\n",
    "for colname in garage_features:\n",
    "    df[colname].fillna('no garage',inplace=True)\n",
    "    test[colname].fillna('no garage',inplace=True)"
   ]
  },
  {
   "cell_type": "code",
   "execution_count": 11,
   "id": "42fde15e",
   "metadata": {
    "execution": {
     "iopub.execute_input": "2021-08-04T07:57:18.016275Z",
     "iopub.status.busy": "2021-08-04T07:57:18.015601Z",
     "iopub.status.idle": "2021-08-04T07:57:18.025827Z",
     "shell.execute_reply": "2021-08-04T07:57:18.026482Z",
     "shell.execute_reply.started": "2021-08-03T10:33:18.321871Z"
    },
    "papermill": {
     "duration": 0.030881,
     "end_time": "2021-08-04T07:57:18.026738",
     "exception": false,
     "start_time": "2021-08-04T07:57:17.995857",
     "status": "completed"
    },
    "tags": []
   },
   "outputs": [
    {
     "name": "stdout",
     "output_type": "stream",
     "text": [
      "['MasVnrType', 'MasVnrArea', 'BsmtQual', 'BsmtCond', 'BsmtExposure', 'BsmtFinType1', 'BsmtFinType2', 'Electrical', 'GarageYrBlt']\n"
     ]
    }
   ],
   "source": [
    "series=df.isnull().sum()/len(df)*100\n",
    "print(series[series>0].index.tolist())"
   ]
  },
  {
   "cell_type": "code",
   "execution_count": 12,
   "id": "0a893522",
   "metadata": {
    "execution": {
     "iopub.execute_input": "2021-08-04T07:57:18.064772Z",
     "iopub.status.busy": "2021-08-04T07:57:18.063860Z",
     "iopub.status.idle": "2021-08-04T07:57:18.079517Z",
     "shell.execute_reply": "2021-08-04T07:57:18.079982Z",
     "shell.execute_reply.started": "2021-08-03T10:33:18.344937Z"
    },
    "papermill": {
     "duration": 0.03578,
     "end_time": "2021-08-04T07:57:18.080154",
     "exception": false,
     "start_time": "2021-08-04T07:57:18.044374",
     "status": "completed"
    },
    "tags": []
   },
   "outputs": [
    {
     "name": "stdout",
     "output_type": "stream",
     "text": [
      "['Id', 'OverallQual', 'YearBuilt', 'YearRemodAdd', 'TotalBsmtSF', '1stFlrSF', 'GrLivArea', 'FullBath', 'TotRmsAbvGrd', 'GarageCars', 'GarageArea', 'SalePrice']\n"
     ]
    }
   ],
   "source": [
    "correlation=df.corr()['SalePrice']\n",
    "correlation=correlation[correlation>0.5]\n",
    "best_features=correlation.index.tolist()\n",
    "best_features=['Id']+best_features\n",
    "print(best_features)"
   ]
  },
  {
   "cell_type": "code",
   "execution_count": 13,
   "id": "cc112f00",
   "metadata": {
    "execution": {
     "iopub.execute_input": "2021-08-04T07:57:18.118473Z",
     "iopub.status.busy": "2021-08-04T07:57:18.117571Z",
     "iopub.status.idle": "2021-08-04T07:57:18.123915Z",
     "shell.execute_reply": "2021-08-04T07:57:18.124349Z",
     "shell.execute_reply.started": "2021-08-03T10:33:18.362881Z"
    },
    "papermill": {
     "duration": 0.026573,
     "end_time": "2021-08-04T07:57:18.124534",
     "exception": false,
     "start_time": "2021-08-04T07:57:18.097961",
     "status": "completed"
    },
    "tags": []
   },
   "outputs": [],
   "source": [
    "df=df[best_features]\n",
    "test=test[best_features[0:-1]]"
   ]
  },
  {
   "cell_type": "code",
   "execution_count": 14,
   "id": "4c6c0e45",
   "metadata": {
    "execution": {
     "iopub.execute_input": "2021-08-04T07:57:18.163250Z",
     "iopub.status.busy": "2021-08-04T07:57:18.162333Z",
     "iopub.status.idle": "2021-08-04T07:57:18.172881Z",
     "shell.execute_reply": "2021-08-04T07:57:18.173308Z",
     "shell.execute_reply.started": "2021-08-03T10:33:18.373637Z"
    },
    "papermill": {
     "duration": 0.031049,
     "end_time": "2021-08-04T07:57:18.173481",
     "exception": false,
     "start_time": "2021-08-04T07:57:18.142432",
     "status": "completed"
    },
    "tags": []
   },
   "outputs": [
    {
     "name": "stdout",
     "output_type": "stream",
     "text": [
      "TotalBsmtSF    0.068493\n",
      "GarageCars     0.068493\n",
      "GarageArea     0.068493\n",
      "dtype: float64\n"
     ]
    }
   ],
   "source": [
    "series=test.isnull().sum()/len(df)*100\n",
    "print(series[series>0])\n",
    "\n",
    "test['TotalBsmtSF'].fillna(value=test['TotalBsmtSF'].mean(),inplace=True)\n",
    "test['GarageCars'].fillna(value=test['GarageCars'].mean(),inplace=True)\n",
    "test['GarageArea'].fillna(value=test['GarageArea'].mean(),inplace=True)"
   ]
  },
  {
   "cell_type": "code",
   "execution_count": 15,
   "id": "25cb8804",
   "metadata": {
    "execution": {
     "iopub.execute_input": "2021-08-04T07:57:18.212865Z",
     "iopub.status.busy": "2021-08-04T07:57:18.211920Z",
     "iopub.status.idle": "2021-08-04T07:57:18.219821Z",
     "shell.execute_reply": "2021-08-04T07:57:18.220236Z",
     "shell.execute_reply.started": "2021-08-03T10:33:18.389416Z"
    },
    "papermill": {
     "duration": 0.029271,
     "end_time": "2021-08-04T07:57:18.220421",
     "exception": false,
     "start_time": "2021-08-04T07:57:18.191150",
     "status": "completed"
    },
    "tags": []
   },
   "outputs": [
    {
     "name": "stdout",
     "output_type": "stream",
     "text": [
      "Series([], dtype: float64)\n"
     ]
    }
   ],
   "source": [
    "series=test.isnull().sum()/len(df)*100\n",
    "print(series[series>0])\n"
   ]
  },
  {
   "cell_type": "code",
   "execution_count": 16,
   "id": "f76c0eb8",
   "metadata": {
    "execution": {
     "iopub.execute_input": "2021-08-04T07:57:18.260366Z",
     "iopub.status.busy": "2021-08-04T07:57:18.259480Z",
     "iopub.status.idle": "2021-08-04T07:57:20.183557Z",
     "shell.execute_reply": "2021-08-04T07:57:20.184117Z",
     "shell.execute_reply.started": "2021-08-03T10:33:18.401312Z"
    },
    "papermill": {
     "duration": 1.94631,
     "end_time": "2021-08-04T07:57:20.184293",
     "exception": false,
     "start_time": "2021-08-04T07:57:18.237983",
     "status": "completed"
    },
    "tags": []
   },
   "outputs": [
    {
     "data": {
      "image/png": "[encoded data removed]",
      "text/plain": [
       "<Figure size 432x288 with 2 Axes>"
      ]
     },
     "metadata": {
      "needs_background": "light"
     },
     "output_type": "display_data"
    }
   ],
   "source": [
    "import seaborn as sns\n",
    "g=sns.heatmap(df[best_features].corr(),annot=True,cmap=\"YlGnBu\")"
   ]
  },
  {
   "cell_type": "code",
   "execution_count": 17,
   "id": "eaabcf56",
   "metadata": {
    "execution": {
     "iopub.execute_input": "2021-08-04T07:57:20.227581Z",
     "iopub.status.busy": "2021-08-04T07:57:20.227047Z",
     "iopub.status.idle": "2021-08-04T07:57:20.238088Z",
     "shell.execute_reply": "2021-08-04T07:57:20.238549Z",
     "shell.execute_reply.started": "2021-08-03T10:33:19.534009Z"
    },
    "papermill": {
     "duration": 0.034216,
     "end_time": "2021-08-04T07:57:20.238737",
     "exception": false,
     "start_time": "2021-08-04T07:57:20.204521",
     "status": "completed"
    },
    "tags": []
   },
   "outputs": [
    {
     "data": {
      "text/html": [
       "<div>\n",
       "<style scoped>\n",
       "    .dataframe tbody tr th:only-of-type {\n",
       "        vertical-align: middle;\n",
       "    }\n",
       "\n",
       "    .dataframe tbody tr th {\n",
       "        vertical-align: top;\n",
       "    }\n",
       "\n",
       "    .dataframe thead th {\n",
       "        text-align: right;\n",
       "    }\n",
       "</style>\n",
       "<table border=\"1\" class=\"dataframe\">\n",
       "  <thead>\n",
       "    <tr style=\"text-align: right;\">\n",
       "      <th></th>\n",
       "      <th>Id</th>\n",
       "      <th>OverallQual</th>\n",
       "      <th>YearBuilt</th>\n",
       "      <th>YearRemodAdd</th>\n",
       "      <th>TotalBsmtSF</th>\n",
       "      <th>1stFlrSF</th>\n",
       "      <th>GrLivArea</th>\n",
       "      <th>FullBath</th>\n",
       "      <th>TotRmsAbvGrd</th>\n",
       "      <th>GarageCars</th>\n",
       "      <th>GarageArea</th>\n",
       "      <th>SalePrice</th>\n",
       "    </tr>\n",
       "  </thead>\n",
       "  <tbody>\n",
       "    <tr>\n",
       "      <th>0</th>\n",
       "      <td>1</td>\n",
       "      <td>7</td>\n",
       "      <td>2003</td>\n",
       "      <td>2003</td>\n",
       "      <td>856</td>\n",
       "      <td>856</td>\n",
       "      <td>1710</td>\n",
       "      <td>2</td>\n",
       "      <td>8</td>\n",
       "      <td>2</td>\n",
       "      <td>548</td>\n",
       "      <td>208500</td>\n",
       "    </tr>\n",
       "    <tr>\n",
       "      <th>1</th>\n",
       "      <td>2</td>\n",
       "      <td>6</td>\n",
       "      <td>1976</td>\n",
       "      <td>1976</td>\n",
       "      <td>1262</td>\n",
       "      <td>1262</td>\n",
       "      <td>1262</td>\n",
       "      <td>2</td>\n",
       "      <td>6</td>\n",
       "      <td>2</td>\n",
       "      <td>460</td>\n",
       "      <td>181500</td>\n",
       "    </tr>\n",
       "    <tr>\n",
       "      <th>2</th>\n",
       "      <td>3</td>\n",
       "      <td>7</td>\n",
       "      <td>2001</td>\n",
       "      <td>2002</td>\n",
       "      <td>920</td>\n",
       "      <td>920</td>\n",
       "      <td>1786</td>\n",
       "      <td>2</td>\n",
       "      <td>6</td>\n",
       "      <td>2</td>\n",
       "      <td>608</td>\n",
       "      <td>223500</td>\n",
       "    </tr>\n",
       "    <tr>\n",
       "      <th>3</th>\n",
       "      <td>4</td>\n",
       "      <td>7</td>\n",
       "      <td>1915</td>\n",
       "      <td>1970</td>\n",
       "      <td>756</td>\n",
       "      <td>961</td>\n",
       "      <td>1717</td>\n",
       "      <td>1</td>\n",
       "      <td>7</td>\n",
       "      <td>3</td>\n",
       "      <td>642</td>\n",
       "      <td>140000</td>\n",
       "    </tr>\n",
       "    <tr>\n",
       "      <th>4</th>\n",
       "      <td>5</td>\n",
       "      <td>8</td>\n",
       "      <td>2000</td>\n",
       "      <td>2000</td>\n",
       "      <td>1145</td>\n",
       "      <td>1145</td>\n",
       "      <td>2198</td>\n",
       "      <td>2</td>\n",
       "      <td>9</td>\n",
       "      <td>3</td>\n",
       "      <td>836</td>\n",
       "      <td>250000</td>\n",
       "    </tr>\n",
       "  </tbody>\n",
       "</table>\n",
       "</div>"
      ],
      "text/plain": [
       "   Id  OverallQual  YearBuilt  YearRemodAdd  TotalBsmtSF  1stFlrSF  GrLivArea  \\\n",
       "0   1            7       2003          2003          856       856       1710   \n",
       "1   2            6       1976          1976         1262      1262       1262   \n",
       "2   3            7       2001          2002          920       920       1786   \n",
       "3   4            7       1915          1970          756       961       1717   \n",
       "4   5            8       2000          2000         1145      1145       2198   \n",
       "\n",
       "   FullBath  TotRmsAbvGrd  GarageCars  GarageArea  SalePrice  \n",
       "0         2             8           2         548     208500  \n",
       "1         2             6           2         460     181500  \n",
       "2         2             6           2         608     223500  \n",
       "3         1             7           3         642     140000  \n",
       "4         2             9           3         836     250000  "
      ]
     },
     "execution_count": 17,
     "metadata": {},
     "output_type": "execute_result"
    }
   ],
   "source": [
    "df.head(5)\n"
   ]
  },
  {
   "cell_type": "code",
   "execution_count": 18,
   "id": "a85e87ba",
   "metadata": {
    "execution": {
     "iopub.execute_input": "2021-08-04T07:57:20.286600Z",
     "iopub.status.busy": "2021-08-04T07:57:20.285720Z",
     "iopub.status.idle": "2021-08-04T07:57:20.299683Z",
     "shell.execute_reply": "2021-08-04T07:57:20.300215Z",
     "shell.execute_reply.started": "2021-08-03T10:33:19.553185Z"
    },
    "papermill": {
     "duration": 0.039175,
     "end_time": "2021-08-04T07:57:20.300382",
     "exception": false,
     "start_time": "2021-08-04T07:57:20.261207",
     "status": "completed"
    },
    "tags": []
   },
   "outputs": [
    {
     "data": {
      "text/html": [
       "<div>\n",
       "<style scoped>\n",
       "    .dataframe tbody tr th:only-of-type {\n",
       "        vertical-align: middle;\n",
       "    }\n",
       "\n",
       "    .dataframe tbody tr th {\n",
       "        vertical-align: top;\n",
       "    }\n",
       "\n",
       "    .dataframe thead th {\n",
       "        text-align: right;\n",
       "    }\n",
       "</style>\n",
       "<table border=\"1\" class=\"dataframe\">\n",
       "  <thead>\n",
       "    <tr style=\"text-align: right;\">\n",
       "      <th></th>\n",
       "      <th>Id</th>\n",
       "      <th>OverallQual</th>\n",
       "      <th>YearBuilt</th>\n",
       "      <th>YearRemodAdd</th>\n",
       "      <th>TotalBsmtSF</th>\n",
       "      <th>1stFlrSF</th>\n",
       "      <th>GrLivArea</th>\n",
       "      <th>FullBath</th>\n",
       "      <th>TotRmsAbvGrd</th>\n",
       "      <th>GarageCars</th>\n",
       "      <th>GarageArea</th>\n",
       "    </tr>\n",
       "  </thead>\n",
       "  <tbody>\n",
       "    <tr>\n",
       "      <th>0</th>\n",
       "      <td>1461</td>\n",
       "      <td>5</td>\n",
       "      <td>1961</td>\n",
       "      <td>1961</td>\n",
       "      <td>882.0</td>\n",
       "      <td>896</td>\n",
       "      <td>896</td>\n",
       "      <td>1</td>\n",
       "      <td>5</td>\n",
       "      <td>1.0</td>\n",
       "      <td>730.0</td>\n",
       "    </tr>\n",
       "    <tr>\n",
       "      <th>1</th>\n",
       "      <td>1462</td>\n",
       "      <td>6</td>\n",
       "      <td>1958</td>\n",
       "      <td>1958</td>\n",
       "      <td>1329.0</td>\n",
       "      <td>1329</td>\n",
       "      <td>1329</td>\n",
       "      <td>1</td>\n",
       "      <td>6</td>\n",
       "      <td>1.0</td>\n",
       "      <td>312.0</td>\n",
       "    </tr>\n",
       "    <tr>\n",
       "      <th>2</th>\n",
       "      <td>1463</td>\n",
       "      <td>5</td>\n",
       "      <td>1997</td>\n",
       "      <td>1998</td>\n",
       "      <td>928.0</td>\n",
       "      <td>928</td>\n",
       "      <td>1629</td>\n",
       "      <td>2</td>\n",
       "      <td>6</td>\n",
       "      <td>2.0</td>\n",
       "      <td>482.0</td>\n",
       "    </tr>\n",
       "    <tr>\n",
       "      <th>3</th>\n",
       "      <td>1464</td>\n",
       "      <td>6</td>\n",
       "      <td>1998</td>\n",
       "      <td>1998</td>\n",
       "      <td>926.0</td>\n",
       "      <td>926</td>\n",
       "      <td>1604</td>\n",
       "      <td>2</td>\n",
       "      <td>7</td>\n",
       "      <td>2.0</td>\n",
       "      <td>470.0</td>\n",
       "    </tr>\n",
       "    <tr>\n",
       "      <th>4</th>\n",
       "      <td>1465</td>\n",
       "      <td>8</td>\n",
       "      <td>1992</td>\n",
       "      <td>1992</td>\n",
       "      <td>1280.0</td>\n",
       "      <td>1280</td>\n",
       "      <td>1280</td>\n",
       "      <td>2</td>\n",
       "      <td>5</td>\n",
       "      <td>2.0</td>\n",
       "      <td>506.0</td>\n",
       "    </tr>\n",
       "  </tbody>\n",
       "</table>\n",
       "</div>"
      ],
      "text/plain": [
       "     Id  OverallQual  YearBuilt  YearRemodAdd  TotalBsmtSF  1stFlrSF  \\\n",
       "0  1461            5       1961          1961        882.0       896   \n",
       "1  1462            6       1958          1958       1329.0      1329   \n",
       "2  1463            5       1997          1998        928.0       928   \n",
       "3  1464            6       1998          1998        926.0       926   \n",
       "4  1465            8       1992          1992       1280.0      1280   \n",
       "\n",
       "   GrLivArea  FullBath  TotRmsAbvGrd  GarageCars  GarageArea  \n",
       "0        896         1             5         1.0       730.0  \n",
       "1       1329         1             6         1.0       312.0  \n",
       "2       1629         2             6         2.0       482.0  \n",
       "3       1604         2             7         2.0       470.0  \n",
       "4       1280         2             5         2.0       506.0  "
      ]
     },
     "execution_count": 18,
     "metadata": {},
     "output_type": "execute_result"
    }
   ],
   "source": [
    "test.head(5)"
   ]
  },
  {
   "cell_type": "code",
   "execution_count": 19,
   "id": "823fd5a5",
   "metadata": {
    "execution": {
     "iopub.execute_input": "2021-08-04T07:57:20.347512Z",
     "iopub.status.busy": "2021-08-04T07:57:20.346908Z",
     "iopub.status.idle": "2021-08-04T07:57:20.540401Z",
     "shell.execute_reply": "2021-08-04T07:57:20.539593Z",
     "shell.execute_reply.started": "2021-08-03T10:33:19.5783Z"
    },
    "papermill": {
     "duration": 0.21887,
     "end_time": "2021-08-04T07:57:20.540576",
     "exception": false,
     "start_time": "2021-08-04T07:57:20.321706",
     "status": "completed"
    },
    "tags": []
   },
   "outputs": [],
   "source": [
    "from sklearn.model_selection import train_test_split\n",
    "X=df.drop(['Id','SalePrice'],axis=1)\n",
    "y=df['SalePrice']\n",
    "X_train,X_test,y_train,y_test=train_test_split(X,y,random_state=42)"
   ]
  },
  {
   "cell_type": "code",
   "execution_count": 20,
   "id": "34180582",
   "metadata": {
    "execution": {
     "iopub.execute_input": "2021-08-04T07:57:20.588440Z",
     "iopub.status.busy": "2021-08-04T07:57:20.587769Z",
     "iopub.status.idle": "2021-08-04T07:57:20.966053Z",
     "shell.execute_reply": "2021-08-04T07:57:20.965531Z",
     "shell.execute_reply.started": "2021-08-03T10:33:19.596378Z"
    },
    "papermill": {
     "duration": 0.404218,
     "end_time": "2021-08-04T07:57:20.966203",
     "exception": false,
     "start_time": "2021-08-04T07:57:20.561985",
     "status": "completed"
    },
    "tags": []
   },
   "outputs": [
    {
     "name": "stdout",
     "output_type": "stream",
     "text": [
      "0.8000026580314374\n"
     ]
    }
   ],
   "source": [
    "from sklearn.linear_model import LinearRegression\n",
    "lr=LinearRegression(normalize=True)\n",
    "lr.fit(X_train,y_train)\n",
    "print(lr.score(X_test,y_test))"
   ]
  },
  {
   "cell_type": "code",
   "execution_count": 21,
   "id": "6573be39",
   "metadata": {
    "execution": {
     "iopub.execute_input": "2021-08-04T07:57:21.019321Z",
     "iopub.status.busy": "2021-08-04T07:57:21.017944Z",
     "iopub.status.idle": "2021-08-04T07:57:21.022112Z",
     "shell.execute_reply": "2021-08-04T07:57:21.022698Z",
     "shell.execute_reply.started": "2021-08-03T10:33:19.616822Z"
    },
    "papermill": {
     "duration": 0.034102,
     "end_time": "2021-08-04T07:57:21.022867",
     "exception": false,
     "start_time": "2021-08-04T07:57:20.988765",
     "status": "completed"
    },
    "tags": []
   },
   "outputs": [],
   "source": [
    "pred=lr.predict(test.drop(['Id'],axis=1))"
   ]
  },
  {
   "cell_type": "code",
   "execution_count": 22,
   "id": "26fed73d",
   "metadata": {
    "execution": {
     "iopub.execute_input": "2021-08-04T07:57:21.072983Z",
     "iopub.status.busy": "2021-08-04T07:57:21.072067Z",
     "iopub.status.idle": "2021-08-04T07:57:21.125504Z",
     "shell.execute_reply": "2021-08-04T07:57:21.126597Z",
     "shell.execute_reply.started": "2021-08-03T10:33:19.639035Z"
    },
    "papermill": {
     "duration": 0.080468,
     "end_time": "2021-08-04T07:57:21.126879",
     "exception": false,
     "start_time": "2021-08-04T07:57:21.046411",
     "status": "completed"
    },
    "tags": []
   },
   "outputs": [
    {
     "data": {
      "text/html": [
       "<div>\n",
       "<style scoped>\n",
       "    .dataframe tbody tr th:only-of-type {\n",
       "        vertical-align: middle;\n",
       "    }\n",
       "\n",
       "    .dataframe tbody tr th {\n",
       "        vertical-align: top;\n",
       "    }\n",
       "\n",
       "    .dataframe thead th {\n",
       "        text-align: right;\n",
       "    }\n",
       "</style>\n",
       "<table border=\"1\" class=\"dataframe\">\n",
       "  <thead>\n",
       "    <tr style=\"text-align: right;\">\n",
       "      <th></th>\n",
       "      <th>SalePrice</th>\n",
       "    </tr>\n",
       "    <tr>\n",
       "      <th>Id</th>\n",
       "      <th></th>\n",
       "    </tr>\n",
       "  </thead>\n",
       "  <tbody>\n",
       "    <tr>\n",
       "      <th>1461</th>\n",
       "      <td>109007.507692</td>\n",
       "    </tr>\n",
       "    <tr>\n",
       "      <th>1462</th>\n",
       "      <td>155555.628355</td>\n",
       "    </tr>\n",
       "    <tr>\n",
       "      <th>1463</th>\n",
       "      <td>170092.887999</td>\n",
       "    </tr>\n",
       "    <tr>\n",
       "      <th>1464</th>\n",
       "      <td>189225.820469</td>\n",
       "    </tr>\n",
       "    <tr>\n",
       "      <th>1465</th>\n",
       "      <td>218462.424022</td>\n",
       "    </tr>\n",
       "  </tbody>\n",
       "</table>\n",
       "</div>"
      ],
      "text/plain": [
       "          SalePrice\n",
       "Id                 \n",
       "1461  109007.507692\n",
       "1462  155555.628355\n",
       "1463  170092.887999\n",
       "1464  189225.820469\n",
       "1465  218462.424022"
      ]
     },
     "execution_count": 22,
     "metadata": {},
     "output_type": "execute_result"
    }
   ],
   "source": [
    "test=pd.read_csv('/kaggle/input/house-prices-advanced-regression-techniques/test.csv')\n",
    "Submission=pd.DataFrame(data=pred,columns=['SalePrice'])\n",
    "Submission['Id']=test['Id']\n",
    "Submission=Submission[['Id','SalePrice']]\n",
    "\n",
    "Submission.set_index('Id',inplace=True)\n",
    "\n",
    "Submission.head(5)"
   ]
  },
  {
   "cell_type": "code",
   "execution_count": 23,
   "id": "a48dc945",
   "metadata": {
    "execution": {
     "iopub.execute_input": "2021-08-04T07:57:21.182461Z",
     "iopub.status.busy": "2021-08-04T07:57:21.181672Z",
     "iopub.status.idle": "2021-08-04T07:57:21.184941Z",
     "shell.execute_reply": "2021-08-04T07:57:21.185408Z",
     "shell.execute_reply.started": "2021-08-03T10:33:34.338636Z"
    },
    "papermill": {
     "duration": 0.030806,
     "end_time": "2021-08-04T07:57:21.185565",
     "exception": false,
     "start_time": "2021-08-04T07:57:21.154759",
     "status": "completed"
    },
    "tags": []
   },
   "outputs": [
    {
     "data": {
      "text/plain": [
       "1459"
      ]
     },
     "execution_count": 23,
     "metadata": {},
     "output_type": "execute_result"
    }
   ],
   "source": [
    "len(Submission)"
   ]
  },
  {
   "cell_type": "code",
   "execution_count": 24,
   "id": "00ff3e89",
   "metadata": {
    "execution": {
     "iopub.execute_input": "2021-08-04T07:57:21.235376Z",
     "iopub.status.busy": "2021-08-04T07:57:21.234506Z",
     "iopub.status.idle": "2021-08-04T07:57:21.247208Z",
     "shell.execute_reply": "2021-08-04T07:57:21.246081Z",
     "shell.execute_reply.started": "2021-08-03T10:33:19.721758Z"
    },
    "papermill": {
     "duration": 0.038777,
     "end_time": "2021-08-04T07:57:21.247349",
     "exception": false,
     "start_time": "2021-08-04T07:57:21.208572",
     "status": "completed"
    },
    "tags": []
   },
   "outputs": [],
   "source": [
    "Submission.to_csv('Submission.csv')"
   ]
  }
 ],
 "metadata": {
  "kernelspec": {
   "display_name": "Python 3",
   "language": "python",
   "name": "python3"
  },
  "language_info": {
   "codemirror_mode": {
    "name": "ipython",
    "version": 3
   },
   "file_extension": ".py",
   "mimetype": "text/x-python",
   "name": "python",
   "nbconvert_exporter": "python",
   "pygments_lexer": "ipython3",
   "version": "3.7.10"
  },
  "papermill": {
   "default_parameters": {},
   "duration": 11.741619,
   "end_time": "2021-08-04T07:57:21.980883",
   "environment_variables": {},
   "exception": null,
   "input_path": "__notebook__.ipynb",
   "output_path": "__notebook__.ipynb",
   "parameters": {},
   "start_time": "2021-08-04T07:57:10.239264",
   "version": "2.3.3"
  }
 },
 "nbformat": 4,
 "nbformat_minor": 5
}
