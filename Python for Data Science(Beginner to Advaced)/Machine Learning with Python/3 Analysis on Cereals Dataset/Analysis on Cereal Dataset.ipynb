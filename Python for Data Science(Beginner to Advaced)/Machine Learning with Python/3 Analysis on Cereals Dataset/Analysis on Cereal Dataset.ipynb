{
 "cells": [
  {
   "cell_type": "markdown",
   "metadata": {
    "id": "eAboWeIXzd3i"
   },
   "source": [
    "### **1. Download the 80-cereals dataset from https://www.kaggle.com/crawford/80-cereals**"
   ]
  },
  {
   "cell_type": "code",
   "execution_count": 9,
   "metadata": {
    "colab": {
     "base_uri": "https://localhost:8080/"
    },
    "id": "pc7t7-gDsIlu",
    "outputId": "0431c680-4161-46b3-f5f7-b898e12bd916"
   },
   "outputs": [
    {
     "name": "stdout",
     "output_type": "stream",
     "text": [
      "Requirement already satisfied: kaggle in /usr/local/lib/python3.7/dist-packages (1.5.12)\n",
      "Requirement already satisfied: python-slugify in /usr/local/lib/python3.7/dist-packages (from kaggle) (6.1.1)\n",
      "Requirement already satisfied: certifi in /usr/local/lib/python3.7/dist-packages (from kaggle) (2021.10.8)\n",
      "Requirement already satisfied: urllib3 in /usr/local/lib/python3.7/dist-packages (from kaggle) (1.24.3)\n",
      "Requirement already satisfied: tqdm in /usr/local/lib/python3.7/dist-packages (from kaggle) (4.63.0)\n",
      "Requirement already satisfied: requests in /usr/local/lib/python3.7/dist-packages (from kaggle) (2.23.0)\n",
      "Requirement already satisfied: six>=1.10 in /usr/local/lib/python3.7/dist-packages (from kaggle) (1.15.0)\n",
      "Requirement already satisfied: python-dateutil in /usr/local/lib/python3.7/dist-packages (from kaggle) (2.8.2)\n",
      "Requirement already satisfied: text-unidecode>=1.3 in /usr/local/lib/python3.7/dist-packages (from python-slugify->kaggle) (1.3)\n",
      "Requirement already satisfied: chardet<4,>=3.0.2 in /usr/local/lib/python3.7/dist-packages (from requests->kaggle) (3.0.4)\n",
      "Requirement already satisfied: idna<3,>=2.5 in /usr/local/lib/python3.7/dist-packages (from requests->kaggle) (2.10)\n"
     ]
    }
   ],
   "source": [
    "!pip install kaggle"
   ]
  },
  {
   "cell_type": "code",
   "execution_count": 10,
   "metadata": {
    "colab": {
     "base_uri": "https://localhost:8080/"
    },
    "id": "sW-LAtzWreNf",
    "outputId": "e0fe570d-280b-42d1-cb8f-7da5c3c7301f"
   },
   "outputs": [
    {
     "name": "stdout",
     "output_type": "stream",
     "text": [
      "mkdir: cannot create directory ‘/root/.kaggle’: File exists\n"
     ]
    }
   ],
   "source": [
    "! mkdir ~/.kaggle\n",
    "! cp kaggle.json ~/.kaggle/\n",
    "! chmod 600 ~/.kaggle/kaggle.json"
   ]
  },
  {
   "cell_type": "code",
   "execution_count": 11,
   "metadata": {
    "colab": {
     "base_uri": "https://localhost:8080/"
    },
    "id": "36LSbLBSwfn9",
    "outputId": "3749e050-1fd0-46d8-f16b-214e80294466"
   },
   "outputs": [
    {
     "name": "stdout",
     "output_type": "stream",
     "text": [
      "Downloading 80-cereals.zip to /content\n",
      "\r",
      "  0% 0.00/2.24k [00:00<?, ?B/s]\n",
      "\r",
      "100% 2.24k/2.24k [00:00<00:00, 3.43MB/s]\n"
     ]
    }
   ],
   "source": [
    "! kaggle datasets download 'crawford/80-cereals'"
   ]
  },
  {
   "cell_type": "code",
   "execution_count": 12,
   "metadata": {
    "colab": {
     "base_uri": "https://localhost:8080/"
    },
    "id": "yn_98shzxN-L",
    "outputId": "c019a198-3ca7-48fe-e01d-fa47ae8aa5b1"
   },
   "outputs": [
    {
     "name": "stdout",
     "output_type": "stream",
     "text": [
      "Archive:  80-cereals.zip\n",
      "  inflating: cereal.csv              \n"
     ]
    }
   ],
   "source": [
    "!unzip 80-cereals.zip"
   ]
  },
  {
   "cell_type": "code",
   "execution_count": 13,
   "metadata": {
    "id": "qn8fqhF-PwsB"
   },
   "outputs": [],
   "source": [
    "from sklearn.model_selection import train_test_split\n",
    "import pandas as pd\n",
    "import matplotlib.pyplot as plt\n",
    "import seaborn as sns"
   ]
  },
  {
   "cell_type": "markdown",
   "metadata": {
    "id": "v7dpkh7oz4RI"
   },
   "source": [
    "### **2. Load the dataset using pd.read_csv method**"
   ]
  },
  {
   "cell_type": "code",
   "execution_count": 14,
   "metadata": {
    "colab": {
     "base_uri": "https://localhost:8080/",
     "height": 485
    },
    "id": "I1ob4NUYyqKo",
    "outputId": "de5eadbc-233f-49f6-9450-cac5356f4791"
   },
   "outputs": [
    {
     "data": {
      "text/html": [
       "\n",
       "  <div id=\"df-26bcce87-d8da-4874-b6cf-c9559ecdc5ec\">\n",
       "    <div class=\"colab-df-container\">\n",
       "      <div>\n",
       "<style scoped>\n",
       "    .dataframe tbody tr th:only-of-type {\n",
       "        vertical-align: middle;\n",
       "    }\n",
       "\n",
       "    .dataframe tbody tr th {\n",
       "        vertical-align: top;\n",
       "    }\n",
       "\n",
       "    .dataframe thead th {\n",
       "        text-align: right;\n",
       "    }\n",
       "</style>\n",
       "<table border=\"1\" class=\"dataframe\">\n",
       "  <thead>\n",
       "    <tr style=\"text-align: right;\">\n",
       "      <th></th>\n",
       "      <th>name</th>\n",
       "      <th>mfr</th>\n",
       "      <th>type</th>\n",
       "      <th>calories</th>\n",
       "      <th>protein</th>\n",
       "      <th>fat</th>\n",
       "      <th>sodium</th>\n",
       "      <th>fiber</th>\n",
       "      <th>carbo</th>\n",
       "      <th>sugars</th>\n",
       "      <th>potass</th>\n",
       "      <th>vitamins</th>\n",
       "      <th>shelf</th>\n",
       "      <th>weight</th>\n",
       "      <th>cups</th>\n",
       "      <th>rating</th>\n",
       "    </tr>\n",
       "  </thead>\n",
       "  <tbody>\n",
       "    <tr>\n",
       "      <th>0</th>\n",
       "      <td>100% Bran</td>\n",
       "      <td>N</td>\n",
       "      <td>C</td>\n",
       "      <td>70</td>\n",
       "      <td>4</td>\n",
       "      <td>1</td>\n",
       "      <td>130</td>\n",
       "      <td>10.0</td>\n",
       "      <td>5.0</td>\n",
       "      <td>6</td>\n",
       "      <td>280</td>\n",
       "      <td>25</td>\n",
       "      <td>3</td>\n",
       "      <td>1.0</td>\n",
       "      <td>0.33</td>\n",
       "      <td>68.402973</td>\n",
       "    </tr>\n",
       "    <tr>\n",
       "      <th>1</th>\n",
       "      <td>100% Natural Bran</td>\n",
       "      <td>Q</td>\n",
       "      <td>C</td>\n",
       "      <td>120</td>\n",
       "      <td>3</td>\n",
       "      <td>5</td>\n",
       "      <td>15</td>\n",
       "      <td>2.0</td>\n",
       "      <td>8.0</td>\n",
       "      <td>8</td>\n",
       "      <td>135</td>\n",
       "      <td>0</td>\n",
       "      <td>3</td>\n",
       "      <td>1.0</td>\n",
       "      <td>1.00</td>\n",
       "      <td>33.983679</td>\n",
       "    </tr>\n",
       "    <tr>\n",
       "      <th>2</th>\n",
       "      <td>All-Bran</td>\n",
       "      <td>K</td>\n",
       "      <td>C</td>\n",
       "      <td>70</td>\n",
       "      <td>4</td>\n",
       "      <td>1</td>\n",
       "      <td>260</td>\n",
       "      <td>9.0</td>\n",
       "      <td>7.0</td>\n",
       "      <td>5</td>\n",
       "      <td>320</td>\n",
       "      <td>25</td>\n",
       "      <td>3</td>\n",
       "      <td>1.0</td>\n",
       "      <td>0.33</td>\n",
       "      <td>59.425505</td>\n",
       "    </tr>\n",
       "    <tr>\n",
       "      <th>3</th>\n",
       "      <td>All-Bran with Extra Fiber</td>\n",
       "      <td>K</td>\n",
       "      <td>C</td>\n",
       "      <td>50</td>\n",
       "      <td>4</td>\n",
       "      <td>0</td>\n",
       "      <td>140</td>\n",
       "      <td>14.0</td>\n",
       "      <td>8.0</td>\n",
       "      <td>0</td>\n",
       "      <td>330</td>\n",
       "      <td>25</td>\n",
       "      <td>3</td>\n",
       "      <td>1.0</td>\n",
       "      <td>0.50</td>\n",
       "      <td>93.704912</td>\n",
       "    </tr>\n",
       "    <tr>\n",
       "      <th>4</th>\n",
       "      <td>Almond Delight</td>\n",
       "      <td>R</td>\n",
       "      <td>C</td>\n",
       "      <td>110</td>\n",
       "      <td>2</td>\n",
       "      <td>2</td>\n",
       "      <td>200</td>\n",
       "      <td>1.0</td>\n",
       "      <td>14.0</td>\n",
       "      <td>8</td>\n",
       "      <td>-1</td>\n",
       "      <td>25</td>\n",
       "      <td>3</td>\n",
       "      <td>1.0</td>\n",
       "      <td>0.75</td>\n",
       "      <td>34.384843</td>\n",
       "    </tr>\n",
       "    <tr>\n",
       "      <th>...</th>\n",
       "      <td>...</td>\n",
       "      <td>...</td>\n",
       "      <td>...</td>\n",
       "      <td>...</td>\n",
       "      <td>...</td>\n",
       "      <td>...</td>\n",
       "      <td>...</td>\n",
       "      <td>...</td>\n",
       "      <td>...</td>\n",
       "      <td>...</td>\n",
       "      <td>...</td>\n",
       "      <td>...</td>\n",
       "      <td>...</td>\n",
       "      <td>...</td>\n",
       "      <td>...</td>\n",
       "      <td>...</td>\n",
       "    </tr>\n",
       "    <tr>\n",
       "      <th>72</th>\n",
       "      <td>Triples</td>\n",
       "      <td>G</td>\n",
       "      <td>C</td>\n",
       "      <td>110</td>\n",
       "      <td>2</td>\n",
       "      <td>1</td>\n",
       "      <td>250</td>\n",
       "      <td>0.0</td>\n",
       "      <td>21.0</td>\n",
       "      <td>3</td>\n",
       "      <td>60</td>\n",
       "      <td>25</td>\n",
       "      <td>3</td>\n",
       "      <td>1.0</td>\n",
       "      <td>0.75</td>\n",
       "      <td>39.106174</td>\n",
       "    </tr>\n",
       "    <tr>\n",
       "      <th>73</th>\n",
       "      <td>Trix</td>\n",
       "      <td>G</td>\n",
       "      <td>C</td>\n",
       "      <td>110</td>\n",
       "      <td>1</td>\n",
       "      <td>1</td>\n",
       "      <td>140</td>\n",
       "      <td>0.0</td>\n",
       "      <td>13.0</td>\n",
       "      <td>12</td>\n",
       "      <td>25</td>\n",
       "      <td>25</td>\n",
       "      <td>2</td>\n",
       "      <td>1.0</td>\n",
       "      <td>1.00</td>\n",
       "      <td>27.753301</td>\n",
       "    </tr>\n",
       "    <tr>\n",
       "      <th>74</th>\n",
       "      <td>Wheat Chex</td>\n",
       "      <td>R</td>\n",
       "      <td>C</td>\n",
       "      <td>100</td>\n",
       "      <td>3</td>\n",
       "      <td>1</td>\n",
       "      <td>230</td>\n",
       "      <td>3.0</td>\n",
       "      <td>17.0</td>\n",
       "      <td>3</td>\n",
       "      <td>115</td>\n",
       "      <td>25</td>\n",
       "      <td>1</td>\n",
       "      <td>1.0</td>\n",
       "      <td>0.67</td>\n",
       "      <td>49.787445</td>\n",
       "    </tr>\n",
       "    <tr>\n",
       "      <th>75</th>\n",
       "      <td>Wheaties</td>\n",
       "      <td>G</td>\n",
       "      <td>C</td>\n",
       "      <td>100</td>\n",
       "      <td>3</td>\n",
       "      <td>1</td>\n",
       "      <td>200</td>\n",
       "      <td>3.0</td>\n",
       "      <td>17.0</td>\n",
       "      <td>3</td>\n",
       "      <td>110</td>\n",
       "      <td>25</td>\n",
       "      <td>1</td>\n",
       "      <td>1.0</td>\n",
       "      <td>1.00</td>\n",
       "      <td>51.592193</td>\n",
       "    </tr>\n",
       "    <tr>\n",
       "      <th>76</th>\n",
       "      <td>Wheaties Honey Gold</td>\n",
       "      <td>G</td>\n",
       "      <td>C</td>\n",
       "      <td>110</td>\n",
       "      <td>2</td>\n",
       "      <td>1</td>\n",
       "      <td>200</td>\n",
       "      <td>1.0</td>\n",
       "      <td>16.0</td>\n",
       "      <td>8</td>\n",
       "      <td>60</td>\n",
       "      <td>25</td>\n",
       "      <td>1</td>\n",
       "      <td>1.0</td>\n",
       "      <td>0.75</td>\n",
       "      <td>36.187559</td>\n",
       "    </tr>\n",
       "  </tbody>\n",
       "</table>\n",
       "<p>77 rows × 16 columns</p>\n",
       "</div>\n",
       "      <button class=\"colab-df-convert\" onclick=\"convertToInteractive('df-26bcce87-d8da-4874-b6cf-c9559ecdc5ec')\"\n",
       "              title=\"Convert this dataframe to an interactive table.\"\n",
       "              style=\"display:none;\">\n",
       "        \n",
       "  <svg xmlns=\"http://www.w3.org/2000/svg\" height=\"24px\"viewBox=\"0 0 24 24\"\n",
       "       width=\"24px\">\n",
       "    <path d=\"M0 0h24v24H0V0z\" fill=\"none\"/>\n",
       "    <path d=\"M18.56 5.44l.94 2.06.94-2.06 2.06-.94-2.06-.94-.94-2.06-.94 2.06-2.06.94zm-11 1L8.5 8.5l.94-2.06 2.06-.94-2.06-.94L8.5 2.5l-.94 2.06-2.06.94zm10 10l.94 2.06.94-2.06 2.06-.94-2.06-.94-.94-2.06-.94 2.06-2.06.94z\"/><path d=\"M17.41 7.96l-1.37-1.37c-.4-.4-.92-.59-1.43-.59-.52 0-1.04.2-1.43.59L10.3 9.45l-7.72 7.72c-.78.78-.78 2.05 0 2.83L4 21.41c.39.39.9.59 1.41.59.51 0 1.02-.2 1.41-.59l7.78-7.78 2.81-2.81c.8-.78.8-2.07 0-2.86zM5.41 20L4 18.59l7.72-7.72 1.47 1.35L5.41 20z\"/>\n",
       "  </svg>\n",
       "      </button>\n",
       "      \n",
       "  <style>\n",
       "    .colab-df-container {\n",
       "      display:flex;\n",
       "      flex-wrap:wrap;\n",
       "      gap: 12px;\n",
       "    }\n",
       "\n",
       "    .colab-df-convert {\n",
       "      background-color: #E8F0FE;\n",
       "      border: none;\n",
       "      border-radius: 50%;\n",
       "      cursor: pointer;\n",
       "      display: none;\n",
       "      fill: #1967D2;\n",
       "      height: 32px;\n",
       "      padding: 0 0 0 0;\n",
       "      width: 32px;\n",
       "    }\n",
       "\n",
       "    .colab-df-convert:hover {\n",
       "      background-color: #E2EBFA;\n",
       "      box-shadow: 0px 1px 2px rgba(60, 64, 67, 0.3), 0px 1px 3px 1px rgba(60, 64, 67, 0.15);\n",
       "      fill: #174EA6;\n",
       "    }\n",
       "\n",
       "    [theme=dark] .colab-df-convert {\n",
       "      background-color: #3B4455;\n",
       "      fill: #D2E3FC;\n",
       "    }\n",
       "\n",
       "    [theme=dark] .colab-df-convert:hover {\n",
       "      background-color: #434B5C;\n",
       "      box-shadow: 0px 1px 3px 1px rgba(0, 0, 0, 0.15);\n",
       "      filter: drop-shadow(0px 1px 2px rgba(0, 0, 0, 0.3));\n",
       "      fill: #FFFFFF;\n",
       "    }\n",
       "  </style>\n",
       "\n",
       "      <script>\n",
       "        const buttonEl =\n",
       "          document.querySelector('#df-26bcce87-d8da-4874-b6cf-c9559ecdc5ec button.colab-df-convert');\n",
       "        buttonEl.style.display =\n",
       "          google.colab.kernel.accessAllowed ? 'block' : 'none';\n",
       "\n",
       "        async function convertToInteractive(key) {\n",
       "          const element = document.querySelector('#df-26bcce87-d8da-4874-b6cf-c9559ecdc5ec');\n",
       "          const dataTable =\n",
       "            await google.colab.kernel.invokeFunction('convertToInteractive',\n",
       "                                                     [key], {});\n",
       "          if (!dataTable) return;\n",
       "\n",
       "          const docLinkHtml = 'Like what you see? Visit the ' +\n",
       "            '<a target=\"_blank\" href=https://colab.research.google.com/notebooks/data_table.ipynb>data table notebook</a>'\n",
       "            + ' to learn more about interactive tables.';\n",
       "          element.innerHTML = '';\n",
       "          dataTable['output_type'] = 'display_data';\n",
       "          await google.colab.output.renderOutput(dataTable, element);\n",
       "          const docLink = document.createElement('div');\n",
       "          docLink.innerHTML = docLinkHtml;\n",
       "          element.appendChild(docLink);\n",
       "        }\n",
       "      </script>\n",
       "    </div>\n",
       "  </div>\n",
       "  "
      ],
      "text/plain": [
       "                         name mfr type  calories  protein  fat  sodium  fiber  \\\n",
       "0                   100% Bran   N    C        70        4    1     130   10.0   \n",
       "1           100% Natural Bran   Q    C       120        3    5      15    2.0   \n",
       "2                    All-Bran   K    C        70        4    1     260    9.0   \n",
       "3   All-Bran with Extra Fiber   K    C        50        4    0     140   14.0   \n",
       "4              Almond Delight   R    C       110        2    2     200    1.0   \n",
       "..                        ...  ..  ...       ...      ...  ...     ...    ...   \n",
       "72                    Triples   G    C       110        2    1     250    0.0   \n",
       "73                       Trix   G    C       110        1    1     140    0.0   \n",
       "74                 Wheat Chex   R    C       100        3    1     230    3.0   \n",
       "75                   Wheaties   G    C       100        3    1     200    3.0   \n",
       "76        Wheaties Honey Gold   G    C       110        2    1     200    1.0   \n",
       "\n",
       "    carbo  sugars  potass  vitamins  shelf  weight  cups     rating  \n",
       "0     5.0       6     280        25      3     1.0  0.33  68.402973  \n",
       "1     8.0       8     135         0      3     1.0  1.00  33.983679  \n",
       "2     7.0       5     320        25      3     1.0  0.33  59.425505  \n",
       "3     8.0       0     330        25      3     1.0  0.50  93.704912  \n",
       "4    14.0       8      -1        25      3     1.0  0.75  34.384843  \n",
       "..    ...     ...     ...       ...    ...     ...   ...        ...  \n",
       "72   21.0       3      60        25      3     1.0  0.75  39.106174  \n",
       "73   13.0      12      25        25      2     1.0  1.00  27.753301  \n",
       "74   17.0       3     115        25      1     1.0  0.67  49.787445  \n",
       "75   17.0       3     110        25      1     1.0  1.00  51.592193  \n",
       "76   16.0       8      60        25      1     1.0  0.75  36.187559  \n",
       "\n",
       "[77 rows x 16 columns]"
      ]
     },
     "execution_count": 14,
     "metadata": {},
     "output_type": "execute_result"
    }
   ],
   "source": [
    "cereal=pd.read_csv('cereal.csv')\n",
    "cereal"
   ]
  },
  {
   "cell_type": "markdown",
   "metadata": {
    "id": "wgCM2lT6znzk"
   },
   "source": [
    "### **3. a. In the column \"mfr\", replace the column \"K\" as \"Kellogg's\", \"G\" as \"Nestle\" and all other values as \"Other Brands\"**"
   ]
  },
  {
   "cell_type": "code",
   "execution_count": 15,
   "metadata": {
    "colab": {
     "base_uri": "https://localhost:8080/"
    },
    "id": "SirwMxvx0zfI",
    "outputId": "4765db2e-bd98-4c3c-da84-ed8539fd1a83"
   },
   "outputs": [
    {
     "data": {
      "text/plain": [
       "0     Other Brands\n",
       "1     Other Brands\n",
       "2         Kelogg's\n",
       "3         Kelogg's\n",
       "4     Other Brands\n",
       "          ...     \n",
       "72          Nestle\n",
       "73          Nestle\n",
       "74    Other Brands\n",
       "75          Nestle\n",
       "76          Nestle\n",
       "Name: mfr, Length: 77, dtype: object"
      ]
     },
     "execution_count": 15,
     "metadata": {},
     "output_type": "execute_result"
    }
   ],
   "source": [
    "cereal['mfr'].unique()\n",
    "dic={'K':\"Kelogg's\", 'G':'Nestle'}\n",
    "dic.update(dict.fromkeys(['N', 'P','A','Q','R'], 'Other Brands'))\n",
    "cereal['mfr']=cereal['mfr'].map(dic)\n",
    "cereal['mfr'] "
   ]
  },
  {
   "cell_type": "markdown",
   "metadata": {
    "id": "fXy1ufhp2tQ_"
   },
   "source": [
    "### **3. b. In the column \"type\", replace \"C\" with \"Type 1\" and \"H\" with \"Type 2\"**"
   ]
  },
  {
   "cell_type": "code",
   "execution_count": 16,
   "metadata": {
    "colab": {
     "base_uri": "https://localhost:8080/"
    },
    "id": "xy574f3Y2VVa",
    "outputId": "e70a22a2-a96e-4fc8-dc9f-76a978b03015"
   },
   "outputs": [
    {
     "data": {
      "text/plain": [
       "0     Type 1\n",
       "1     Type 1\n",
       "2     Type 1\n",
       "3     Type 1\n",
       "4     Type 1\n",
       "       ...  \n",
       "72    Type 1\n",
       "73    Type 1\n",
       "74    Type 1\n",
       "75    Type 1\n",
       "76    Type 1\n",
       "Name: type, Length: 77, dtype: object"
      ]
     },
     "execution_count": 16,
     "metadata": {},
     "output_type": "execute_result"
    }
   ],
   "source": [
    "cereal[\"type\"].replace({\"C\": \"Type 1\", \"H\": \"Type 2\"}, inplace=True)\n",
    "cereal[\"type\"]"
   ]
  },
  {
   "cell_type": "markdown",
   "metadata": {
    "id": "PPMEif6Iv6ii"
   },
   "source": [
    "### **4. Visualise the count of above two features \"mfr\" and \"type\" with a bar-plot**"
   ]
  },
  {
   "cell_type": "code",
   "execution_count": 17,
   "metadata": {
    "colab": {
     "base_uri": "https://localhost:8080/",
     "height": 298
    },
    "id": "cA-C3PKAv2OG",
    "outputId": "88d371d1-447a-4dd5-bc06-5ac6dd21e2be"
   },
   "outputs": [
    {
     "data": {
      "text/plain": [
       "<matplotlib.axes._subplots.AxesSubplot at 0x7f6e3e2eb9d0>"
      ]
     },
     "execution_count": 17,
     "metadata": {},
     "output_type": "execute_result"
    },
    {
     "data": {
      "image/png": "[encoded data removed]",
      "text/plain": [
       "<Figure size 432x288 with 2 Axes>"
      ]
     },
     "metadata": {
      "needs_background": "light"
     },
     "output_type": "display_data"
    }
   ],
   "source": [
    "f, ax = plt.subplots(1,2)\n",
    "sns.countplot(x='mfr',data=cereal, orient='v', ax=ax[0], palette='viridis')\n",
    "sns.countplot(x='type',data=cereal, orient='v', ax=ax[1], palette='rocket')"
   ]
  },
  {
   "cell_type": "markdown",
   "metadata": {
    "id": "NQ3gpJi4CeL3"
   },
   "source": [
    "### **5. Describe the five-number summary and boxplots of the features - protien, sugars, fat, carbo**"
   ]
  },
  {
   "cell_type": "code",
   "execution_count": 18,
   "metadata": {
    "colab": {
     "base_uri": "https://localhost:8080/",
     "height": 300
    },
    "id": "cNaxweHaEJ1i",
    "outputId": "968d3a18-f5c8-4959-f11e-e816b41e2ddd"
   },
   "outputs": [
    {
     "data": {
      "text/html": [
       "\n",
       "  <div id=\"df-4805b9ea-1abd-441f-a284-8be455a8aa9b\">\n",
       "    <div class=\"colab-df-container\">\n",
       "      <div>\n",
       "<style scoped>\n",
       "    .dataframe tbody tr th:only-of-type {\n",
       "        vertical-align: middle;\n",
       "    }\n",
       "\n",
       "    .dataframe tbody tr th {\n",
       "        vertical-align: top;\n",
       "    }\n",
       "\n",
       "    .dataframe thead th {\n",
       "        text-align: right;\n",
       "    }\n",
       "</style>\n",
       "<table border=\"1\" class=\"dataframe\">\n",
       "  <thead>\n",
       "    <tr style=\"text-align: right;\">\n",
       "      <th></th>\n",
       "      <th>protein</th>\n",
       "      <th>sugars</th>\n",
       "      <th>fat</th>\n",
       "      <th>carbo</th>\n",
       "    </tr>\n",
       "  </thead>\n",
       "  <tbody>\n",
       "    <tr>\n",
       "      <th>count</th>\n",
       "      <td>77.000000</td>\n",
       "      <td>77.000000</td>\n",
       "      <td>77.000000</td>\n",
       "      <td>77.000000</td>\n",
       "    </tr>\n",
       "    <tr>\n",
       "      <th>mean</th>\n",
       "      <td>2.545455</td>\n",
       "      <td>6.922078</td>\n",
       "      <td>1.012987</td>\n",
       "      <td>14.597403</td>\n",
       "    </tr>\n",
       "    <tr>\n",
       "      <th>std</th>\n",
       "      <td>1.094790</td>\n",
       "      <td>4.444885</td>\n",
       "      <td>1.006473</td>\n",
       "      <td>4.278956</td>\n",
       "    </tr>\n",
       "    <tr>\n",
       "      <th>min</th>\n",
       "      <td>1.000000</td>\n",
       "      <td>-1.000000</td>\n",
       "      <td>0.000000</td>\n",
       "      <td>-1.000000</td>\n",
       "    </tr>\n",
       "    <tr>\n",
       "      <th>25%</th>\n",
       "      <td>2.000000</td>\n",
       "      <td>3.000000</td>\n",
       "      <td>0.000000</td>\n",
       "      <td>12.000000</td>\n",
       "    </tr>\n",
       "    <tr>\n",
       "      <th>50%</th>\n",
       "      <td>3.000000</td>\n",
       "      <td>7.000000</td>\n",
       "      <td>1.000000</td>\n",
       "      <td>14.000000</td>\n",
       "    </tr>\n",
       "    <tr>\n",
       "      <th>75%</th>\n",
       "      <td>3.000000</td>\n",
       "      <td>11.000000</td>\n",
       "      <td>2.000000</td>\n",
       "      <td>17.000000</td>\n",
       "    </tr>\n",
       "    <tr>\n",
       "      <th>max</th>\n",
       "      <td>6.000000</td>\n",
       "      <td>15.000000</td>\n",
       "      <td>5.000000</td>\n",
       "      <td>23.000000</td>\n",
       "    </tr>\n",
       "  </tbody>\n",
       "</table>\n",
       "</div>\n",
       "      <button class=\"colab-df-convert\" onclick=\"convertToInteractive('df-4805b9ea-1abd-441f-a284-8be455a8aa9b')\"\n",
       "              title=\"Convert this dataframe to an interactive table.\"\n",
       "              style=\"display:none;\">\n",
       "        \n",
       "  <svg xmlns=\"http://www.w3.org/2000/svg\" height=\"24px\"viewBox=\"0 0 24 24\"\n",
       "       width=\"24px\">\n",
       "    <path d=\"M0 0h24v24H0V0z\" fill=\"none\"/>\n",
       "    <path d=\"M18.56 5.44l.94 2.06.94-2.06 2.06-.94-2.06-.94-.94-2.06-.94 2.06-2.06.94zm-11 1L8.5 8.5l.94-2.06 2.06-.94-2.06-.94L8.5 2.5l-.94 2.06-2.06.94zm10 10l.94 2.06.94-2.06 2.06-.94-2.06-.94-.94-2.06-.94 2.06-2.06.94z\"/><path d=\"M17.41 7.96l-1.37-1.37c-.4-.4-.92-.59-1.43-.59-.52 0-1.04.2-1.43.59L10.3 9.45l-7.72 7.72c-.78.78-.78 2.05 0 2.83L4 21.41c.39.39.9.59 1.41.59.51 0 1.02-.2 1.41-.59l7.78-7.78 2.81-2.81c.8-.78.8-2.07 0-2.86zM5.41 20L4 18.59l7.72-7.72 1.47 1.35L5.41 20z\"/>\n",
       "  </svg>\n",
       "      </button>\n",
       "      \n",
       "  <style>\n",
       "    .colab-df-container {\n",
       "      display:flex;\n",
       "      flex-wrap:wrap;\n",
       "      gap: 12px;\n",
       "    }\n",
       "\n",
       "    .colab-df-convert {\n",
       "      background-color: #E8F0FE;\n",
       "      border: none;\n",
       "      border-radius: 50%;\n",
       "      cursor: pointer;\n",
       "      display: none;\n",
       "      fill: #1967D2;\n",
       "      height: 32px;\n",
       "      padding: 0 0 0 0;\n",
       "      width: 32px;\n",
       "    }\n",
       "\n",
       "    .colab-df-convert:hover {\n",
       "      background-color: #E2EBFA;\n",
       "      box-shadow: 0px 1px 2px rgba(60, 64, 67, 0.3), 0px 1px 3px 1px rgba(60, 64, 67, 0.15);\n",
       "      fill: #174EA6;\n",
       "    }\n",
       "\n",
       "    [theme=dark] .colab-df-convert {\n",
       "      background-color: #3B4455;\n",
       "      fill: #D2E3FC;\n",
       "    }\n",
       "\n",
       "    [theme=dark] .colab-df-convert:hover {\n",
       "      background-color: #434B5C;\n",
       "      box-shadow: 0px 1px 3px 1px rgba(0, 0, 0, 0.15);\n",
       "      filter: drop-shadow(0px 1px 2px rgba(0, 0, 0, 0.3));\n",
       "      fill: #FFFFFF;\n",
       "    }\n",
       "  </style>\n",
       "\n",
       "      <script>\n",
       "        const buttonEl =\n",
       "          document.querySelector('#df-4805b9ea-1abd-441f-a284-8be455a8aa9b button.colab-df-convert');\n",
       "        buttonEl.style.display =\n",
       "          google.colab.kernel.accessAllowed ? 'block' : 'none';\n",
       "\n",
       "        async function convertToInteractive(key) {\n",
       "          const element = document.querySelector('#df-4805b9ea-1abd-441f-a284-8be455a8aa9b');\n",
       "          const dataTable =\n",
       "            await google.colab.kernel.invokeFunction('convertToInteractive',\n",
       "                                                     [key], {});\n",
       "          if (!dataTable) return;\n",
       "\n",
       "          const docLinkHtml = 'Like what you see? Visit the ' +\n",
       "            '<a target=\"_blank\" href=https://colab.research.google.com/notebooks/data_table.ipynb>data table notebook</a>'\n",
       "            + ' to learn more about interactive tables.';\n",
       "          element.innerHTML = '';\n",
       "          dataTable['output_type'] = 'display_data';\n",
       "          await google.colab.output.renderOutput(dataTable, element);\n",
       "          const docLink = document.createElement('div');\n",
       "          docLink.innerHTML = docLinkHtml;\n",
       "          element.appendChild(docLink);\n",
       "        }\n",
       "      </script>\n",
       "    </div>\n",
       "  </div>\n",
       "  "
      ],
      "text/plain": [
       "         protein     sugars        fat      carbo\n",
       "count  77.000000  77.000000  77.000000  77.000000\n",
       "mean    2.545455   6.922078   1.012987  14.597403\n",
       "std     1.094790   4.444885   1.006473   4.278956\n",
       "min     1.000000  -1.000000   0.000000  -1.000000\n",
       "25%     2.000000   3.000000   0.000000  12.000000\n",
       "50%     3.000000   7.000000   1.000000  14.000000\n",
       "75%     3.000000  11.000000   2.000000  17.000000\n",
       "max     6.000000  15.000000   5.000000  23.000000"
      ]
     },
     "execution_count": 18,
     "metadata": {},
     "output_type": "execute_result"
    }
   ],
   "source": [
    "# Display Summary of the columns\n",
    "cereal.describe()[['protein', 'sugars', 'fat', 'carbo']]"
   ]
  },
  {
   "cell_type": "code",
   "execution_count": 19,
   "metadata": {
    "colab": {
     "base_uri": "https://localhost:8080/",
     "height": 483
    },
    "id": "Y7NAyXiGCXqq",
    "outputId": "fabda8c0-c1b3-4636-c406-ccb98d2cb169"
   },
   "outputs": [
    {
     "data": {
      "image/png": "[encoded data removed]",
      "text/plain": [
       "<Figure size 720x576 with 1 Axes>"
      ]
     },
     "metadata": {
      "needs_background": "light"
     },
     "output_type": "display_data"
    }
   ],
   "source": [
    "# Boxplot the columns and check their means\n",
    "df = pd.DataFrame(data = cereal, columns = ['sugars', 'fat', 'carbo','protein'])\n",
    "plt.figure(figsize=(10,8))\n",
    "sns.boxplot(data=df, palette='hsv')\n",
    "plt.show()"
   ]
  },
  {
   "cell_type": "markdown",
   "metadata": {
    "id": "BkoZzvoyGj3A"
   },
   "source": [
    "### **6. Plot Histograms for the features - fat, carbo, sodium, fiber**"
   ]
  },
  {
   "cell_type": "code",
   "execution_count": 20,
   "metadata": {
    "colab": {
     "base_uri": "https://localhost:8080/",
     "height": 483
    },
    "id": "GMQ_QnIaGljd",
    "outputId": "95ca9dd6-54ca-4a70-954f-ddac0f77242b"
   },
   "outputs": [
    {
     "data": {
      "image/png": "[encoded data removed]",
      "text/plain": [
       "<Figure size 720x576 with 1 Axes>"
      ]
     },
     "metadata": {
      "needs_background": "light"
     },
     "output_type": "display_data"
    }
   ],
   "source": [
    "dff = pd.DataFrame(data = cereal, columns = ['sodium', 'carbo','fiber','fat'])\n",
    "plt.figure(figsize=(10,8))\n",
    "sns.histplot(data=dff, palette='hsv',bins=30)\n",
    "plt.show()"
   ]
  },
  {
   "cell_type": "markdown",
   "metadata": {
    "id": "s1JOKZmRIpdy"
   },
   "source": [
    "### **7. Split the datasets into following ratios: 60:40, 70:30, 80:20. Write down what happens when you give \"random_state\" parameter with a constant value and what happens if you do not mention the parameter at all.**\n",
    "\n",
    "* Another important consideration is that rows are assigned to the train and test sets randomly.\n",
    "\n",
    "* This is done to ensure that datasets are a representative sample (e.g. random sample) of the original dataset, which in turn, should be a representative sample of observations from the problem domain.\n",
    "\n",
    "* This can be achieved by setting the “random_state” to an integer value. Any value will do; it is not a tunable hyperparameter."
   ]
  },
  {
   "cell_type": "code",
   "execution_count": 21,
   "metadata": {
    "colab": {
     "base_uri": "https://localhost:8080/"
    },
    "id": "9UAooqOjN67_",
    "outputId": "c863efb9-a684-4500-9da1-dd301fa6146d"
   },
   "outputs": [
    {
     "name": "stdout",
     "output_type": "stream",
     "text": [
      "\n",
      "\n",
      "Train: [0.5974025974025974] , Test: [0.4025974025974026]\n",
      "\n",
      "First 5 rows of data without Random State-->\n",
      " |    |   calories |   protein |   fat |   sodium |   fiber |   carbo |   sugars |   potass |   vitamins |   shelf |   weight |   cups |\n",
      "|---:|-----------:|----------:|------:|---------:|--------:|--------:|---------:|---------:|-----------:|--------:|---------:|-------:|\n",
      "| 74 |        100 |         3 |     1 |      230 |     3   |    17   |        3 |      115 |         25 |       1 |        1 |   0.67 |\n",
      "| 11 |        110 |         6 |     2 |      290 |     2   |    17   |        1 |      105 |         25 |       1 |        1 |   1.25 |\n",
      "|  5 |        110 |         2 |     2 |      180 |     1.5 |    10.5 |       10 |       70 |         25 |       1 |        1 |   0.75 |\n",
      "| 10 |        120 |         1 |     2 |      220 |     0   |    12   |       12 |       35 |         25 |       2 |        1 |   0.75 |\n",
      "| 30 |        100 |         2 |     0 |       45 |     0   |    11   |       15 |       40 |         25 |       1 |        1 |   0.88 | \n",
      "-------------------------------------------------------------------------------------------------------------------------------------\n",
      "\n",
      "\n",
      "Train: [0.6883116883116883] , Test: [0.3116883116883117]\n",
      "\n",
      "First 5 rows of data without Random State-->\n",
      " |    |   calories |   protein |   fat |   sodium |   fiber |   carbo |   sugars |   potass |   vitamins |   shelf |   weight |   cups |\n",
      "|---:|-----------:|----------:|------:|---------:|--------:|--------:|---------:|---------:|-----------:|--------:|---------:|-------:|\n",
      "| 71 |        100 |         3 |     1 |      200 |       3 |      16 |        3 |      110 |        100 |       3 |     1    |   1    |\n",
      "| 28 |        120 |         3 |     0 |      240 |       5 |      14 |       12 |      190 |         25 |       3 |     1.33 |   0.67 |\n",
      "| 66 |        110 |         2 |     1 |       70 |       1 |       9 |       15 |       40 |         25 |       2 |     1    |   0.75 |\n",
      "| 56 |        100 |         4 |     1 |      135 |       2 |      14 |        6 |      110 |         25 |       3 |     1    |   0.5  |\n",
      "| 65 |         90 |         3 |     0 |        0 |       3 |      20 |        0 |      120 |          0 |       1 |     1    |   0.67 | \n",
      "-------------------------------------------------------------------------------------------------------------------------------------\n",
      "\n",
      "\n",
      "Train: [0.7922077922077922] , Test: [0.2077922077922078]\n",
      "\n",
      "First 5 rows of data without Random State-->\n",
      " |    |   calories |   protein |   fat |   sodium |   fiber |   carbo |   sugars |   potass |   vitamins |   shelf |   weight |   cups |\n",
      "|---:|-----------:|----------:|------:|---------:|--------:|--------:|---------:|---------:|-----------:|--------:|---------:|-------:|\n",
      "| 63 |         80 |         2 |     0 |        0 |       3 |      16 |        0 |       95 |          0 |       1 |     0.83 |   1    |\n",
      "| 24 |        110 |         2 |     1 |      125 |       1 |      11 |       13 |       30 |         25 |       2 |     1    |   1    |\n",
      "| 10 |        120 |         1 |     2 |      220 |       0 |      12 |       12 |       35 |         25 |       2 |     1    |   0.75 |\n",
      "| 17 |        110 |         1 |     0 |       90 |       1 |      13 |       12 |       20 |         25 |       2 |     1    |   1    |\n",
      "| 35 |        120 |         1 |     2 |      220 |       1 |      12 |       11 |       45 |         25 |       2 |     1    |   1    | \n",
      "-------------------------------------------------------------------------------------------------------------------------------------\n"
     ]
    }
   ],
   "source": [
    "for i in [.4, .3, .2]:\n",
    "  X_train, X_test, y_train, y_test = train_test_split(cereal.iloc[:,3:-1],cereal.iloc[:,-1],test_size=i)\n",
    "  print(f'\\n\\nTrain: [{len(X_train)/len(cereal)}] , Test: [{len(X_test)/len(cereal)}]\\n')\n",
    "  print('First 5 rows of data without Random State-->\\n',X_train[:5].to_markdown(index=True),'\\n-------------------------------------------------------------------------------------------------------------------------------------')"
   ]
  },
  {
   "cell_type": "markdown",
   "metadata": {
    "id": "Wk45BhvrQE-4"
   },
   "source": [
    "### **Write down what happens when you give \"random_state\" parameter with a constant value and what happens if you do not mention the parameter at all.**"
   ]
  },
  {
   "cell_type": "code",
   "execution_count": 45,
   "metadata": {
    "colab": {
     "base_uri": "https://localhost:8080/"
    },
    "id": "G0MNjr9CB63_",
    "outputId": "4c7f57cf-7808-419e-992f-482e858acd34"
   },
   "outputs": [
    {
     "name": "stdout",
     "output_type": "stream",
     "text": [
      "\n",
      "\n",
      "Train: [0.5974025974025974] , Test: [0.4025974025974026]\n",
      "\n",
      "First 5 rows of data with Random State-->\n",
      " |    |   calories |   protein |   fat |   sodium |   fiber |   carbo |   sugars |   potass |   vitamins |   shelf |   weight |   cups |\n",
      "|---:|-----------:|----------:|------:|---------:|--------:|--------:|---------:|---------:|-----------:|--------:|---------:|-------:|\n",
      "| 21 |        110 |         2 |     0 |      220 |       1 |      21 |        3 |       30 |         25 |       3 |        1 |    1   |\n",
      "| 68 |         90 |         2 |     0 |       15 |       3 |      15 |        5 |       90 |         25 |       2 |        1 |    1   |\n",
      "|  3 |         50 |         4 |     0 |      140 |      14 |       8 |        0 |      330 |         25 |       3 |        1 |    0.5 |\n",
      "| 44 |        150 |         4 |     3 |       95 |       3 |      16 |       11 |      170 |         25 |       3 |        1 |    1   |\n",
      "| 56 |        100 |         4 |     1 |      135 |       2 |      14 |        6 |      110 |         25 |       3 |        1 |    0.5 | \n",
      "-------------------------------------------------------------------------------------------------------------------------------------\n",
      "\n",
      "\n",
      "Train: [0.6883116883116883] , Test: [0.3116883116883117]\n",
      "\n",
      "First 5 rows of data with Random State-->\n",
      " |    |   calories |   protein |   fat |   sodium |   fiber |   carbo |   sugars |   potass |   vitamins |   shelf |   weight |   cups |\n",
      "|---:|-----------:|----------:|------:|---------:|--------:|--------:|---------:|---------:|-----------:|--------:|---------:|-------:|\n",
      "| 62 |        110 |         2 |     0 |      290 |       0 |      22 |        3 |       35 |         25 |       1 |      1   |   1    |\n",
      "| 35 |        120 |         1 |     2 |      220 |       1 |      12 |       11 |       45 |         25 |       2 |      1   |   1    |\n",
      "| 38 |        110 |         2 |     1 |      170 |       1 |      17 |        6 |       60 |        100 |       3 |      1   |   1    |\n",
      "| 55 |         50 |         2 |     0 |        0 |       1 |      10 |        0 |       50 |          0 |       3 |      0.5 |   1    |\n",
      "| 33 |        110 |         3 |     0 |      170 |       3 |      17 |        3 |       90 |         25 |       3 |      1   |   0.25 | \n",
      "-------------------------------------------------------------------------------------------------------------------------------------\n",
      "\n",
      "\n",
      "Train: [0.7922077922077922] , Test: [0.2077922077922078]\n",
      "\n",
      "First 5 rows of data with Random State-->\n",
      " |    |   calories |   protein |   fat |   sodium |   fiber |   carbo |   sugars |   potass |   vitamins |   shelf |   weight |   cups |\n",
      "|---:|-----------:|----------:|------:|---------:|--------:|--------:|---------:|---------:|-----------:|--------:|---------:|-------:|\n",
      "| 46 |        160 |         3 |     2 |      150 |       3 |      17 |       13 |      160 |         25 |       3 |      1.5 |   0.67 |\n",
      "| 15 |        110 |         2 |     0 |      280 |       0 |      22 |        3 |       25 |         25 |       1 |      1   |   1    |\n",
      "| 45 |        150 |         4 |     3 |      150 |       3 |      16 |       11 |      170 |         25 |       3 |      1   |   1    |\n",
      "| 19 |        110 |         3 |     3 |      140 |       4 |      10 |        7 |      160 |         25 |       3 |      1   |   0.5  |\n",
      "| 76 |        110 |         2 |     1 |      200 |       1 |      16 |        8 |       60 |         25 |       1 |      1   |   0.75 | \n",
      "-------------------------------------------------------------------------------------------------------------------------------------\n"
     ]
    }
   ],
   "source": [
    "for i in [.4, .3, .2]:\n",
    "  X_train, X_test, y_train, y_test = train_test_split(cereal.iloc[:,3:-1],cereal.iloc[:,-1],test_size=i,random_state=1)\n",
    "  print(f'\\n\\nTrain: [{len(X_train)/len(cereal)}] , Test: [{len(X_test)/len(cereal)}]\\n')\n",
    "  print('First 5 rows of data with Random State-->\\n',X_train[:5].to_markdown(index=True),'\\n-------------------------------------------------------------------------------------------------------------------------------------')"
   ]
  },
  {
   "cell_type": "markdown",
   "metadata": {
    "id": "X8RaIG5PB8xa"
   },
   "source": [
    "### **8. Apply MinMaxScaler() and StandardScaler() to the following features: calories, protien, fat, sodium, fiber, carbo, sugars.**"
   ]
  },
  {
   "cell_type": "code",
   "execution_count": 71,
   "metadata": {
    "colab": {
     "base_uri": "https://localhost:8080/"
    },
    "id": "T2cmOhfnCC2r",
    "outputId": "a3361e39-63ca-4aca-f73c-f0389eb01790"
   },
   "outputs": [
    {
     "name": "stdout",
     "output_type": "stream",
     "text": [
      "MinMax Normalized Training Set -\n",
      " [[0.6        0.2        0.         1.         0.         1.\n",
      "  0.2       ]\n",
      " [0.7        0.         0.4        0.75862069 0.07142857 0.41176471\n",
      "  0.73333333]\n",
      " [0.6        0.2        0.2        0.5862069  0.07142857 0.70588235\n",
      "  0.4       ]]\n",
      "\n",
      "MinMax Normalized Testing Set -\n",
      " [[0.6        0.         0.2        0.96551724 0.         0.58823529\n",
      "  0.6       ]\n",
      " [0.5        0.6        0.2        0.         0.         0.64705882\n",
      "  0.2       ]\n",
      " [0.5        0.4        0.         0.         0.21428571 0.52941176\n",
      "  0.46666667]]\n"
     ]
    }
   ],
   "source": [
    "from sklearn.preprocessing import MinMaxScaler, StandardScaler\n",
    "from sklearn.model_selection import train_test_split\n",
    "from sklearn.preprocessing import MinMaxScaler\n",
    "# MinMaxScaler\n",
    "X=cereal.iloc[:,3:-6]\n",
    "y=cereal.iloc[:,-1]\n",
    "X_train, X_test, y_train, y_test = train_test_split(X, y, test_size=0.3, random_state=1)\n",
    "\n",
    "mms = MinMaxScaler()\n",
    "X_train_norm = mms.fit_transform(X_train)\n",
    "X_test_norm = mms.transform(X_test)\n",
    "print(f'MinMax Normalized Training Set -\\n {X_train_norm[:3]}\\n\\nMinMax Normalized Testing Set -\\n {X_test_norm[:3]}')"
   ]
  },
  {
   "cell_type": "code",
   "execution_count": 74,
   "metadata": {
    "colab": {
     "base_uri": "https://localhost:8080/"
    },
    "id": "sxR93dhPFnet",
    "outputId": "3d71381f-7330-44cc-f782-2c9f14e19720"
   },
   "outputs": [
    {
     "name": "stdout",
     "output_type": "stream",
     "text": [
      "Standardization on Training Set -\n",
      " [[ 0.26818252 -0.36955223 -0.88412115  1.71608339 -0.79353612  1.82033378\n",
      "  -0.90248548]\n",
      " [ 0.79461487 -1.25983714  1.10985421  0.824393   -0.39107282 -0.68883892\n",
      "   0.87729984]\n",
      " [ 0.26818252 -0.36955223  0.11286653  0.18747129 -0.39107282  0.56574743\n",
      "  -0.23506598]]\n",
      "\n",
      "Standardization on Testing Set -\n",
      " [[ 0.26818252 -1.25983714  0.11286653  1.58869905 -0.79353612  0.06391289\n",
      "   0.43235351]\n",
      " [-0.25824983  1.4110176   0.11286653 -1.97806251 -0.79353612  0.31483016\n",
      "  -0.90248548]\n",
      " [-0.25824983  0.52073268 -0.88412115 -1.97806251  0.41385377 -0.18700438\n",
      "  -0.01259282]]\n"
     ]
    }
   ],
   "source": [
    "# StandardScaler for Standardization\n",
    "'''StandardScaler is a class from sklearn.preprocessing which is used for standardization.'''\n",
    "sc = StandardScaler()\n",
    "X_train_std = sc.fit_transform(X_train)\n",
    "X_test_std = sc.transform(X_test)\n",
    "print(f'Standardization on Training Set -\\n {X_train_std[:3]}\\n\\nStandardization on Testing Set -\\n {X_test_std[:3]}')"
   ]
  },
  {
   "cell_type": "markdown",
   "metadata": {
    "id": "jKG9lycMFwXA"
   },
   "source": [
    "### **9. Does the standard or min-max scaling make a difference in value distribution? Support your answers with some visualisations on the above dataset.**\n",
    "\n",
    "### **Some conclusions**:\n",
    "\n",
    "1. Feature scaling is about transforming the value of features in the similar range like others for machine learning algorithms to behave better resulting in optimal models.\n",
    "2. Feature scaling is not required for algorithms such as random forest or decision tree\n",
    "3. *Standardization and normalization* are two most common techniques for feature scaling.\n",
    "4. *Normalization* is about transforming the feature values to fall within the **bounded intervals** (min and max)\n",
    "5. *Standardization* is about transforming the feature values to **fall around mean as 0 with standard deviation as 1**\n",
    "6. *Standardization* maintains useful information about **outliers** and makes the algorithm less sensitive to them in contrast to min-max scaling\n",
    "7. *MinMaxScaler* class of sklearn.preprocessing is used for **normalization** of features.\n",
    "8. *StandardScaler* class of sklearn.preprocessing is used for **standardization** of features."
   ]
  },
  {
   "cell_type": "code",
   "execution_count": 73,
   "metadata": {
    "colab": {
     "base_uri": "https://localhost:8080/",
     "height": 334
    },
    "id": "fc24PaiLFxXl",
    "outputId": "6d0440dc-70b9-431c-ce61-695e0bdde6c6"
   },
   "outputs": [
    {
     "data": {
      "text/plain": [
       "<matplotlib.axes._subplots.AxesSubplot at 0x7f6e39c1fc90>"
      ]
     },
     "execution_count": 73,
     "metadata": {},
     "output_type": "execute_result"
    },
    {
     "data": {
      "image/png": "[encoded data removed]",
      "text/plain": [
       "<Figure size 432x288 with 1 Axes>"
      ]
     },
     "metadata": {},
     "output_type": "display_data"
    }
   ],
   "source": [
    "cereal.plot()"
   ]
  },
  {
   "cell_type": "code",
   "execution_count": 107,
   "metadata": {
    "colab": {
     "base_uri": "https://localhost:8080/",
     "height": 322
    },
    "id": "AbeNLF81O8wq",
    "outputId": "4ac64bb3-4093-4d23-c4f8-d8c85e4f6b26"
   },
   "outputs": [
    {
     "data": {
      "text/plain": [
       "<matplotlib.legend.Legend at 0x7f6e3a0de1d0>"
      ]
     },
     "execution_count": 107,
     "metadata": {},
     "output_type": "execute_result"
    },
    {
     "data": {
      "image/png": "[encoded data removed]",
      "text/plain": [
       "<Figure size 432x288 with 1 Axes>"
      ]
     },
     "metadata": {},
     "output_type": "display_data"
    }
   ],
   "source": [
    "plt.plot(StandardScaler().fit_transform(cereal[['calories', 'protein', 'fat', 'sodium', 'fiber', 'carbo', 'sugars']])[0], label='StandardScaler')\n",
    "plt.plot(MinMaxScaler().fit_transform(cereal[['calories', 'protein', 'fat', 'sodium', 'fiber', 'carbo', 'sugars']])[0], label='MinMaxScaler')\n",
    "plt.title('Scaling')\n",
    "plt.legend()"
   ]
  },
  {
   "cell_type": "markdown",
   "metadata": {
    "id": "PxznGc-dMwN9"
   },
   "source": [
    "### **10. As an extension of 7th step, Generate a new Pandas DataFrame with the following columns based on the Training Dataset: Split Ratio | Random State | Total Number of Entries | Count of Kellogg's | Count of Nestle | Count of Other Brands**\n",
    "\n"
   ]
  },
  {
   "cell_type": "code",
   "execution_count": 99,
   "metadata": {
    "colab": {
     "base_uri": "https://localhost:8080/",
     "height": 143
    },
    "id": "FjsL9535Lfua",
    "outputId": "73a39c0b-3017-4a7c-fea8-33c2b548d221"
   },
   "outputs": [
    {
     "data": {
      "text/html": [
       "\n",
       "  <div id=\"df-4228fc7a-5a3f-4cd1-b2d1-eb9c4dae2978\">\n",
       "    <div class=\"colab-df-container\">\n",
       "      <div>\n",
       "<style scoped>\n",
       "    .dataframe tbody tr th:only-of-type {\n",
       "        vertical-align: middle;\n",
       "    }\n",
       "\n",
       "    .dataframe tbody tr th {\n",
       "        vertical-align: top;\n",
       "    }\n",
       "\n",
       "    .dataframe thead th {\n",
       "        text-align: right;\n",
       "    }\n",
       "</style>\n",
       "<table border=\"1\" class=\"dataframe\">\n",
       "  <thead>\n",
       "    <tr style=\"text-align: right;\">\n",
       "      <th></th>\n",
       "      <th>SplitRatio</th>\n",
       "      <th>RandomState</th>\n",
       "      <th>TotalNumberofEntries</th>\n",
       "      <th>CountofKellogg</th>\n",
       "      <th>CountofNestle</th>\n",
       "      <th>CountofOtherBrands</th>\n",
       "    </tr>\n",
       "  </thead>\n",
       "  <tbody>\n",
       "    <tr>\n",
       "      <th>0</th>\n",
       "      <td>0.4</td>\n",
       "      <td>81</td>\n",
       "      <td>46</td>\n",
       "      <td>17</td>\n",
       "      <td>10</td>\n",
       "      <td>19</td>\n",
       "    </tr>\n",
       "    <tr>\n",
       "      <th>1</th>\n",
       "      <td>0.3</td>\n",
       "      <td>48</td>\n",
       "      <td>53</td>\n",
       "      <td>17</td>\n",
       "      <td>13</td>\n",
       "      <td>23</td>\n",
       "    </tr>\n",
       "    <tr>\n",
       "      <th>2</th>\n",
       "      <td>0.2</td>\n",
       "      <td>72</td>\n",
       "      <td>61</td>\n",
       "      <td>18</td>\n",
       "      <td>17</td>\n",
       "      <td>26</td>\n",
       "    </tr>\n",
       "  </tbody>\n",
       "</table>\n",
       "</div>\n",
       "      <button class=\"colab-df-convert\" onclick=\"convertToInteractive('df-4228fc7a-5a3f-4cd1-b2d1-eb9c4dae2978')\"\n",
       "              title=\"Convert this dataframe to an interactive table.\"\n",
       "              style=\"display:none;\">\n",
       "        \n",
       "  <svg xmlns=\"http://www.w3.org/2000/svg\" height=\"24px\"viewBox=\"0 0 24 24\"\n",
       "       width=\"24px\">\n",
       "    <path d=\"M0 0h24v24H0V0z\" fill=\"none\"/>\n",
       "    <path d=\"M18.56 5.44l.94 2.06.94-2.06 2.06-.94-2.06-.94-.94-2.06-.94 2.06-2.06.94zm-11 1L8.5 8.5l.94-2.06 2.06-.94-2.06-.94L8.5 2.5l-.94 2.06-2.06.94zm10 10l.94 2.06.94-2.06 2.06-.94-2.06-.94-.94-2.06-.94 2.06-2.06.94z\"/><path d=\"M17.41 7.96l-1.37-1.37c-.4-.4-.92-.59-1.43-.59-.52 0-1.04.2-1.43.59L10.3 9.45l-7.72 7.72c-.78.78-.78 2.05 0 2.83L4 21.41c.39.39.9.59 1.41.59.51 0 1.02-.2 1.41-.59l7.78-7.78 2.81-2.81c.8-.78.8-2.07 0-2.86zM5.41 20L4 18.59l7.72-7.72 1.47 1.35L5.41 20z\"/>\n",
       "  </svg>\n",
       "      </button>\n",
       "      \n",
       "  <style>\n",
       "    .colab-df-container {\n",
       "      display:flex;\n",
       "      flex-wrap:wrap;\n",
       "      gap: 12px;\n",
       "    }\n",
       "\n",
       "    .colab-df-convert {\n",
       "      background-color: #E8F0FE;\n",
       "      border: none;\n",
       "      border-radius: 50%;\n",
       "      cursor: pointer;\n",
       "      display: none;\n",
       "      fill: #1967D2;\n",
       "      height: 32px;\n",
       "      padding: 0 0 0 0;\n",
       "      width: 32px;\n",
       "    }\n",
       "\n",
       "    .colab-df-convert:hover {\n",
       "      background-color: #E2EBFA;\n",
       "      box-shadow: 0px 1px 2px rgba(60, 64, 67, 0.3), 0px 1px 3px 1px rgba(60, 64, 67, 0.15);\n",
       "      fill: #174EA6;\n",
       "    }\n",
       "\n",
       "    [theme=dark] .colab-df-convert {\n",
       "      background-color: #3B4455;\n",
       "      fill: #D2E3FC;\n",
       "    }\n",
       "\n",
       "    [theme=dark] .colab-df-convert:hover {\n",
       "      background-color: #434B5C;\n",
       "      box-shadow: 0px 1px 3px 1px rgba(0, 0, 0, 0.15);\n",
       "      filter: drop-shadow(0px 1px 2px rgba(0, 0, 0, 0.3));\n",
       "      fill: #FFFFFF;\n",
       "    }\n",
       "  </style>\n",
       "\n",
       "      <script>\n",
       "        const buttonEl =\n",
       "          document.querySelector('#df-4228fc7a-5a3f-4cd1-b2d1-eb9c4dae2978 button.colab-df-convert');\n",
       "        buttonEl.style.display =\n",
       "          google.colab.kernel.accessAllowed ? 'block' : 'none';\n",
       "\n",
       "        async function convertToInteractive(key) {\n",
       "          const element = document.querySelector('#df-4228fc7a-5a3f-4cd1-b2d1-eb9c4dae2978');\n",
       "          const dataTable =\n",
       "            await google.colab.kernel.invokeFunction('convertToInteractive',\n",
       "                                                     [key], {});\n",
       "          if (!dataTable) return;\n",
       "\n",
       "          const docLinkHtml = 'Like what you see? Visit the ' +\n",
       "            '<a target=\"_blank\" href=https://colab.research.google.com/notebooks/data_table.ipynb>data table notebook</a>'\n",
       "            + ' to learn more about interactive tables.';\n",
       "          element.innerHTML = '';\n",
       "          dataTable['output_type'] = 'display_data';\n",
       "          await google.colab.output.renderOutput(dataTable, element);\n",
       "          const docLink = document.createElement('div');\n",
       "          docLink.innerHTML = docLinkHtml;\n",
       "          element.appendChild(docLink);\n",
       "        }\n",
       "      </script>\n",
       "    </div>\n",
       "  </div>\n",
       "  "
      ],
      "text/plain": [
       "   SplitRatio  RandomState  TotalNumberofEntries  CountofKellogg  \\\n",
       "0         0.4           81                    46              17   \n",
       "1         0.3           48                    53              17   \n",
       "2         0.2           72                    61              18   \n",
       "\n",
       "   CountofNestle  CountofOtherBrands  \n",
       "0             10                  19  \n",
       "1             13                  23  \n",
       "2             17                  26  "
      ]
     },
     "execution_count": 99,
     "metadata": {},
     "output_type": "execute_result"
    }
   ],
   "source": [
    "import random\n",
    "empty = list()\n",
    "for i in [.4, .3, .2]: \n",
    "    X_train, X_test, y_train, y_test = train_test_split(cereal.iloc[:,1:-1],cereal.iloc[:,-1],test_size=i, random_state=random.randint(0,100))\n",
    "    empty.append([i, random.randint(0,100), X_train.shape[0], X_train['mfr'].value_counts()[1], X_train['mfr'].value_counts()[2], X_train['mfr'].value_counts()[0]])\n",
    "finaldata=pd.DataFrame(empty, columns=['SplitRatio','RandomState','TotalNumberofEntries','CountofKellogg','CountofNestle','CountofOtherBrands'])\n",
    "finaldata"
   ]
  },
  {
   "cell_type": "code",
   "execution_count": 105,
   "metadata": {
    "colab": {
     "base_uri": "https://localhost:8080/",
     "height": 318
    },
    "id": "fBzVjErKNpku",
    "outputId": "bfae6995-6fd7-459e-a39f-30229ea558b3"
   },
   "outputs": [
    {
     "data": {
      "text/plain": [
       "<matplotlib.legend.Legend at 0x7f6e3b93a050>"
      ]
     },
     "execution_count": 105,
     "metadata": {},
     "output_type": "execute_result"
    },
    {
     "data": {
      "text/plain": [
       "<Figure size 720x576 with 0 Axes>"
      ]
     },
     "metadata": {},
     "output_type": "display_data"
    },
    {
     "data": {
      "image/png": "[encoded data removed]",
      "text/plain": [
       "<Figure size 432x288 with 1 Axes>"
      ]
     },
     "metadata": {},
     "output_type": "display_data"
    }
   ],
   "source": [
    "finaldata.plot()"
   ]
  },
  {
   "cell_type": "code",
   "execution_count": null,
   "metadata": {
    "id": "Wf9HLTcnOP87"
   },
   "outputs": [],
   "source": []
  }
 ],
 "metadata": {
  "colab": {
   "collapsed_sections": [],
   "name": "ML_Lab3_21122018_DrashtyRanpara.ipynb",
   "provenance": []
  },
  "kernelspec": {
   "display_name": "Python 3",
   "language": "python",
   "name": "python3"
  },
  "language_info": {
   "codemirror_mode": {
    "name": "ipython",
    "version": 3
   },
   "file_extension": ".py",
   "mimetype": "text/x-python",
   "name": "python",
   "nbconvert_exporter": "python",
   "pygments_lexer": "ipython3",
   "version": "3.8.8"
  }
 },
 "nbformat": 4,
 "nbformat_minor": 1
}
