{
 "cells": [
  {
   "cell_type": "code",
   "execution_count": 5,
   "id": "0fcc8f60",
   "metadata": {},
   "outputs": [
    {
     "name": "stdout",
     "output_type": "stream",
     "text": [
      "Take my Name and Age:Deee,21\n",
      "Take my Name and Age:21\n"
     ]
    },
    {
     "data": {
      "text/plain": [
       "int"
      ]
     },
     "execution_count": 5,
     "metadata": {},
     "output_type": "execute_result"
    }
   ],
   "source": [
    "# By default input function's type is string\n",
    "a=input(\"Take my Name and Age:\")\n",
    "type(a)\n",
    "\n",
    "#Type casting from str to int\n",
    "b=int(input(\"Take my Name and Age:\"))\n",
    "type(b)"
   ]
  },
  {
   "cell_type": "code",
   "execution_count": 6,
   "id": "ab557309",
   "metadata": {},
   "outputs": [
    {
     "data": {
      "text/plain": [
       "[1, 3, 5, 7, 9]"
      ]
     },
     "execution_count": 6,
     "metadata": {},
     "output_type": "execute_result"
    }
   ],
   "source": [
    "list(range(1,10,2))"
   ]
  },
  {
   "cell_type": "code",
   "execution_count": 43,
   "id": "a8d2a34d",
   "metadata": {},
   "outputs": [
    {
     "name": "stdout",
     "output_type": "stream",
     "text": [
      "DeeDee\n",
      "18\n",
      "Drashty\"s\n",
      "Drashty\"s\n",
      "\n",
      "HELLO BEAUTIFUL WORLD!\n",
      "hello beautiful world!\n",
      "['Hello', 'beautiful', 'world!']\n",
      "['Hello', 'the most', 'beautiful', 'world!']\n",
      "['Hello beaut', 'ful world!']\n",
      "\n",
      "My name is Dee and age is 21\n",
      "\n"
     ]
    },
    {
     "data": {
      "text/plain": [
       "2"
      ]
     },
     "execution_count": 43,
     "metadata": {},
     "output_type": "execute_result"
    }
   ],
   "source": [
    "# For concatenation the types should be same among the 2 otherwise would raise an error\n",
    "print(\"Dee\" + \"Dee\")\n",
    "#\"Dee\" + 9 # Error since it cannot concatinate string with int\n",
    "print(9 + 9)\n",
    "#print(\"Dee\" + str(9))\n",
    "\n",
    "\n",
    "l=[89,90,91,92]\n",
    "l1=[1,2,3,4,5]\n",
    "# l + \"abcdef\"  --> Error since types are different, one is list and other is string\n",
    "l + [\"abcdef\"] #--> No error raised since now the types are both \"list\"\n",
    "\n",
    "\n",
    "print(\"Drashty\\\"s\")  # Other ways --> \"Drashty's\" or 'Drashty\"s' or 'Drashty\\\"s' \n",
    "print(\"\"\"Drashty\"s\"\"\",end='\\n\\n')\n",
    "\n",
    "\n",
    "str=\"Hello beautiful world!\"\n",
    "print(str.upper()) # Convert to Uppercase\n",
    "print(str.lower()) # Convert to Lowercase\n",
    "str1=\"Hello,the most,beautiful,world!\"\n",
    "print(str.split()) # Split every words into list\n",
    "print(str1.split(','))\n",
    "print(str.split('i'),end='\\n\\n')\n",
    "\n",
    "# Runtime dynamic allocation\n",
    "print(\"My name is {} and age is {}\".format(\"Dee\",21),end='\\n\\n')\n",
    "\n",
    "# Find index of char\n",
    "str.find('l') # first postion of 'l' occuring in str\n"
   ]
  },
  {
   "cell_type": "code",
   "execution_count": 65,
   "id": "e3637eeb",
   "metadata": {},
   "outputs": [
    {
     "name": "stdout",
     "output_type": "stream",
     "text": [
      "[2, 3, 9]\n",
      "['l', 'l', 'l']\n"
     ]
    }
   ],
   "source": [
    "s=\"hello world\"\n",
    "l=[]\n",
    "l1=[]\n",
    "for i in range(len(s)):\n",
    "    if s[i]=='l':\n",
    "        l.append(i)\n",
    "        l1.append(s[i])\n",
    "print(l,l1,sep='\\n')"
   ]
  },
  {
   "cell_type": "code",
   "execution_count": 23,
   "id": "585de111",
   "metadata": {},
   "outputs": [
    {
     "name": "stdout",
     "output_type": "stream",
     "text": [
      "*****Drashty*****\n",
      "Hello   world\n",
      "True\n",
      "True\n",
      "False\n",
      "False\n",
      "False\n",
      "True\n",
      "True\n",
      "DrashtyDrashtyDrashty\n",
      "[1, 2, 3, 1, 2, 3, 1, 2, 3]\n",
      "\n",
      "Append opeartion [1, 2, 3, 4, 5, 6, 7, 7, 8, 'Drashty', 'Soni']\n",
      "Insert Operation  [1, 2, 'Deeee', 3, 4, 5, 6, 7, 7, 8, 'Drashty', 'Soni']\n",
      "Pop without args [1, 2, 'Deeee', 3, 4, 5, 6, 7, 7, 8, 'Drashty']\n",
      "Pop with specified position [1, 2, 'Deeee', 3, 5, 6, 7, 7, 8, 'Drashty']\n",
      "['Drashty', 8, 7, 7, 6, 5, 3, 'Deeee', 2, 1]\n",
      "[1, 2, 'Deeee', 3, 5, 6, 7, 7, 8, 'Drashty']\n",
      "Reversing original list  ['Drashty', 8, 7, 7, 6, 5, 3, 'Deeee', 2, 1]\n",
      "Numeric Sorting  [1, 3, 4, 5, 5, 6, 7, 8, 9]\n",
      "String Sorting ['Drashty', 'aaa', 'abc', 'xyz']\n"
     ]
    }
   ],
   "source": [
    "s=\"Drashty\"\n",
    "s1=\" \"\n",
    "print(s.center(17,'*'))\n",
    "\n",
    "print('Hello\\tworld'.expandtabs())\n",
    "\n",
    "print(s.isalnum())\n",
    "print(s.isalpha())\n",
    "print(s.isnumeric())\n",
    "print(s.islower())\n",
    "print(s.isupper())\n",
    "print(s1.isspace())\n",
    "print(s.istitle()) # Word starting from a capital letter\n",
    "\n",
    "print(\"Drashty\" * 3)\n",
    "print([1,2,3]*3,end='\\n\\n')\n",
    "\n",
    "l=[1,2,3,4,5,6,7,7,8,\"Drashty\"]\n",
    "l.append(\"Soni\") # Inserts only at tail\n",
    "print(\"Append opeartion\",l)\n",
    "\n",
    "l.insert(2,\"Deeee\") # Inserts data at any specified position\n",
    "print(\"Insert Operation \",l)\n",
    "\n",
    "l.pop() # Deletes data from tail as well as specified position\n",
    "print(\"Pop without args\",l)\n",
    "l.pop(4)\n",
    "print(\"Pop with specified position\",l)\n",
    "\n",
    "print(l[::-1]) # Reverse the list without modifying the original list\n",
    "print(l)\n",
    "l.reverse()\n",
    "print(\"Reversing original list \",l) # Reverse the list with modifying the original list\n",
    "\n",
    "l1=[3,4,8,1,5,5,6,7,9]\n",
    "l1.sort()\n",
    "print(\"Numeric Sorting \",l1) # Arranging in ascending order without removing duplicate values\n",
    "str1=[\"Drashty\",\"abc\",'xyz',\"aaa\"]\n",
    "str1.sort()\n",
    "print(\"String Sorting\",str1)"
   ]
  },
  {
   "cell_type": "code",
   "execution_count": 47,
   "id": "3bc41c0e",
   "metadata": {},
   "outputs": [
    {
     "name": "stdout",
     "output_type": "stream",
     "text": [
      "List Within List  [[1, 2, 3, 4], [5, 6, 7, 8], [9, 10, 11, 12]]\n",
      "[3]\n",
      "[3, 7]\n",
      "[3, 7, 11]\n",
      "Getting element at index 2 from all 3 lists  [3, 7, 11]\n",
      "List comprehension  [3, 7, 11]\n",
      "[4, 5, 6, 6, [9, 10, 11]]\n",
      "Extended List  [4, 5, 6, 6, [9, 10, 11], 11, 12, 13]\n"
     ]
    }
   ],
   "source": [
    "l1=[1,2,3,4]\n",
    "l2=[5,6,7,8]\n",
    "l3=[9,10,11,12]\n",
    "l=[l1,l2,l3]\n",
    "print(\"List Within List \",l)\n",
    "\n",
    "n=[]\n",
    "for i in l:\n",
    "    n.append(i[2])\n",
    "    print(n)\n",
    "print(\"Getting element at index 2 from all 3 lists \",n)\n",
    "\n",
    "# Shorthand of above code, assembling in a single line -> List Comprehension\n",
    "print('List comprehension ',[i[2] for i in l])\n",
    "\n",
    "l4=[4,5,6,6]\n",
    "l4.append([9,10,11]) # Append the list\n",
    "print(l4)\n",
    "l4.extend([11,12,13]) # Extend the List\n",
    "print(\"Extended List \",l4)\n",
    "\n"
   ]
  },
  {
   "cell_type": "code",
   "execution_count": 75,
   "id": "6862d06f",
   "metadata": {},
   "outputs": [
    {
     "name": "stdout",
     "output_type": "stream",
     "text": [
      "[1, 3, 4, 5, 6, 4, 8, 9, 22]\n",
      "[1, 3, 4, 5, 6, 4, 8, 9, 22]\n",
      "[40, 38, 36, 34, 32, 30, 28, 26, 24, 22, 20, 18, 16, 14, 12, 10]\n"
     ]
    }
   ],
   "source": [
    "l=[1,2,3,4,5,6,2,2,4,2,8,9,22,2]\n",
    "l=[i for i in l if i != 2]\n",
    "print(l)\n",
    "\n",
    "while 2 in l:\n",
    "    l.remove(2)\n",
    "print(l)\n",
    "\n",
    "print(list(range(40,9,-2)))"
   ]
  }
 ],
 "metadata": {
  "kernelspec": {
   "display_name": "Python 3",
   "language": "python",
   "name": "python3"
  },
  "language_info": {
   "codemirror_mode": {
    "name": "ipython",
    "version": 3
   },
   "file_extension": ".py",
   "mimetype": "text/x-python",
   "name": "python",
   "nbconvert_exporter": "python",
   "pygments_lexer": "ipython3",
   "version": "3.8.8"
  }
 },
 "nbformat": 4,
 "nbformat_minor": 5
}
