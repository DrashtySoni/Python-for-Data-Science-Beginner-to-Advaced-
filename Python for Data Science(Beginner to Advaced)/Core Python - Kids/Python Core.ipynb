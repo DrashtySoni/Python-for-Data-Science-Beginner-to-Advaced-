{
 "cells": [
  {
   "cell_type": "code",
   "execution_count": 104,
   "id": "f3097266",
   "metadata": {},
   "outputs": [
    {
     "data": {
      "text/plain": [
       "'C:\\\\Users\\\\Rushi'"
      ]
     },
     "execution_count": 104,
     "metadata": {},
     "output_type": "execute_result"
    }
   ],
   "source": [
    "pwd()"
   ]
  },
  {
   "cell_type": "markdown",
   "id": "cf324490",
   "metadata": {},
   "source": [
    "# Shift + Enter for help"
   ]
  },
  {
   "cell_type": "code",
   "execution_count": 105,
   "id": "0997c4ca",
   "metadata": {},
   "outputs": [
    {
     "data": {
      "text/plain": [
       "3"
      ]
     },
     "execution_count": 105,
     "metadata": {},
     "output_type": "execute_result"
    }
   ],
   "source": [
    "1+2"
   ]
  },
  {
   "cell_type": "code",
   "execution_count": 106,
   "id": "df39c7d8",
   "metadata": {},
   "outputs": [
    {
     "name": "stdout",
     "output_type": "stream",
     "text": [
      "1\n"
     ]
    },
    {
     "data": {
      "text/plain": [
       "float"
      ]
     },
     "execution_count": 106,
     "metadata": {},
     "output_type": "execute_result"
    }
   ],
   "source": [
    "type(1)\n",
    "type(print(1))\n",
    "type('Drashty')\n",
    "type(9.9)"
   ]
  },
  {
   "cell_type": "code",
   "execution_count": 107,
   "id": "433ad8e2",
   "metadata": {},
   "outputs": [
    {
     "name": "stdout",
     "output_type": "stream",
     "text": [
      "2\n",
      "1\n",
      "0\n"
     ]
    }
   ],
   "source": [
    "# True=1 hence 1+1=2\n",
    "print(True + True)\n",
    "# True=1, False=0 hence 1+0=1\n",
    "print(True + False)\n",
    "# False=0 hence 0+0=0\n",
    "print(False + False)\n"
   ]
  },
  {
   "cell_type": "code",
   "execution_count": 108,
   "id": "accbbbf3",
   "metadata": {},
   "outputs": [
    {
     "name": "stdout",
     "output_type": "stream",
     "text": [
      "3.0\n",
      "7.0\n",
      "(3-7j)\n"
     ]
    }
   ],
   "source": [
    "c=3+7j\n",
    "type(c)\n",
    "# Real number\n",
    "print(c.real)\n",
    "# Imaginary number\n",
    "print(c.imag)\n",
    "# Mirror of original expression\n",
    "print(c.conjugate())"
   ]
  },
  {
   "cell_type": "code",
   "execution_count": 2,
   "id": "e1eb939a",
   "metadata": {},
   "outputs": [
    {
     "name": "stdout",
     "output_type": "stream",
     "text": [
      "<class 'str'>\n",
      "h\n",
      "a\n",
      "15\n",
      "Drash\n",
      "Dsya\n",
      "arapnaR ythsar\n",
      "arapnaR ythsarD\n",
      "Drashty Ranpara\n",
      "rashty Ranpara\n",
      "D\n"
     ]
    }
   ],
   "source": [
    "d='Drashty Ranpara'\n",
    "print(type(d))\n",
    "print(d[4])\n",
    "print(d[-1])\n",
    "print(len(d))\n",
    "a=89\n",
    "# Length function returns only if it's a collection\n",
    "# print(len(a))\n",
    "print(d[0:5])\n",
    "# Jumps 3 spaces from starting point 0 = 0+3=3 so gives 's' and the chain con. to endpoint till 10\n",
    "print(d[0:10:3])\n",
    "# Reserve jump\n",
    "print(d[15:0:-1])\n",
    "print(d[::-1])\n",
    "print(d[::1]) \n",
    "print(d[1:])\n",
    "print(d[:1]) "
   ]
  },
  {
   "cell_type": "code",
   "execution_count": null,
   "id": "d9af2282",
   "metadata": {},
   "outputs": [],
   "source": [
    "# Immutable Strings - Wouldn't be able to make changes in the indexes of the collection\n",
    "d[0]='Z' # Will raise an error\n",
    "input()"
   ]
  },
  {
   "cell_type": "code",
   "execution_count": null,
   "id": "cb300c0c",
   "metadata": {},
   "outputs": [],
   "source": [
    "# Python core doesn't hole array it's present with numpy package\n",
    "l=[]\n",
    "list_values=[1,2,3,4,\"Drashty\",9.99,True,17 + 20j]\n",
    "\n",
    "print(type(l))\n",
    "print(l)\n",
    "print(list_values)\n",
    "print(list_values[::-1])\n",
    "print(list_values[-1:0:-2],end='\\n\\n')\n",
    "\n",
    "#Mutable List - Changes could be made in the indexes of a collection\n",
    "print(list_values)\n",
    "list_values[0]=\"Dee\"\n",
    "print(list_values)"
   ]
  },
  {
   "cell_type": "code",
   "execution_count": null,
   "id": "61f0f66d",
   "metadata": {},
   "outputs": [],
   "source": [
    "i=11\n",
    "#if(i < 10) & (i==11):\n",
    "if(i < 10) | (i==11):\n",
    "    print('Condition is True')\n",
    "elif i==12:\n",
    "    print('Condition matched')\n",
    "else : \n",
    "    print('This is default statement.')\n",
    "\n",
    "# If you don't want to have any statement inside the block, pass keyword is used since we couldn't leave the block empty\n",
    "if(i < 10):\n",
    "    pass\n",
    "\n",
    "i=10\n",
    "s=\"Drashty\"\n",
    "if i==10:\n",
    "    if(type(s)==str):\n",
    "        print(\"Name : \"+s)\n",
    "    else : \n",
    "        print(\"Nested else default block\")\n",
    "else:\n",
    "    print(\"Main else default block\")"
   ]
  },
  {
   "cell_type": "code",
   "execution_count": 117,
   "id": "afff1767",
   "metadata": {},
   "outputs": [
    {
     "name": "stdout",
     "output_type": "stream",
     "text": [
      "[1, 2, 3, 4.4, 5, 6, 7, 8, 'Drashty', 9.99, 'xyz']\n",
      "1\n",
      "3\n",
      "6\n",
      "11\n",
      "17\n",
      "24\n",
      "32\n",
      "Else with for block\n",
      "\n",
      "4\n",
      "\n",
      "5\n",
      "\n",
      "D\n",
      "r\n",
      "a\n",
      "s\n",
      "h\n",
      "t\n",
      "y\n",
      " \n",
      "a\n",
      "n\n",
      "p\n",
      "a\n",
      "r\n",
      "a\n",
      "for loop completion\n"
     ]
    },
    {
     "data": {
      "text/plain": [
       "range(1, 4)"
      ]
     },
     "execution_count": 117,
     "metadata": {},
     "output_type": "execute_result"
    }
   ],
   "source": [
    "l=[1,2,3,4.4,5,6,7,8,\"Drashty\",9.99,\"xyz\"]\n",
    "print(l)\n",
    "#print(l[0],end='\\n\\n')\n",
    "\n",
    "\n",
    "####################################################################################    \n",
    "# Extracted the data drom list collection\n",
    "m=[] # Blank List\n",
    "sum=0\n",
    "for i in l:\n",
    "    #print(i)\n",
    "    if type(i)==int:\n",
    "        sum += i;\n",
    "        print(sum) \n",
    "        #m.append(i) # add elements to blank list\n",
    "        #m.append(i/10)\n",
    "# else getss executed when there is completion of for loop\n",
    "else:\n",
    "    print(\"Else with for block\",end='\\n\\n')\n",
    "    \n",
    "    \n",
    "####################################################################################    \n",
    "ll=[4,5,6,6]\n",
    "for j in ll:\n",
    "    if j==6:\n",
    "        break\n",
    "    print(j,end='\\n\\n')\n",
    "# Here else isn't executed since break is applied and hence the loop isn't completed\n",
    "else:\n",
    "    print(\"For loop completion\",end='\\n\\n')\n",
    "    \n",
    "    \n",
    "####################################################################################    \n",
    "str=\"Drashty Ranpara\"\n",
    "for s in str:\n",
    "    if s=='R':\n",
    "        continue\n",
    "    print(s)\n",
    "else:\n",
    "    print(\"for loop completion\")\n",
    "    \n",
    "#####################################################################################\n",
    "#list(range(6))\n",
    "range(1,4)"
   ]
  },
  {
   "cell_type": "code",
   "execution_count": null,
   "id": "9ddfa6c2",
   "metadata": {},
   "outputs": [],
   "source": [
    "l=[5,6,7,4,5,6,\"Drashty\",\"Ranpara\"]\n",
    "print('Entire List',l)\n",
    "print('Length of the list',len(l),end='\\n\\n')\n",
    "for i in range(len(l)):\n",
    "    print (l[i])"
   ]
  },
  {
   "cell_type": "code",
   "execution_count": null,
   "id": "3ea21c1f",
   "metadata": {},
   "outputs": [],
   "source": [
    "a=input(\"Take my Name & Age\")\n",
    "type(a)"
   ]
  }
 ],
 "metadata": {
  "kernelspec": {
   "display_name": "Python 3",
   "language": "python",
   "name": "python3"
  },
  "language_info": {
   "codemirror_mode": {
    "name": "ipython",
    "version": 3
   },
   "file_extension": ".py",
   "mimetype": "text/x-python",
   "name": "python",
   "nbconvert_exporter": "python",
   "pygments_lexer": "ipython3",
   "version": "3.8.8"
  }
 },
 "nbformat": 4,
 "nbformat_minor": 5
}
