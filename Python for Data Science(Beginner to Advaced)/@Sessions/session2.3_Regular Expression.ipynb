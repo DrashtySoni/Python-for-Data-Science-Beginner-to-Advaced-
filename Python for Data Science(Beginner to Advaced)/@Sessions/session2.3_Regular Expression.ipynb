{
 "cells": [
  {
   "cell_type": "code",
   "execution_count": 1,
   "id": "90b2ea67",
   "metadata": {},
   "outputs": [],
   "source": [
    "import re"
   ]
  },
  {
   "cell_type": "code",
   "execution_count": 4,
   "id": "67ae9cbf",
   "metadata": {},
   "outputs": [
    {
     "name": "stdout",
     "output_type": "stream",
     "text": [
      "Enter NameID:Drashty\n",
      "Found\n"
     ]
    }
   ],
   "source": [
    "str1=input('Enter Name = ')\n",
    "print('Found' if(re.search(re.compile('ID:\\w+'),str1)) else 'Not Found') #\\w+ = 1/more occ. in [A-z a-z 0-9]"
   ]
  },
  {
   "cell_type": "code",
   "execution_count": 9,
   "id": "d0581f99",
   "metadata": {},
   "outputs": [
    {
     "name": "stdout",
     "output_type": "stream",
     "text": [
      "Enter Mobile Number = 8866099362\n",
      "Found\n"
     ]
    }
   ],
   "source": [
    "str2=input('Enter Mobile Number = ')\n",
    "print('Found' if(re.search(re.compile('^[6-9][0-9]{9}'),str2)) else 'Not Found') #^[6-9][0-9]{9} = start no with range 6-9 followed by any number btwn 0-9 which can be 9 numbers at max since first number is btwn 6-9"
   ]
  }
 ],
 "metadata": {
  "kernelspec": {
   "display_name": "Python 3",
   "language": "python",
   "name": "python3"
  },
  "language_info": {
   "codemirror_mode": {
    "name": "ipython",
    "version": 3
   },
   "file_extension": ".py",
   "mimetype": "text/x-python",
   "name": "python",
   "nbconvert_exporter": "python",
   "pygments_lexer": "ipython3",
   "version": "3.8.8"
  }
 },
 "nbformat": 4,
 "nbformat_minor": 5
}
